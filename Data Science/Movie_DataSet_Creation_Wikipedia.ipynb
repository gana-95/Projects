{
  "nbformat": 4,
  "nbformat_minor": 0,
  "metadata": {
    "colab": {
      "name": "Movie DataSet Creation - Wikipedia",
      "provenance": [],
      "collapsed_sections": [],
      "toc_visible": true
    },
    "kernelspec": {
      "name": "python3",
      "display_name": "Python 3"
    },
    "language_info": {
      "name": "python"
    }
  },
  "cells": [
    {
      "cell_type": "markdown",
      "metadata": {
        "id": "CbNiasOeV9Dl"
      },
      "source": [
        "## Task 1: Get Info Box for Toy Story 3 (store in Dictionary)\n",
        "\n",
        "### Import libraries"
      ]
    },
    {
      "cell_type": "code",
      "metadata": {
        "id": "ZXC_lbq-VzDP"
      },
      "source": [
        "from bs4 import BeautifulSoup as bs\n",
        "import requests"
      ],
      "execution_count": null,
      "outputs": []
    },
    {
      "cell_type": "markdown",
      "metadata": {
        "id": "HPJ9KVrvV7kU"
      },
      "source": [
        "### Load the webpage"
      ]
    },
    {
      "cell_type": "code",
      "metadata": {
        "id": "86Lcq3pEWPIF"
      },
      "source": [
        "r = requests.get('https://en.wikipedia.org/wiki/Toy_Story_3')\n",
        "\n",
        "# Convert to a beautiful soup object\n",
        "soup = bs(r.content)\n",
        "\n",
        "# Print out the html\n",
        "contents = soup.prettify()\n",
        "print(contents)"
      ],
      "execution_count": null,
      "outputs": []
    },
    {
      "cell_type": "code",
      "metadata": {
        "id": "v0FYT7AoWj40"
      },
      "source": [
        "info_box = soup.find(class_ = \"infobox vevent\")\n",
        "info_rows = info_box.find_all(\"tr\")\n",
        "for row in info_rows:\n",
        "  print(row.prettify())"
      ],
      "execution_count": null,
      "outputs": []
    },
    {
      "cell_type": "code",
      "metadata": {
        "id": "1LeCWpdSXA_X"
      },
      "source": [
        "movie_info = {}\n",
        "\n",
        "def get_content_value(row_data):\n",
        "  if row_data.find(\"li\"):\n",
        "    return [li.get_text(\" \", strip = True).replace(\"\\xa0\", \" \") for li in row_data.find_all(\"li\")]\n",
        "  else:\n",
        "    return row_data.get_text(\" \", strip = True).replace(\"\\xa0\", \" \")\n",
        "\n",
        "for index, row in enumerate(info_rows):\n",
        "  if index == 0:\n",
        "    movie_info['title'] = row.find(\"th\").get_text(\" \", strip = True)\n",
        "  elif index == 1:\n",
        "    continue\n",
        "  else:\n",
        "    content_key = row.find('th').get_text(\" \", strip = True)\n",
        "    content_value = get_content_value(row.find(\"td\"))\n",
        "    movie_info[content_key] = content_value\n",
        "\n",
        "print(movie_info)"
      ],
      "execution_count": null,
      "outputs": []
    },
    {
      "cell_type": "markdown",
      "metadata": {
        "id": "ASkkRZgaNWi_"
      },
      "source": [
        "## Task 2: Get info box for all movies of Disney"
      ]
    },
    {
      "cell_type": "code",
      "metadata": {
        "id": "BlHzqM_9X7hG"
      },
      "source": [
        "r = requests.get('https://en.wikipedia.org/wiki/List_of_Walt_Disney_Pictures_films')\n",
        "\n",
        "# Convert to a beautiful soup object\n",
        "soup = bs(r.content)\n",
        "\n",
        "# Print out the html\n",
        "contents = soup.prettify()\n",
        "print(contents)"
      ],
      "execution_count": null,
      "outputs": []
    },
    {
      "cell_type": "code",
      "metadata": {
        "colab": {
          "base_uri": "https://localhost:8080/"
        },
        "id": "IP4mctHTNuKk",
        "outputId": "a61e7c55-7c07-4445-b604-9ec9b07a21b3"
      },
      "source": [
        "movies = soup.select(\".wikitable.sortable i\")\n",
        "movies[0:10]\n",
        "movies[0].a['href']"
      ],
      "execution_count": null,
      "outputs": [
        {
          "output_type": "execute_result",
          "data": {
            "text/plain": [
              "<i><a href=\"/wiki/Academy_Award_Review_of_Walt_Disney_Cartoons\" title=\"Academy Award Review of Walt Disney Cartoons\">Academy Award Review of Walt Disney Cartoons</a></i>"
            ]
          },
          "metadata": {
            "tags": []
          },
          "execution_count": 13
        }
      ]
    },
    {
      "cell_type": "code",
      "metadata": {
        "id": "ZzihKTSmTH6I"
      },
      "source": [
        "def get_content_value(row_data):\n",
        "  if row_data.find(\"li\"):\n",
        "    return [li.get_text(\" \", strip = True).replace(\"\\xa0\", \" \") for li in row_data.find_all(\"li\")]\n",
        "  else:\n",
        "    return row_data.get_text(\" \", strip = True).replace(\"\\xa0\", \" \")\n",
        "\n",
        "def get_info_box(url):\n",
        "\n",
        "  r = requests.get(url)\n",
        "\n",
        "  # Convert to a beautiful soup object\n",
        "  soup = bs(r.content)\n",
        "  info_box = soup.find(class_ = \"infobox vevent\")\n",
        "  info_rows = info_box.find_all(\"tr\")\n",
        "  \n",
        "  movie_info = {}\n",
        "\n",
        "  for index, row in enumerate(info_rows):\n",
        "    if index == 0:\n",
        "      movie_info['title'] = row.find(\"th\").get_text(\" \", strip = True)\n",
        "    elif index == 1:\n",
        "      continue\n",
        "    else:\n",
        "      content_key = row.find('th').get_text(\" \", strip = True)\n",
        "      content_value = get_content_value(row.find(\"td\"))\n",
        "      movie_info[content_key] = content_value\n",
        "\n",
        "  return movie_info"
      ],
      "execution_count": null,
      "outputs": []
    },
    {
      "cell_type": "code",
      "metadata": {
        "colab": {
          "base_uri": "https://localhost:8080/"
        },
        "id": "Z49EBf8hYfZY",
        "outputId": "5ed3c1d9-f79e-43dc-a44b-47c80ccdb992"
      },
      "source": [
        "r = requests.get('https://en.wikipedia.org/wiki/List_of_Walt_Disney_Pictures_films')\n",
        "soup = bs(r.content)\n",
        "movies = soup.select(\".wikitable.sortable i a\")\n",
        "\n",
        "base_path = \"https://en.wikipedia.org\"\n",
        "\n",
        "movie_info_list = []\n",
        "for index, movie in enumerate(movies):\n",
        "  try:\n",
        "    relative_path = movie['href']\n",
        "    full_path = base_path + relative_path\n",
        "    title = movie['title']\n",
        "\n",
        "    movie_info_list.append(get_info_box(full_path))\n",
        "\n",
        "    #print(movie_info_list)\n",
        "    #print(title)\n",
        "    #print()\n",
        "  \n",
        "  except Exception as e:\n",
        "    print(movie.get_text())\n",
        "    print(e)"
      ],
      "execution_count": null,
      "outputs": [
        {
          "output_type": "stream",
          "text": [
            "Zorro the Avenger\n",
            "'NoneType' object has no attribute 'find'\n",
            "The Sign of Zorro\n",
            "'NoneType' object has no attribute 'find'\n",
            "One Little Indian\n",
            "'NoneType' object has no attribute 'get_text'\n",
            "True-Life Adventures\n",
            "'NoneType' object has no attribute 'find_all'\n",
            "Spirited Away\n",
            "'NoneType' object has no attribute 'get_text'\n",
            "Howl's Moving Castle\n",
            "'NoneType' object has no attribute 'get_text'\n",
            "The Nightmare Before Christmas 3D\n",
            "'NoneType' object has no attribute 'get_text'\n",
            "The Secret of the Magic Gourd\n",
            "'NoneType' object has no attribute 'get_text'\n",
            "Ponyo\n",
            "'NoneType' object has no attribute 'get_text'\n",
            "Tales from Earthsea\n",
            "'NoneType' object has no attribute 'get_text'\n",
            "The Secret World of Arrietty\n",
            "'NoneType' object has no attribute 'get_text'\n",
            "Khoobsurat\n",
            "'NoneType' object has no attribute 'get_text'\n",
            "Tini: The Movie\n",
            "'NoneType' object has no attribute 'get_text'\n",
            "Born in China\n",
            "'NoneType' object has no attribute 'get_text'\n"
          ],
          "name": "stdout"
        }
      ]
    },
    {
      "cell_type": "code",
      "metadata": {
        "colab": {
          "base_uri": "https://localhost:8080/"
        },
        "id": "kDx2oCyPY0iM",
        "outputId": "3f9b9aff-e690-4e97-8057-a825c435b5fe"
      },
      "source": [
        "len(movie_info_list)"
      ],
      "execution_count": null,
      "outputs": [
        {
          "output_type": "execute_result",
          "data": {
            "text/plain": [
              "436"
            ]
          },
          "metadata": {
            "tags": []
          },
          "execution_count": 43
        }
      ]
    },
    {
      "cell_type": "markdown",
      "metadata": {
        "id": "3v8ab3kzdxo2"
      },
      "source": [
        "### Save/Reload Movie Data"
      ]
    },
    {
      "cell_type": "code",
      "metadata": {
        "id": "wKUtEXc-baUv"
      },
      "source": [
        "import json\n",
        "\n",
        "def save_data(title, data):\n",
        "  with open(title, 'w', encoding = 'utf-8') as f:\n",
        "    json.dump(data, f, ensure_ascii = False, indent = 2)"
      ],
      "execution_count": null,
      "outputs": []
    },
    {
      "cell_type": "code",
      "metadata": {
        "id": "Zpcexjk1el-q"
      },
      "source": [
        "import json\n",
        "\n",
        "def load_data(title):\n",
        "  with open(title, encoding = 'utf-8') as f:\n",
        "    return json.load(f)"
      ],
      "execution_count": null,
      "outputs": []
    },
    {
      "cell_type": "code",
      "metadata": {
        "id": "z4f_NLlHezzW"
      },
      "source": [
        "save_data(\"disney_data.json\", movie_info_list)"
      ],
      "execution_count": null,
      "outputs": []
    },
    {
      "cell_type": "markdown",
      "metadata": {
        "id": "hForxiBml4F3"
      },
      "source": [
        "## Task 3: Clean the data"
      ]
    },
    {
      "cell_type": "code",
      "metadata": {
        "id": "5FBUfMdKe49X"
      },
      "source": [
        "movie_info_list = load_data(\"disney_data.json\")"
      ],
      "execution_count": null,
      "outputs": []
    },
    {
      "cell_type": "markdown",
      "metadata": {
        "id": "TLqChpB1mEA2"
      },
      "source": [
        "### Subtasks\n",
        "\n",
        "* Clean up references [1]\n",
        "* Convert running time into an integer\n",
        "* Convert dates into datetime object\n",
        "* Split up the long strings\n",
        "* Convert Budget and Box Office to numbers"
      ]
    },
    {
      "cell_type": "code",
      "metadata": {
        "id": "HH4gmUatmBwj"
      },
      "source": [
        ""
      ],
      "execution_count": null,
      "outputs": []
    }
  ]
}