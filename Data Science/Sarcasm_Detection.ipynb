{
  "nbformat": 4,
  "nbformat_minor": 0,
  "metadata": {
    "colab": {
      "name": "Cognistix_Sarcasm",
      "provenance": []
    },
    "kernelspec": {
      "name": "python3",
      "display_name": "Python 3"
    },
    "language_info": {
      "name": "python"
    }
  },
  "cells": [
    {
      "cell_type": "code",
      "metadata": {
        "id": "BT2y0z5PStKG"
      },
      "source": [
        "import numpy as np\n",
        "import pandas as pd\n",
        "# For visualizations\n",
        "import matplotlib.pyplot as plt\n",
        "# For regular expressions\n",
        "import re\n",
        "# For handling string\n",
        "import string\n",
        "# For performing mathematical operations\n",
        "import math"
      ],
      "execution_count": 8,
      "outputs": []
    },
    {
      "cell_type": "code",
      "metadata": {
        "id": "o5Z3pSrNWZG8"
      },
      "source": [
        "import warnings\n",
        "warnings.filterwarnings(\"ignore\")"
      ],
      "execution_count": 19,
      "outputs": []
    },
    {
      "cell_type": "code",
      "metadata": {
        "id": "Wo6GDeCoS5XR"
      },
      "source": [
        "train = pd.read_csv('train.csv')\n",
        "test = pd.read_csv('test.csv')"
      ],
      "execution_count": 2,
      "outputs": []
    },
    {
      "cell_type": "code",
      "metadata": {
        "colab": {
          "base_uri": "https://localhost:8080/"
        },
        "id": "tMnFaslTS-lI",
        "outputId": "6c38b146-f414-4f3c-c314-0d541f0afc63"
      },
      "source": [
        "train.shape"
      ],
      "execution_count": 3,
      "outputs": [
        {
          "output_type": "execute_result",
          "data": {
            "text/plain": [
              "(15000, 10)"
            ]
          },
          "metadata": {
            "tags": []
          },
          "execution_count": 3
        }
      ]
    },
    {
      "cell_type": "code",
      "metadata": {
        "colab": {
          "base_uri": "https://localhost:8080/",
          "height": 204
        },
        "id": "1eUHfnEcS_fg",
        "outputId": "3a87f4e3-8b19-42ca-e452-c8a516ea19e5"
      },
      "source": [
        "train.head()"
      ],
      "execution_count": 7,
      "outputs": [
        {
          "output_type": "execute_result",
          "data": {
            "text/html": [
              "<div>\n",
              "<style scoped>\n",
              "    .dataframe tbody tr th:only-of-type {\n",
              "        vertical-align: middle;\n",
              "    }\n",
              "\n",
              "    .dataframe tbody tr th {\n",
              "        vertical-align: top;\n",
              "    }\n",
              "\n",
              "    .dataframe thead th {\n",
              "        text-align: right;\n",
              "    }\n",
              "</style>\n",
              "<table border=\"1\" class=\"dataframe\">\n",
              "  <thead>\n",
              "    <tr style=\"text-align: right;\">\n",
              "      <th></th>\n",
              "      <th>ID</th>\n",
              "      <th>comment</th>\n",
              "      <th>date</th>\n",
              "      <th>down</th>\n",
              "      <th>parent_comment</th>\n",
              "      <th>score</th>\n",
              "      <th>top</th>\n",
              "      <th>topic</th>\n",
              "      <th>user</th>\n",
              "      <th>label</th>\n",
              "    </tr>\n",
              "  </thead>\n",
              "  <tbody>\n",
              "    <tr>\n",
              "      <th>0</th>\n",
              "      <td>uid_590555</td>\n",
              "      <td>Well, let's be honest here, they don't actuall...</td>\n",
              "      <td>2015-04</td>\n",
              "      <td>0</td>\n",
              "      <td>They should shut the fuck up and let the commu...</td>\n",
              "      <td>2</td>\n",
              "      <td>2</td>\n",
              "      <td>starcitizen</td>\n",
              "      <td>Combat_Wombatz</td>\n",
              "      <td>0</td>\n",
              "    </tr>\n",
              "    <tr>\n",
              "      <th>1</th>\n",
              "      <td>uid_671762</td>\n",
              "      <td>Well, I didn't need evidence to believe in com...</td>\n",
              "      <td>2016-12</td>\n",
              "      <td>-1</td>\n",
              "      <td>You need evidence to kill people? I thought we...</td>\n",
              "      <td>6</td>\n",
              "      <td>-1</td>\n",
              "      <td>EnoughCommieSpam</td>\n",
              "      <td>starkadd</td>\n",
              "      <td>1</td>\n",
              "    </tr>\n",
              "    <tr>\n",
              "      <th>2</th>\n",
              "      <td>uid_519689</td>\n",
              "      <td>Who does an \"official promo\" in 360p?</td>\n",
              "      <td>2013-11</td>\n",
              "      <td>0</td>\n",
              "      <td>2014 BMW S1000R: Official Promo</td>\n",
              "      <td>3</td>\n",
              "      <td>3</td>\n",
              "      <td>motorcycles</td>\n",
              "      <td>phybere</td>\n",
              "      <td>0</td>\n",
              "    </tr>\n",
              "    <tr>\n",
              "      <th>3</th>\n",
              "      <td>uid_788362</td>\n",
              "      <td>Grotto koth was the best</td>\n",
              "      <td>2015-09</td>\n",
              "      <td>0</td>\n",
              "      <td>Not really that memorable lol if you want memo...</td>\n",
              "      <td>2</td>\n",
              "      <td>2</td>\n",
              "      <td>hcfactions</td>\n",
              "      <td>m0xyMC</td>\n",
              "      <td>1</td>\n",
              "    </tr>\n",
              "    <tr>\n",
              "      <th>4</th>\n",
              "      <td>uid_299252</td>\n",
              "      <td>Neal's back baby</td>\n",
              "      <td>2015-11</td>\n",
              "      <td>0</td>\n",
              "      <td>James Neal hit on Zach Parise</td>\n",
              "      <td>-5</td>\n",
              "      <td>-5</td>\n",
              "      <td>hockey</td>\n",
              "      <td>Somuch101</td>\n",
              "      <td>1</td>\n",
              "    </tr>\n",
              "  </tbody>\n",
              "</table>\n",
              "</div>"
            ],
            "text/plain": [
              "           ID  ... label\n",
              "0  uid_590555  ...     0\n",
              "1  uid_671762  ...     1\n",
              "2  uid_519689  ...     0\n",
              "3  uid_788362  ...     1\n",
              "4  uid_299252  ...     1\n",
              "\n",
              "[5 rows x 10 columns]"
            ]
          },
          "metadata": {
            "tags": []
          },
          "execution_count": 7
        }
      ]
    },
    {
      "cell_type": "markdown",
      "metadata": {
        "id": "q9wXfwTCizt-"
      },
      "source": [
        "### Tensorflow Model Building"
      ]
    },
    {
      "cell_type": "code",
      "metadata": {
        "id": "JT5lmZc5amfO"
      },
      "source": [
        "# Combining all the text columns into one\n",
        "train['combined_comment'] = (train['comment'] + \" \" + train['parent_comment'] + \" \" + train[\"topic\"] + \" \" + train['user'])"
      ],
      "execution_count": 45,
      "outputs": []
    },
    {
      "cell_type": "code",
      "metadata": {
        "id": "EWjuCWGdg_lT"
      },
      "source": [
        "from tensorflow.keras.preprocessing.text import Tokenizer\n",
        "from tensorflow.keras.preprocessing.sequence import pad_sequences"
      ],
      "execution_count": 285,
      "outputs": []
    },
    {
      "cell_type": "code",
      "metadata": {
        "id": "KnKt1U5YhliZ"
      },
      "source": [
        "# Declaring the parameters\n",
        "vocab_size = 1000\n",
        "embedding_dim = 16\n",
        "max_length = 100\n",
        "trunc_type='post'\n",
        "padding_type='post'\n",
        "oov_tok = \"<OOV>\"\n",
        "training_size = 12000"
      ],
      "execution_count": 343,
      "outputs": []
    },
    {
      "cell_type": "code",
      "metadata": {
        "id": "8Stlm8ZLhxr-"
      },
      "source": [
        "# Splitting the training data into training and validation\n",
        "training_comments = train['combined_comment'][0:training_size]\n",
        "val_comments = train['combined_comment'][training_size:]\n",
        "\n",
        "training_labels = train['label'][0:training_size]\n",
        "val_labels = train['label'][training_size:]"
      ],
      "execution_count": 344,
      "outputs": []
    },
    {
      "cell_type": "code",
      "metadata": {
        "id": "K3HCrZbYiBau"
      },
      "source": [
        "# Tokenizing the text data and converting them into numpy arrays\n",
        "tokenizer = Tokenizer(num_words=vocab_size, oov_token=oov_tok)\n",
        "tokenizer.fit_on_texts(training_comments)\n",
        "\n",
        "word_index = tokenizer.word_index\n",
        "\n",
        "training_sequences = tokenizer.texts_to_sequences(training_comments)\n",
        "training_padded = pad_sequences(training_sequences, maxlen=max_length, padding=padding_type, truncating=trunc_type)\n",
        "\n",
        "val_sequences = tokenizer.texts_to_sequences(val_comments)\n",
        "val_padded = pad_sequences(val_sequences, maxlen=max_length, padding=padding_type, truncating=trunc_type)\n",
        "\n",
        "training_padded = np.array(training_padded)\n",
        "training_labels = np.array(training_labels)\n",
        "\n",
        "val_padded = np.array(val_padded)\n",
        "val_labels = np.array(val_labels)"
      ],
      "execution_count": 345,
      "outputs": []
    },
    {
      "cell_type": "code",
      "metadata": {
        "id": "klZxra-nieQ3"
      },
      "source": [
        "# Creating the model\n",
        "import tensorflow as tf\n",
        "\n",
        "model = tf.keras.Sequential([\n",
        "    tf.keras.layers.Embedding(vocab_size, embedding_dim, input_length=max_length),\n",
        "    tf.keras.layers.GlobalAveragePooling1D(),\n",
        "    tf.keras.layers.Dense(32, activation='relu'),\n",
        "    #tf.keras.layers.Dense(10, activation='elu'),\n",
        "    tf.keras.layers.Dense(1, activation='sigmoid')\n",
        "])\n",
        "model.compile(loss='binary_crossentropy',optimizer='adam',metrics=['accuracy'])"
      ],
      "execution_count": 346,
      "outputs": []
    },
    {
      "cell_type": "code",
      "metadata": {
        "colab": {
          "base_uri": "https://localhost:8080/"
        },
        "id": "rwXXnn1oig0v",
        "outputId": "e65d3c69-c095-4f1e-eadf-c5e91ae05485"
      },
      "source": [
        "model.summary()"
      ],
      "execution_count": 347,
      "outputs": [
        {
          "output_type": "stream",
          "text": [
            "Model: \"sequential_30\"\n",
            "_________________________________________________________________\n",
            "Layer (type)                 Output Shape              Param #   \n",
            "=================================================================\n",
            "embedding_30 (Embedding)     (None, 100, 16)           16000     \n",
            "_________________________________________________________________\n",
            "global_average_pooling1d_30  (None, 16)                0         \n",
            "_________________________________________________________________\n",
            "dense_63 (Dense)             (None, 32)                544       \n",
            "_________________________________________________________________\n",
            "dense_64 (Dense)             (None, 1)                 33        \n",
            "=================================================================\n",
            "Total params: 16,577\n",
            "Trainable params: 16,577\n",
            "Non-trainable params: 0\n",
            "_________________________________________________________________\n"
          ],
          "name": "stdout"
        }
      ]
    },
    {
      "cell_type": "code",
      "metadata": {
        "colab": {
          "base_uri": "https://localhost:8080/"
        },
        "id": "Hkq5s0npiqx2",
        "outputId": "66ce5bcb-a834-4ae7-99b7-4421f7d12acf"
      },
      "source": [
        "# Running the model for muliple Epochs\n",
        "num_epochs = 30\n",
        "history = model.fit(training_padded, training_labels, epochs=num_epochs, validation_data=(val_padded, val_labels), verbose=2)"
      ],
      "execution_count": 348,
      "outputs": [
        {
          "output_type": "stream",
          "text": [
            "Epoch 1/30\n",
            "375/375 - 1s - loss: 0.6926 - accuracy: 0.5173 - val_loss: 0.6913 - val_accuracy: 0.5103\n",
            "Epoch 2/30\n",
            "375/375 - 1s - loss: 0.6814 - accuracy: 0.5735 - val_loss: 0.6764 - val_accuracy: 0.5490\n",
            "Epoch 3/30\n",
            "375/375 - 1s - loss: 0.6489 - accuracy: 0.6263 - val_loss: 0.6603 - val_accuracy: 0.6127\n",
            "Epoch 4/30\n",
            "375/375 - 1s - loss: 0.6284 - accuracy: 0.6446 - val_loss: 0.6600 - val_accuracy: 0.6140\n",
            "Epoch 5/30\n",
            "375/375 - 1s - loss: 0.6183 - accuracy: 0.6557 - val_loss: 0.6826 - val_accuracy: 0.5970\n",
            "Epoch 6/30\n",
            "375/375 - 1s - loss: 0.6135 - accuracy: 0.6628 - val_loss: 0.6630 - val_accuracy: 0.6217\n",
            "Epoch 7/30\n",
            "375/375 - 1s - loss: 0.6082 - accuracy: 0.6690 - val_loss: 0.6658 - val_accuracy: 0.6170\n",
            "Epoch 8/30\n",
            "375/375 - 1s - loss: 0.6051 - accuracy: 0.6674 - val_loss: 0.6682 - val_accuracy: 0.6140\n",
            "Epoch 9/30\n",
            "375/375 - 1s - loss: 0.6022 - accuracy: 0.6712 - val_loss: 0.6784 - val_accuracy: 0.6043\n",
            "Epoch 10/30\n",
            "375/375 - 1s - loss: 0.6008 - accuracy: 0.6744 - val_loss: 0.6648 - val_accuracy: 0.6153\n",
            "Epoch 11/30\n",
            "375/375 - 1s - loss: 0.5988 - accuracy: 0.6773 - val_loss: 0.6675 - val_accuracy: 0.6137\n",
            "Epoch 12/30\n",
            "375/375 - 1s - loss: 0.5973 - accuracy: 0.6779 - val_loss: 0.6716 - val_accuracy: 0.6137\n",
            "Epoch 13/30\n",
            "375/375 - 1s - loss: 0.5962 - accuracy: 0.6769 - val_loss: 0.6693 - val_accuracy: 0.6173\n",
            "Epoch 14/30\n",
            "375/375 - 1s - loss: 0.5961 - accuracy: 0.6806 - val_loss: 0.6678 - val_accuracy: 0.6193\n",
            "Epoch 15/30\n",
            "375/375 - 1s - loss: 0.5932 - accuracy: 0.6806 - val_loss: 0.6703 - val_accuracy: 0.6183\n",
            "Epoch 16/30\n",
            "375/375 - 1s - loss: 0.5930 - accuracy: 0.6797 - val_loss: 0.6755 - val_accuracy: 0.6100\n",
            "Epoch 17/30\n",
            "375/375 - 1s - loss: 0.5912 - accuracy: 0.6850 - val_loss: 0.6749 - val_accuracy: 0.6177\n",
            "Epoch 18/30\n",
            "375/375 - 1s - loss: 0.5906 - accuracy: 0.6842 - val_loss: 0.6723 - val_accuracy: 0.6197\n",
            "Epoch 19/30\n",
            "375/375 - 1s - loss: 0.5882 - accuracy: 0.6894 - val_loss: 0.6763 - val_accuracy: 0.6137\n",
            "Epoch 20/30\n",
            "375/375 - 1s - loss: 0.5876 - accuracy: 0.6877 - val_loss: 0.6777 - val_accuracy: 0.6130\n",
            "Epoch 21/30\n",
            "375/375 - 1s - loss: 0.5876 - accuracy: 0.6851 - val_loss: 0.6761 - val_accuracy: 0.6120\n",
            "Epoch 22/30\n",
            "375/375 - 1s - loss: 0.5846 - accuracy: 0.6877 - val_loss: 0.6759 - val_accuracy: 0.6163\n",
            "Epoch 23/30\n",
            "375/375 - 1s - loss: 0.5826 - accuracy: 0.6907 - val_loss: 0.6765 - val_accuracy: 0.6160\n",
            "Epoch 24/30\n",
            "375/375 - 1s - loss: 0.5810 - accuracy: 0.6917 - val_loss: 0.6756 - val_accuracy: 0.6177\n",
            "Epoch 25/30\n",
            "375/375 - 1s - loss: 0.5791 - accuracy: 0.6925 - val_loss: 0.6775 - val_accuracy: 0.6150\n",
            "Epoch 26/30\n",
            "375/375 - 1s - loss: 0.5766 - accuracy: 0.6961 - val_loss: 0.6803 - val_accuracy: 0.6067\n",
            "Epoch 27/30\n",
            "375/375 - 1s - loss: 0.5745 - accuracy: 0.6994 - val_loss: 0.6891 - val_accuracy: 0.6073\n",
            "Epoch 28/30\n",
            "375/375 - 1s - loss: 0.5724 - accuracy: 0.6970 - val_loss: 0.6830 - val_accuracy: 0.6100\n",
            "Epoch 29/30\n",
            "375/375 - 1s - loss: 0.5686 - accuracy: 0.7025 - val_loss: 0.6905 - val_accuracy: 0.6157\n",
            "Epoch 30/30\n",
            "375/375 - 1s - loss: 0.5653 - accuracy: 0.7088 - val_loss: 0.6860 - val_accuracy: 0.6130\n"
          ],
          "name": "stdout"
        }
      ]
    },
    {
      "cell_type": "code",
      "metadata": {
        "id": "JZGsMqZIi8ih"
      },
      "source": [
        "def plot_graphs(history, string):\n",
        "  plt.plot(history.history[string])\n",
        "  plt.plot(history.history['val_'+string])\n",
        "  plt.xlabel(\"Epochs\")\n",
        "  plt.ylabel(string)\n",
        "  plt.legend([string, 'val_'+string])\n",
        "  plt.show()"
      ],
      "execution_count": 306,
      "outputs": []
    },
    {
      "cell_type": "code",
      "metadata": {
        "colab": {
          "base_uri": "https://localhost:8080/",
          "height": 541
        },
        "id": "QeI9cTXblRnn",
        "outputId": "0cfc66c9-89e6-4a40-c49b-088e36bca6cd"
      },
      "source": [
        "# Checking the validation of the model\n",
        "plot_graphs(history, \"accuracy\")\n",
        "plot_graphs(history, \"loss\")"
      ],
      "execution_count": 324,
      "outputs": [
        {
          "output_type": "display_data",
          "data": {
            "image/png": "[encoded data removed]",
            "text/plain": [
              "<Figure size 432x288 with 1 Axes>"
            ]
          },
          "metadata": {
            "tags": [],
            "needs_background": "light"
          }
        },
        {
          "output_type": "display_data",
          "data": {
            "image/png": "[encoded data removed]",
            "text/plain": [
              "<Figure size 432x288 with 1 Axes>"
            ]
          },
          "metadata": {
            "tags": [],
            "needs_background": "light"
          }
        }
      ]
    },
    {
      "cell_type": "markdown",
      "metadata": {
        "id": "6iyv1ZvjvtpF"
      },
      "source": [
        "## Prediction"
      ]
    },
    {
      "cell_type": "code",
      "metadata": {
        "id": "D0xwfPjsjLXm"
      },
      "source": [
        "test = pd.read_csv('test.csv')"
      ],
      "execution_count": 308,
      "outputs": []
    },
    {
      "cell_type": "code",
      "metadata": {
        "colab": {
          "base_uri": "https://localhost:8080/",
          "height": 204
        },
        "id": "GnlWhCgGv6XG",
        "outputId": "3b341eb3-d219-48dc-d283-4c4cbe2b45cd"
      },
      "source": [
        "test.head()"
      ],
      "execution_count": 309,
      "outputs": [
        {
          "output_type": "execute_result",
          "data": {
            "text/html": [
              "<div>\n",
              "<style scoped>\n",
              "    .dataframe tbody tr th:only-of-type {\n",
              "        vertical-align: middle;\n",
              "    }\n",
              "\n",
              "    .dataframe tbody tr th {\n",
              "        vertical-align: top;\n",
              "    }\n",
              "\n",
              "    .dataframe thead th {\n",
              "        text-align: right;\n",
              "    }\n",
              "</style>\n",
              "<table border=\"1\" class=\"dataframe\">\n",
              "  <thead>\n",
              "    <tr style=\"text-align: right;\">\n",
              "      <th></th>\n",
              "      <th>ID</th>\n",
              "      <th>comment</th>\n",
              "      <th>date</th>\n",
              "      <th>down</th>\n",
              "      <th>parent_comment</th>\n",
              "      <th>score</th>\n",
              "      <th>top</th>\n",
              "      <th>topic</th>\n",
              "      <th>user</th>\n",
              "    </tr>\n",
              "  </thead>\n",
              "  <tbody>\n",
              "    <tr>\n",
              "      <th>0</th>\n",
              "      <td>uid_764784</td>\n",
              "      <td>Meanwhile if I pick my boxer up to move him to...</td>\n",
              "      <td>2016-01</td>\n",
              "      <td>0</td>\n",
              "      <td>Part of the Family Fun</td>\n",
              "      <td>2</td>\n",
              "      <td>2</td>\n",
              "      <td>gifs</td>\n",
              "      <td>Cameltoe-Swampdonkey</td>\n",
              "    </tr>\n",
              "    <tr>\n",
              "      <th>1</th>\n",
              "      <td>uid_67552</td>\n",
              "      <td>Thats what you get for using an unfair advanta...</td>\n",
              "      <td>2015-03</td>\n",
              "      <td>0</td>\n",
              "      <td>received a warning for hacking while overclock...</td>\n",
              "      <td>1</td>\n",
              "      <td>1</td>\n",
              "      <td>h1z1</td>\n",
              "      <td>Gothika_47</td>\n",
              "    </tr>\n",
              "    <tr>\n",
              "      <th>2</th>\n",
              "      <td>uid_240490</td>\n",
              "      <td>only to be later faced with thousands of dolla...</td>\n",
              "      <td>2010-09</td>\n",
              "      <td>0</td>\n",
              "      <td>Running shoes and race entries. I started runn...</td>\n",
              "      <td>1</td>\n",
              "      <td>1</td>\n",
              "      <td>Frugal</td>\n",
              "      <td>tells</td>\n",
              "    </tr>\n",
              "    <tr>\n",
              "      <th>3</th>\n",
              "      <td>uid_56568</td>\n",
              "      <td>What a thoughtful rebuttal to a well articulat...</td>\n",
              "      <td>2015-12</td>\n",
              "      <td>0</td>\n",
              "      <td>Actually, you should get over your self. There...</td>\n",
              "      <td>-1</td>\n",
              "      <td>-1</td>\n",
              "      <td>CFB</td>\n",
              "      <td>YourToothbrush</td>\n",
              "    </tr>\n",
              "    <tr>\n",
              "      <th>4</th>\n",
              "      <td>uid_875860</td>\n",
              "      <td>Yes, major life experiences that demand a grea...</td>\n",
              "      <td>2014-04</td>\n",
              "      <td>0</td>\n",
              "      <td>As a bonus, it was with his ex, months after t...</td>\n",
              "      <td>-5</td>\n",
              "      <td>-5</td>\n",
              "      <td>AdviceAnimals</td>\n",
              "      <td>drunken_trophy_wife</td>\n",
              "    </tr>\n",
              "  </tbody>\n",
              "</table>\n",
              "</div>"
            ],
            "text/plain": [
              "           ID  ...                  user\n",
              "0  uid_764784  ...  Cameltoe-Swampdonkey\n",
              "1   uid_67552  ...            Gothika_47\n",
              "2  uid_240490  ...                 tells\n",
              "3   uid_56568  ...        YourToothbrush\n",
              "4  uid_875860  ...   drunken_trophy_wife\n",
              "\n",
              "[5 rows x 9 columns]"
            ]
          },
          "metadata": {
            "tags": []
          },
          "execution_count": 309
        }
      ]
    },
    {
      "cell_type": "code",
      "metadata": {
        "id": "Lb1HJ0xIv87J"
      },
      "source": [
        "test['combined_comment'] = (test['comment'] + \" \" + test['parent_comment'] + \" \" + test[\"topic\"] + \" \" + test['user'])"
      ],
      "execution_count": 310,
      "outputs": []
    },
    {
      "cell_type": "code",
      "metadata": {
        "id": "mC3eB2fJwhDi"
      },
      "source": [
        "test_comments = test['combined_comment']\n",
        "\n",
        "test_sequences = tokenizer.texts_to_sequences(test_comments)\n",
        "test_padded = pad_sequences(test_sequences, maxlen=max_length, padding=padding_type, truncating=trunc_type)"
      ],
      "execution_count": 311,
      "outputs": []
    },
    {
      "cell_type": "code",
      "metadata": {
        "id": "5XZM6nXxw60J"
      },
      "source": [
        "test_padded = np.array(test_padded)"
      ],
      "execution_count": 312,
      "outputs": []
    },
    {
      "cell_type": "code",
      "metadata": {
        "colab": {
          "base_uri": "https://localhost:8080/"
        },
        "id": "BvQHOqA00ieU",
        "outputId": "f22821a5-e642-479e-8874-f4ffb01e523a"
      },
      "source": [
        "(model.predict(test_padded))"
      ],
      "execution_count": 317,
      "outputs": [
        {
          "output_type": "execute_result",
          "data": {
            "text/plain": [
              "array([[0.14799026],\n",
              "       [0.11476177],\n",
              "       [0.43596643],\n",
              "       ...,\n",
              "       [0.26475513],\n",
              "       [0.43938807],\n",
              "       [0.5053071 ]], dtype=float32)"
            ]
          },
          "metadata": {
            "tags": []
          },
          "execution_count": 317
        }
      ]
    },
    {
      "cell_type": "code",
      "metadata": {
        "id": "ImuMLRqhxCUa"
      },
      "source": [
        "test['label_unclean'] = (model.predict(test_padded) > 0.3)"
      ],
      "execution_count": 349,
      "outputs": []
    },
    {
      "cell_type": "code",
      "metadata": {
        "id": "KNqgwboZxDtZ"
      },
      "source": [
        "test['label'] = test['label_unclean'].apply(lambda x: 1 if x == True else 0)"
      ],
      "execution_count": 350,
      "outputs": []
    },
    {
      "cell_type": "code",
      "metadata": {
        "id": "SSsd_hjLx5ca"
      },
      "source": [
        "test[['ID', 'label']].to_csv('test_label.csv')"
      ],
      "execution_count": 351,
      "outputs": []
    },
    {
      "cell_type": "code",
      "metadata": {
        "colab": {
          "base_uri": "https://localhost:8080/",
          "height": 419
        },
        "id": "kiQUb4vnyXeL",
        "outputId": "8168bcf1-38ad-4500-ce32-ab4b7f876c75"
      },
      "source": [
        "test[['ID', 'label']]"
      ],
      "execution_count": 316,
      "outputs": [
        {
          "output_type": "execute_result",
          "data": {
            "text/html": [
              "<div>\n",
              "<style scoped>\n",
              "    .dataframe tbody tr th:only-of-type {\n",
              "        vertical-align: middle;\n",
              "    }\n",
              "\n",
              "    .dataframe tbody tr th {\n",
              "        vertical-align: top;\n",
              "    }\n",
              "\n",
              "    .dataframe thead th {\n",
              "        text-align: right;\n",
              "    }\n",
              "</style>\n",
              "<table border=\"1\" class=\"dataframe\">\n",
              "  <thead>\n",
              "    <tr style=\"text-align: right;\">\n",
              "      <th></th>\n",
              "      <th>ID</th>\n",
              "      <th>label</th>\n",
              "    </tr>\n",
              "  </thead>\n",
              "  <tbody>\n",
              "    <tr>\n",
              "      <th>0</th>\n",
              "      <td>uid_764784</td>\n",
              "      <td>0</td>\n",
              "    </tr>\n",
              "    <tr>\n",
              "      <th>1</th>\n",
              "      <td>uid_67552</td>\n",
              "      <td>0</td>\n",
              "    </tr>\n",
              "    <tr>\n",
              "      <th>2</th>\n",
              "      <td>uid_240490</td>\n",
              "      <td>0</td>\n",
              "    </tr>\n",
              "    <tr>\n",
              "      <th>3</th>\n",
              "      <td>uid_56568</td>\n",
              "      <td>0</td>\n",
              "    </tr>\n",
              "    <tr>\n",
              "      <th>4</th>\n",
              "      <td>uid_875860</td>\n",
              "      <td>0</td>\n",
              "    </tr>\n",
              "    <tr>\n",
              "      <th>...</th>\n",
              "      <td>...</td>\n",
              "      <td>...</td>\n",
              "    </tr>\n",
              "    <tr>\n",
              "      <th>7995</th>\n",
              "      <td>uid_893847</td>\n",
              "      <td>0</td>\n",
              "    </tr>\n",
              "    <tr>\n",
              "      <th>7996</th>\n",
              "      <td>uid_34003</td>\n",
              "      <td>0</td>\n",
              "    </tr>\n",
              "    <tr>\n",
              "      <th>7997</th>\n",
              "      <td>uid_921530</td>\n",
              "      <td>0</td>\n",
              "    </tr>\n",
              "    <tr>\n",
              "      <th>7998</th>\n",
              "      <td>uid_440748</td>\n",
              "      <td>0</td>\n",
              "    </tr>\n",
              "    <tr>\n",
              "      <th>7999</th>\n",
              "      <td>uid_815387</td>\n",
              "      <td>0</td>\n",
              "    </tr>\n",
              "  </tbody>\n",
              "</table>\n",
              "<p>8000 rows × 2 columns</p>\n",
              "</div>"
            ],
            "text/plain": [
              "              ID  label\n",
              "0     uid_764784      0\n",
              "1      uid_67552      0\n",
              "2     uid_240490      0\n",
              "3      uid_56568      0\n",
              "4     uid_875860      0\n",
              "...          ...    ...\n",
              "7995  uid_893847      0\n",
              "7996   uid_34003      0\n",
              "7997  uid_921530      0\n",
              "7998  uid_440748      0\n",
              "7999  uid_815387      0\n",
              "\n",
              "[8000 rows x 2 columns]"
            ]
          },
          "metadata": {
            "tags": []
          },
          "execution_count": 316
        }
      ]
    },
    {
      "cell_type": "code",
      "metadata": {
        "id": "1jBN-7jO0gob"
      },
      "source": [
        ""
      ],
      "execution_count": null,
      "outputs": []
    }
  ]
}