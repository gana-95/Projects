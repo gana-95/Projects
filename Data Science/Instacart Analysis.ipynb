{
 "cells": [
  {
   "cell_type": "markdown",
   "metadata": {},
   "source": [
    "## Introduction"
   ]
  },
  {
   "cell_type": "code",
   "execution_count": 1,
   "metadata": {},
   "outputs": [],
   "source": [
    "# Importing the necessary libraries\n",
    "import sqlite3\n",
    "import pandas as pd\n",
    "import numpy as np\n",
    "import matplotlib.pyplot as plt\n",
    "import seaborn as sns\n",
    "sns.set()\n",
    "color = sns.color_palette()\n",
    "\n",
    "%matplotlib inline\n",
    "\n",
    "pd.options.mode.chained_assignment = None\n",
    "\n",
    "import warnings\n",
    "warnings.filterwarnings(\"ignore\")"
   ]
  },
  {
   "cell_type": "code",
   "execution_count": 19,
   "metadata": {},
   "outputs": [],
   "source": [
    "# Establishing the connection to the database\n",
    "conn = sqlite3.connect('instacart.db')\n",
    "\n",
    "# Loading all the tables\n",
    "aisles = pd.read_sql_query(\"SELECT * FROM aisles\", conn)\n",
    "departments = pd.read_sql_query(\"SELECT * FROM departments\", conn)\n",
    "order_products = pd.read_sql_query(\"SELECT * FROM order_products\", conn)\n",
    "orders = pd.read_sql_query(\"SELECT * FROM orders\", conn)\n",
    "products = pd.read_sql_query(\"SELECT * FROM products\", conn)\n",
    "users_sampled = pd.read_sql_query(\"SELECT * FROM users_sampled\", conn)\n",
    "\n",
    "# Closing the connection\n",
    "conn.close()"
   ]
  },
  {
   "cell_type": "code",
   "execution_count": 47,
   "metadata": {},
   "outputs": [
    {
     "name": "stdout",
     "output_type": "stream",
     "text": [
      "departments\n"
     ]
    }
   ],
   "source": [
    "# conn = sqlite3.connect('instacart.db')\n",
    "# cursorObj = conn.cursor()\n",
    "# tables = cursorObj.execute(\"SELECT name FROM sqlite_master WHERE type = 'table'\")\n",
    "# print(tables.fetchall()[1][0])\n",
    "# conn.close()"
   ]
  },
  {
   "cell_type": "code",
   "execution_count": 3,
   "metadata": {},
   "outputs": [
    {
     "name": "stdout",
     "output_type": "stream",
     "text": [
      "Number of aisles: 134\n",
      "Number of departments: 21\n",
      "Size of Ordered Products: (3923788, 4)\n",
      "Size of Orders: (414772, 6)\n",
      "Size of Products: (49688, 5)\n",
      "Number of Users: 25000\n"
     ]
    }
   ],
   "source": [
    "print(\"Number of aisles:\", aisles.shape[0])\n",
    "print(\"Number of departments:\", departments.shape[0])\n",
    "print(\"Size of Ordered Products:\", order_products.shape)\n",
    "print(\"Size of Orders:\", orders.shape)\n",
    "print(\"Size of Products:\", products.shape)\n",
    "print(\"Number of Users:\", users_sampled.shape[0])"
   ]
  },
  {
   "cell_type": "markdown",
   "metadata": {},
   "source": [
    "### How the data looks?"
   ]
  },
  {
   "cell_type": "code",
   "execution_count": 17,
   "metadata": {},
   "outputs": [
    {
     "data": {
      "text/html": [
       "<div>\n",
       "<style scoped>\n",
       "    .dataframe tbody tr th:only-of-type {\n",
       "        vertical-align: middle;\n",
       "    }\n",
       "\n",
       "    .dataframe tbody tr th {\n",
       "        vertical-align: top;\n",
       "    }\n",
       "\n",
       "    .dataframe thead th {\n",
       "        text-align: right;\n",
       "    }\n",
       "</style>\n",
       "<table border=\"1\" class=\"dataframe\">\n",
       "  <thead>\n",
       "    <tr style=\"text-align: right;\">\n",
       "      <th></th>\n",
       "      <th>index</th>\n",
       "      <th>aisle_id</th>\n",
       "      <th>aisle</th>\n",
       "    </tr>\n",
       "  </thead>\n",
       "  <tbody>\n",
       "    <tr>\n",
       "      <th>0</th>\n",
       "      <td>0</td>\n",
       "      <td>1</td>\n",
       "      <td>prepared soups salads</td>\n",
       "    </tr>\n",
       "    <tr>\n",
       "      <th>1</th>\n",
       "      <td>1</td>\n",
       "      <td>2</td>\n",
       "      <td>specialty cheeses</td>\n",
       "    </tr>\n",
       "    <tr>\n",
       "      <th>2</th>\n",
       "      <td>2</td>\n",
       "      <td>3</td>\n",
       "      <td>energy granola bars</td>\n",
       "    </tr>\n",
       "    <tr>\n",
       "      <th>3</th>\n",
       "      <td>3</td>\n",
       "      <td>4</td>\n",
       "      <td>instant foods</td>\n",
       "    </tr>\n",
       "    <tr>\n",
       "      <th>4</th>\n",
       "      <td>4</td>\n",
       "      <td>5</td>\n",
       "      <td>marinades meat preparation</td>\n",
       "    </tr>\n",
       "  </tbody>\n",
       "</table>\n",
       "</div>"
      ],
      "text/plain": [
       "   index  aisle_id                       aisle\n",
       "0      0         1       prepared soups salads\n",
       "1      1         2           specialty cheeses\n",
       "2      2         3         energy granola bars\n",
       "3      3         4               instant foods\n",
       "4      4         5  marinades meat preparation"
      ]
     },
     "execution_count": 17,
     "metadata": {},
     "output_type": "execute_result"
    }
   ],
   "source": [
    "aisles.head()"
   ]
  },
  {
   "cell_type": "code",
   "execution_count": 30,
   "metadata": {},
   "outputs": [
    {
     "data": {
      "text/html": [
       "<div>\n",
       "<style scoped>\n",
       "    .dataframe tbody tr th:only-of-type {\n",
       "        vertical-align: middle;\n",
       "    }\n",
       "\n",
       "    .dataframe tbody tr th {\n",
       "        vertical-align: top;\n",
       "    }\n",
       "\n",
       "    .dataframe thead th {\n",
       "        text-align: right;\n",
       "    }\n",
       "</style>\n",
       "<table border=\"1\" class=\"dataframe\">\n",
       "  <thead>\n",
       "    <tr style=\"text-align: right;\">\n",
       "      <th></th>\n",
       "      <th>index</th>\n",
       "      <th>department_id</th>\n",
       "      <th>department</th>\n",
       "    </tr>\n",
       "  </thead>\n",
       "  <tbody>\n",
       "    <tr>\n",
       "      <th>0</th>\n",
       "      <td>0</td>\n",
       "      <td>1</td>\n",
       "      <td>frozen</td>\n",
       "    </tr>\n",
       "    <tr>\n",
       "      <th>1</th>\n",
       "      <td>1</td>\n",
       "      <td>2</td>\n",
       "      <td>other</td>\n",
       "    </tr>\n",
       "    <tr>\n",
       "      <th>2</th>\n",
       "      <td>2</td>\n",
       "      <td>3</td>\n",
       "      <td>bakery</td>\n",
       "    </tr>\n",
       "    <tr>\n",
       "      <th>3</th>\n",
       "      <td>3</td>\n",
       "      <td>4</td>\n",
       "      <td>produce</td>\n",
       "    </tr>\n",
       "    <tr>\n",
       "      <th>4</th>\n",
       "      <td>4</td>\n",
       "      <td>5</td>\n",
       "      <td>alcohol</td>\n",
       "    </tr>\n",
       "  </tbody>\n",
       "</table>\n",
       "</div>"
      ],
      "text/plain": [
       "   index  department_id department\n",
       "0      0              1     frozen\n",
       "1      1              2      other\n",
       "2      2              3     bakery\n",
       "3      3              4    produce\n",
       "4      4              5    alcohol"
      ]
     },
     "execution_count": 30,
     "metadata": {},
     "output_type": "execute_result"
    }
   ],
   "source": [
    "departments.head()"
   ]
  },
  {
   "cell_type": "code",
   "execution_count": 31,
   "metadata": {},
   "outputs": [
    {
     "data": {
      "text/html": [
       "<div>\n",
       "<style scoped>\n",
       "    .dataframe tbody tr th:only-of-type {\n",
       "        vertical-align: middle;\n",
       "    }\n",
       "\n",
       "    .dataframe tbody tr th {\n",
       "        vertical-align: top;\n",
       "    }\n",
       "\n",
       "    .dataframe thead th {\n",
       "        text-align: right;\n",
       "    }\n",
       "</style>\n",
       "<table border=\"1\" class=\"dataframe\">\n",
       "  <thead>\n",
       "    <tr style=\"text-align: right;\">\n",
       "      <th></th>\n",
       "      <th>order_id</th>\n",
       "      <th>product_id</th>\n",
       "      <th>add_to_cart_order</th>\n",
       "      <th>reordered</th>\n",
       "    </tr>\n",
       "  </thead>\n",
       "  <tbody>\n",
       "    <tr>\n",
       "      <th>0</th>\n",
       "      <td>2</td>\n",
       "      <td>33120</td>\n",
       "      <td>1</td>\n",
       "      <td>1</td>\n",
       "    </tr>\n",
       "    <tr>\n",
       "      <th>1</th>\n",
       "      <td>2</td>\n",
       "      <td>28985</td>\n",
       "      <td>2</td>\n",
       "      <td>1</td>\n",
       "    </tr>\n",
       "    <tr>\n",
       "      <th>2</th>\n",
       "      <td>2</td>\n",
       "      <td>9327</td>\n",
       "      <td>3</td>\n",
       "      <td>0</td>\n",
       "    </tr>\n",
       "    <tr>\n",
       "      <th>3</th>\n",
       "      <td>2</td>\n",
       "      <td>45918</td>\n",
       "      <td>4</td>\n",
       "      <td>1</td>\n",
       "    </tr>\n",
       "    <tr>\n",
       "      <th>4</th>\n",
       "      <td>2</td>\n",
       "      <td>30035</td>\n",
       "      <td>5</td>\n",
       "      <td>0</td>\n",
       "    </tr>\n",
       "  </tbody>\n",
       "</table>\n",
       "</div>"
      ],
      "text/plain": [
       "   order_id  product_id  add_to_cart_order  reordered\n",
       "0         2       33120                  1          1\n",
       "1         2       28985                  2          1\n",
       "2         2        9327                  3          0\n",
       "3         2       45918                  4          1\n",
       "4         2       30035                  5          0"
      ]
     },
     "execution_count": 31,
     "metadata": {},
     "output_type": "execute_result"
    }
   ],
   "source": [
    "order_products.head()"
   ]
  },
  {
   "cell_type": "code",
   "execution_count": 32,
   "metadata": {},
   "outputs": [
    {
     "data": {
      "text/html": [
       "<div>\n",
       "<style scoped>\n",
       "    .dataframe tbody tr th:only-of-type {\n",
       "        vertical-align: middle;\n",
       "    }\n",
       "\n",
       "    .dataframe tbody tr th {\n",
       "        vertical-align: top;\n",
       "    }\n",
       "\n",
       "    .dataframe thead th {\n",
       "        text-align: right;\n",
       "    }\n",
       "</style>\n",
       "<table border=\"1\" class=\"dataframe\">\n",
       "  <thead>\n",
       "    <tr style=\"text-align: right;\">\n",
       "      <th></th>\n",
       "      <th>order_id</th>\n",
       "      <th>user_id</th>\n",
       "      <th>order_number</th>\n",
       "      <th>order_dow</th>\n",
       "      <th>order_hour_of_day</th>\n",
       "      <th>days_since_prior_order</th>\n",
       "    </tr>\n",
       "  </thead>\n",
       "  <tbody>\n",
       "    <tr>\n",
       "      <th>0</th>\n",
       "      <td>2168274</td>\n",
       "      <td>2</td>\n",
       "      <td>1</td>\n",
       "      <td>2</td>\n",
       "      <td>11</td>\n",
       "      <td>NaN</td>\n",
       "    </tr>\n",
       "    <tr>\n",
       "      <th>1</th>\n",
       "      <td>1501582</td>\n",
       "      <td>2</td>\n",
       "      <td>2</td>\n",
       "      <td>5</td>\n",
       "      <td>10</td>\n",
       "      <td>10.0</td>\n",
       "    </tr>\n",
       "    <tr>\n",
       "      <th>2</th>\n",
       "      <td>1901567</td>\n",
       "      <td>2</td>\n",
       "      <td>3</td>\n",
       "      <td>1</td>\n",
       "      <td>10</td>\n",
       "      <td>3.0</td>\n",
       "    </tr>\n",
       "    <tr>\n",
       "      <th>3</th>\n",
       "      <td>738281</td>\n",
       "      <td>2</td>\n",
       "      <td>4</td>\n",
       "      <td>2</td>\n",
       "      <td>10</td>\n",
       "      <td>8.0</td>\n",
       "    </tr>\n",
       "    <tr>\n",
       "      <th>4</th>\n",
       "      <td>1673511</td>\n",
       "      <td>2</td>\n",
       "      <td>5</td>\n",
       "      <td>3</td>\n",
       "      <td>11</td>\n",
       "      <td>8.0</td>\n",
       "    </tr>\n",
       "  </tbody>\n",
       "</table>\n",
       "</div>"
      ],
      "text/plain": [
       "   order_id  user_id  order_number  order_dow  order_hour_of_day  \\\n",
       "0   2168274        2             1          2                 11   \n",
       "1   1501582        2             2          5                 10   \n",
       "2   1901567        2             3          1                 10   \n",
       "3    738281        2             4          2                 10   \n",
       "4   1673511        2             5          3                 11   \n",
       "\n",
       "   days_since_prior_order  \n",
       "0                     NaN  \n",
       "1                    10.0  \n",
       "2                     3.0  \n",
       "3                     8.0  \n",
       "4                     8.0  "
      ]
     },
     "execution_count": 32,
     "metadata": {},
     "output_type": "execute_result"
    }
   ],
   "source": [
    "orders.head()"
   ]
  },
  {
   "cell_type": "code",
   "execution_count": 33,
   "metadata": {},
   "outputs": [
    {
     "data": {
      "text/html": [
       "<div>\n",
       "<style scoped>\n",
       "    .dataframe tbody tr th:only-of-type {\n",
       "        vertical-align: middle;\n",
       "    }\n",
       "\n",
       "    .dataframe tbody tr th {\n",
       "        vertical-align: top;\n",
       "    }\n",
       "\n",
       "    .dataframe thead th {\n",
       "        text-align: right;\n",
       "    }\n",
       "</style>\n",
       "<table border=\"1\" class=\"dataframe\">\n",
       "  <thead>\n",
       "    <tr style=\"text-align: right;\">\n",
       "      <th></th>\n",
       "      <th>index</th>\n",
       "      <th>product_id</th>\n",
       "      <th>product_name</th>\n",
       "      <th>aisle_id</th>\n",
       "      <th>department_id</th>\n",
       "    </tr>\n",
       "  </thead>\n",
       "  <tbody>\n",
       "    <tr>\n",
       "      <th>0</th>\n",
       "      <td>0</td>\n",
       "      <td>1</td>\n",
       "      <td>Chocolate Sandwich Cookies</td>\n",
       "      <td>61</td>\n",
       "      <td>19</td>\n",
       "    </tr>\n",
       "    <tr>\n",
       "      <th>1</th>\n",
       "      <td>1</td>\n",
       "      <td>2</td>\n",
       "      <td>All-Seasons Salt</td>\n",
       "      <td>104</td>\n",
       "      <td>13</td>\n",
       "    </tr>\n",
       "    <tr>\n",
       "      <th>2</th>\n",
       "      <td>2</td>\n",
       "      <td>3</td>\n",
       "      <td>Robust Golden Unsweetened Oolong Tea</td>\n",
       "      <td>94</td>\n",
       "      <td>7</td>\n",
       "    </tr>\n",
       "    <tr>\n",
       "      <th>3</th>\n",
       "      <td>3</td>\n",
       "      <td>4</td>\n",
       "      <td>Smart Ones Classic Favorites Mini Rigatoni Wit...</td>\n",
       "      <td>38</td>\n",
       "      <td>1</td>\n",
       "    </tr>\n",
       "    <tr>\n",
       "      <th>4</th>\n",
       "      <td>4</td>\n",
       "      <td>5</td>\n",
       "      <td>Green Chile Anytime Sauce</td>\n",
       "      <td>5</td>\n",
       "      <td>13</td>\n",
       "    </tr>\n",
       "  </tbody>\n",
       "</table>\n",
       "</div>"
      ],
      "text/plain": [
       "   index  product_id                                       product_name  \\\n",
       "0      0           1                         Chocolate Sandwich Cookies   \n",
       "1      1           2                                   All-Seasons Salt   \n",
       "2      2           3               Robust Golden Unsweetened Oolong Tea   \n",
       "3      3           4  Smart Ones Classic Favorites Mini Rigatoni Wit...   \n",
       "4      4           5                          Green Chile Anytime Sauce   \n",
       "\n",
       "   aisle_id  department_id  \n",
       "0        61             19  \n",
       "1       104             13  \n",
       "2        94              7  \n",
       "3        38              1  \n",
       "4         5             13  "
      ]
     },
     "execution_count": 33,
     "metadata": {},
     "output_type": "execute_result"
    }
   ],
   "source": [
    "products.head()"
   ]
  },
  {
   "cell_type": "code",
   "execution_count": 34,
   "metadata": {},
   "outputs": [
    {
     "data": {
      "text/html": [
       "<div>\n",
       "<style scoped>\n",
       "    .dataframe tbody tr th:only-of-type {\n",
       "        vertical-align: middle;\n",
       "    }\n",
       "\n",
       "    .dataframe tbody tr th {\n",
       "        vertical-align: top;\n",
       "    }\n",
       "\n",
       "    .dataframe thead th {\n",
       "        text-align: right;\n",
       "    }\n",
       "</style>\n",
       "<table border=\"1\" class=\"dataframe\">\n",
       "  <thead>\n",
       "    <tr style=\"text-align: right;\">\n",
       "      <th></th>\n",
       "      <th>user_id</th>\n",
       "    </tr>\n",
       "  </thead>\n",
       "  <tbody>\n",
       "    <tr>\n",
       "      <th>0</th>\n",
       "      <td>187545</td>\n",
       "    </tr>\n",
       "    <tr>\n",
       "      <th>1</th>\n",
       "      <td>25444</td>\n",
       "    </tr>\n",
       "    <tr>\n",
       "      <th>2</th>\n",
       "      <td>34867</td>\n",
       "    </tr>\n",
       "    <tr>\n",
       "      <th>3</th>\n",
       "      <td>172424</td>\n",
       "    </tr>\n",
       "    <tr>\n",
       "      <th>4</th>\n",
       "      <td>162611</td>\n",
       "    </tr>\n",
       "  </tbody>\n",
       "</table>\n",
       "</div>"
      ],
      "text/plain": [
       "   user_id\n",
       "0   187545\n",
       "1    25444\n",
       "2    34867\n",
       "3   172424\n",
       "4   162611"
      ]
     },
     "execution_count": 34,
     "metadata": {},
     "output_type": "execute_result"
    }
   ],
   "source": [
    "users_sampled.head()"
   ]
  },
  {
   "cell_type": "markdown",
   "metadata": {},
   "source": [
    "## Analysis"
   ]
  },
  {
   "cell_type": "code",
   "execution_count": 110,
   "metadata": {},
   "outputs": [
    {
     "data": {
      "text/html": [
       "<div>\n",
       "<style scoped>\n",
       "    .dataframe tbody tr th:only-of-type {\n",
       "        vertical-align: middle;\n",
       "    }\n",
       "\n",
       "    .dataframe tbody tr th {\n",
       "        vertical-align: top;\n",
       "    }\n",
       "\n",
       "    .dataframe thead th {\n",
       "        text-align: right;\n",
       "    }\n",
       "</style>\n",
       "<table border=\"1\" class=\"dataframe\">\n",
       "  <thead>\n",
       "    <tr style=\"text-align: right;\">\n",
       "      <th></th>\n",
       "      <th>order_id</th>\n",
       "      <th>user_id</th>\n",
       "      <th>order_number</th>\n",
       "      <th>order_dow</th>\n",
       "      <th>order_hour_of_day</th>\n",
       "      <th>days_since_prior_order</th>\n",
       "    </tr>\n",
       "  </thead>\n",
       "  <tbody>\n",
       "    <tr>\n",
       "      <th>0</th>\n",
       "      <td>2168274</td>\n",
       "      <td>2</td>\n",
       "      <td>1</td>\n",
       "      <td>2</td>\n",
       "      <td>11</td>\n",
       "      <td>NaN</td>\n",
       "    </tr>\n",
       "    <tr>\n",
       "      <th>1</th>\n",
       "      <td>1501582</td>\n",
       "      <td>2</td>\n",
       "      <td>2</td>\n",
       "      <td>5</td>\n",
       "      <td>10</td>\n",
       "      <td>10.0</td>\n",
       "    </tr>\n",
       "    <tr>\n",
       "      <th>2</th>\n",
       "      <td>1901567</td>\n",
       "      <td>2</td>\n",
       "      <td>3</td>\n",
       "      <td>1</td>\n",
       "      <td>10</td>\n",
       "      <td>3.0</td>\n",
       "    </tr>\n",
       "    <tr>\n",
       "      <th>3</th>\n",
       "      <td>738281</td>\n",
       "      <td>2</td>\n",
       "      <td>4</td>\n",
       "      <td>2</td>\n",
       "      <td>10</td>\n",
       "      <td>8.0</td>\n",
       "    </tr>\n",
       "    <tr>\n",
       "      <th>4</th>\n",
       "      <td>1673511</td>\n",
       "      <td>2</td>\n",
       "      <td>5</td>\n",
       "      <td>3</td>\n",
       "      <td>11</td>\n",
       "      <td>8.0</td>\n",
       "    </tr>\n",
       "  </tbody>\n",
       "</table>\n",
       "</div>"
      ],
      "text/plain": [
       "   order_id  user_id  order_number  order_dow  order_hour_of_day  \\\n",
       "0   2168274        2             1          2                 11   \n",
       "1   1501582        2             2          5                 10   \n",
       "2   1901567        2             3          1                 10   \n",
       "3    738281        2             4          2                 10   \n",
       "4   1673511        2             5          3                 11   \n",
       "\n",
       "   days_since_prior_order  \n",
       "0                     NaN  \n",
       "1                    10.0  \n",
       "2                     3.0  \n",
       "3                     8.0  \n",
       "4                     8.0  "
      ]
     },
     "execution_count": 110,
     "metadata": {},
     "output_type": "execute_result"
    }
   ],
   "source": [
    "orders.head()"
   ]
  },
  {
   "cell_type": "markdown",
   "metadata": {},
   "source": [
    "### Number of orders vs Number of Users"
   ]
  },
  {
   "cell_type": "code",
   "execution_count": 14,
   "metadata": {},
   "outputs": [
    {
     "data": {
      "image/png": "[encoded data removed]",
      "text/plain": [
       "<Figure size 1080x576 with 1 Axes>"
      ]
     },
     "metadata": {
      "needs_background": "light"
     },
     "output_type": "display_data"
    }
   ],
   "source": [
    "cnt_srs = orders.groupby(\"user_id\")[\"order_number\"].aggregate(np.max).reset_index()\n",
    "cnt_srs = cnt_srs.order_number.value_counts()\n",
    "\n",
    "plt.figure(figsize=(15,8))\n",
    "sns.barplot(cnt_srs.index, cnt_srs.values, alpha=0.8, color=color[2])\n",
    "plt.ylabel('Number of Occurrences', fontsize=12)\n",
    "plt.xlabel('Maximum order number', fontsize=12)\n",
    "plt.xticks(rotation='vertical')\n",
    "plt.show()"
   ]
  },
  {
   "cell_type": "markdown",
   "metadata": {},
   "source": [
    "The users have made a minimum of 4 orders and a maximum of 100 orders. "
   ]
  },
  {
   "cell_type": "code",
   "execution_count": 12,
   "metadata": {},
   "outputs": [
    {
     "data": {
      "image/png": "[encoded data removed]",
      "text/plain": [
       "<Figure size 864x576 with 1 Axes>"
      ]
     },
     "metadata": {
      "needs_background": "light"
     },
     "output_type": "display_data"
    }
   ],
   "source": [
    "plt.figure(figsize=(12,8))\n",
    "sns.countplot(x=\"order_dow\", data=orders, color=color[0])\n",
    "plt.ylabel('Count', fontsize=12)\n",
    "plt.xlabel('Day of week', fontsize=12)\n",
    "plt.xticks(rotation='horizontal')\n",
    "plt.title(\"Frequency of order by week day\", fontsize=15)\n",
    "plt.show()"
   ]
  },
  {
   "cell_type": "markdown",
   "metadata": {},
   "source": [
    "The number of orders are higher in the weekdays 0 and 1 when compared to others. Probably 0 and 1 are the weekends and 2 to 6 are the weekdays."
   ]
  },
  {
   "cell_type": "code",
   "execution_count": 76,
   "metadata": {},
   "outputs": [
    {
     "data": {
      "image/png": "[encoded data removed]",
      "text/plain": [
       "<Figure size 864x576 with 1 Axes>"
      ]
     },
     "metadata": {
      "needs_background": "light"
     },
     "output_type": "display_data"
    }
   ],
   "source": [
    "plt.figure(figsize=(12,8))\n",
    "sns.countplot(x=\"order_hour_of_day\", data=orders)\n",
    "plt.ylabel('Count', fontsize=12)\n",
    "plt.xlabel('Hour of day', fontsize=12)\n",
    "plt.xticks(rotation='vertical')\n",
    "plt.title(\"Frequency of order by hour of day\", fontsize=15)\n",
    "plt.show()"
   ]
  },
  {
   "cell_type": "markdown",
   "metadata": {},
   "source": [
    "Based on the time of the day, we can say that most of the orders are made during the day starting from 8 AM"
   ]
  },
  {
   "cell_type": "code",
   "execution_count": 13,
   "metadata": {},
   "outputs": [
    {
     "data": {
      "image/png": "[encoded data removed]",
      "text/plain": [
       "<Figure size 1080x576 with 2 Axes>"
      ]
     },
     "metadata": {
      "needs_background": "light"
     },
     "output_type": "display_data"
    }
   ],
   "source": [
    "grouped_df = orders.groupby([\"order_dow\", \"order_hour_of_day\"])[\"order_number\"].aggregate(\"count\").reset_index()\n",
    "grouped_df = grouped_df.pivot('order_dow', 'order_hour_of_day', 'order_number')\n",
    "\n",
    "plt.figure(figsize=(15,8))\n",
    "sns.heatmap(grouped_df)\n",
    "plt.title(\"Frequency of Day of week Vs Hour of day\")\n",
    "plt.show()"
   ]
  },
  {
   "cell_type": "markdown",
   "metadata": {},
   "source": [
    "The heatmap shows that the maximum number of orders are placed during 0th day evening and 1st day morning."
   ]
  },
  {
   "cell_type": "code",
   "execution_count": 77,
   "metadata": {},
   "outputs": [
    {
     "data": {
      "image/png": "[encoded data removed]",
      "text/plain": [
       "<Figure size 864x576 with 1 Axes>"
      ]
     },
     "metadata": {
      "needs_background": "light"
     },
     "output_type": "display_data"
    }
   ],
   "source": [
    "plt.figure(figsize=(12,8))\n",
    "sns.countplot(x=\"days_since_prior_order\", data=orders)\n",
    "plt.ylabel('Count', fontsize=12)\n",
    "plt.xlabel('Days since prior order', fontsize=12)\n",
    "plt.xticks(rotation='vertical')\n",
    "plt.title(\"Frequency distribution by days since prior order\", fontsize=15)\n",
    "plt.show()"
   ]
  },
  {
   "cell_type": "markdown",
   "metadata": {},
   "source": [
    "Looks like customers order once in every week (check the peak at 7 days) or once in a month (peak at 30 days). We could also see smaller peaks at 14, 21 and 28 days (weekly intervals)."
   ]
  },
  {
   "cell_type": "code",
   "execution_count": 47,
   "metadata": {},
   "outputs": [
    {
     "data": {
      "image/png": "[encoded data removed]",
      "text/plain": [
       "<Figure size 864x576 with 1 Axes>"
      ]
     },
     "metadata": {
      "needs_background": "light"
     },
     "output_type": "display_data"
    }
   ],
   "source": [
    "grouped = order_products.groupby('reordered')['product_id'].aggregate({'Total Products': 'count'}).reset_index()\n",
    "grouped['Ratios'] = grouped[\"Total Products\"].apply(lambda x: round(x/grouped['Total Products'].sum(), 2))\n",
    "\n",
    "plt.figure(figsize = (12,8))\n",
    "g = sns.barplot(x='reordered', y = 'Ratios', data = grouped)\n",
    "\n",
    "for index, row in grouped.iterrows():\n",
    "    g.text(row.reordered, row.Ratios, row.Ratios, color = 'Black', fontsize = 20)"
   ]
  },
  {
   "cell_type": "markdown",
   "metadata": {},
   "source": [
    "59% of the products that are in an order are re-ordered products."
   ]
  },
  {
   "cell_type": "code",
   "execution_count": 107,
   "metadata": {},
   "outputs": [
    {
     "data": {
      "text/plain": [
       "1    0.88\n",
       "0    0.12\n",
       "Name: reordered, dtype: float64"
      ]
     },
     "execution_count": 107,
     "metadata": {},
     "output_type": "execute_result"
    }
   ],
   "source": [
    "grouped_df = order_products.groupby(\"order_id\")[\"reordered\"].aggregate(\"sum\").reset_index()\n",
    "grouped_df[\"reordered\"].loc[grouped_df[\"reordered\"]>1] = 1\n",
    "round(grouped_df[\"reordered\"].value_counts()/grouped_df.shape[0], 2)"
   ]
  },
  {
   "cell_type": "markdown",
   "metadata": {},
   "source": [
    "About 12% of the orders contain no re-ordered items."
   ]
  },
  {
   "cell_type": "code",
   "execution_count": 51,
   "metadata": {},
   "outputs": [
    {
     "data": {
      "image/png": "[encoded data removed]",
      "text/plain": [
       "<Figure size 864x576 with 1 Axes>"
      ]
     },
     "metadata": {
      "needs_background": "light"
     },
     "output_type": "display_data"
    }
   ],
   "source": [
    "grouped_df = order_products.groupby(\"order_id\")[\"add_to_cart_order\"].aggregate(\"max\").reset_index()\n",
    "cnt_srs = grouped_df.add_to_cart_order.value_counts()\n",
    "\n",
    "plt.figure(figsize=(12,8))\n",
    "sns.barplot(cnt_srs.index, cnt_srs.values, alpha=0.8)\n",
    "plt.ylabel('Number of Orders', fontsize=12)\n",
    "plt.xlabel('Number of products in a given order', fontsize=12)\n",
    "plt.xticks(rotation='vertical')\n",
    "plt.xlim(-1,50)\n",
    "plt.show()"
   ]
  },
  {
   "cell_type": "markdown",
   "metadata": {},
   "source": [
    "Many number of people like to order 1 to 10 products per order and it then becomes a right tailed distribution."
   ]
  },
  {
   "cell_type": "code",
   "execution_count": 18,
   "metadata": {},
   "outputs": [
    {
     "data": {
      "text/html": [
       "<div>\n",
       "<style scoped>\n",
       "    .dataframe tbody tr th:only-of-type {\n",
       "        vertical-align: middle;\n",
       "    }\n",
       "\n",
       "    .dataframe tbody tr th {\n",
       "        vertical-align: top;\n",
       "    }\n",
       "\n",
       "    .dataframe thead th {\n",
       "        text-align: right;\n",
       "    }\n",
       "</style>\n",
       "<table border=\"1\" class=\"dataframe\">\n",
       "  <thead>\n",
       "    <tr style=\"text-align: right;\">\n",
       "      <th></th>\n",
       "      <th>order_id</th>\n",
       "      <th>product_id</th>\n",
       "      <th>add_to_cart_order</th>\n",
       "      <th>reordered</th>\n",
       "      <th>product_name_x</th>\n",
       "      <th>aisle_id_x</th>\n",
       "      <th>department_id_x</th>\n",
       "      <th>aisle</th>\n",
       "      <th>department</th>\n",
       "      <th>user_id</th>\n",
       "      <th>order_number</th>\n",
       "      <th>order_dow</th>\n",
       "      <th>order_hour_of_day</th>\n",
       "      <th>days_since_prior_order</th>\n",
       "      <th>index</th>\n",
       "      <th>product_name_y</th>\n",
       "      <th>aisle_id_y</th>\n",
       "      <th>department_id_y</th>\n",
       "    </tr>\n",
       "  </thead>\n",
       "  <tbody>\n",
       "    <tr>\n",
       "      <th>0</th>\n",
       "      <td>2</td>\n",
       "      <td>33120</td>\n",
       "      <td>1</td>\n",
       "      <td>1</td>\n",
       "      <td>Organic Egg Whites</td>\n",
       "      <td>86</td>\n",
       "      <td>16</td>\n",
       "      <td>eggs</td>\n",
       "      <td>dairy eggs</td>\n",
       "      <td>202279</td>\n",
       "      <td>3</td>\n",
       "      <td>5</td>\n",
       "      <td>9</td>\n",
       "      <td>8.0</td>\n",
       "      <td>33119</td>\n",
       "      <td>Organic Egg Whites</td>\n",
       "      <td>86</td>\n",
       "      <td>16</td>\n",
       "    </tr>\n",
       "    <tr>\n",
       "      <th>1</th>\n",
       "      <td>2</td>\n",
       "      <td>28985</td>\n",
       "      <td>2</td>\n",
       "      <td>1</td>\n",
       "      <td>Michigan Organic Kale</td>\n",
       "      <td>83</td>\n",
       "      <td>4</td>\n",
       "      <td>fresh vegetables</td>\n",
       "      <td>produce</td>\n",
       "      <td>202279</td>\n",
       "      <td>3</td>\n",
       "      <td>5</td>\n",
       "      <td>9</td>\n",
       "      <td>8.0</td>\n",
       "      <td>28984</td>\n",
       "      <td>Michigan Organic Kale</td>\n",
       "      <td>83</td>\n",
       "      <td>4</td>\n",
       "    </tr>\n",
       "    <tr>\n",
       "      <th>2</th>\n",
       "      <td>2</td>\n",
       "      <td>9327</td>\n",
       "      <td>3</td>\n",
       "      <td>0</td>\n",
       "      <td>Garlic Powder</td>\n",
       "      <td>104</td>\n",
       "      <td>13</td>\n",
       "      <td>spices seasonings</td>\n",
       "      <td>pantry</td>\n",
       "      <td>202279</td>\n",
       "      <td>3</td>\n",
       "      <td>5</td>\n",
       "      <td>9</td>\n",
       "      <td>8.0</td>\n",
       "      <td>9326</td>\n",
       "      <td>Garlic Powder</td>\n",
       "      <td>104</td>\n",
       "      <td>13</td>\n",
       "    </tr>\n",
       "    <tr>\n",
       "      <th>3</th>\n",
       "      <td>2</td>\n",
       "      <td>45918</td>\n",
       "      <td>4</td>\n",
       "      <td>1</td>\n",
       "      <td>Coconut Butter</td>\n",
       "      <td>19</td>\n",
       "      <td>13</td>\n",
       "      <td>oils vinegars</td>\n",
       "      <td>pantry</td>\n",
       "      <td>202279</td>\n",
       "      <td>3</td>\n",
       "      <td>5</td>\n",
       "      <td>9</td>\n",
       "      <td>8.0</td>\n",
       "      <td>45917</td>\n",
       "      <td>Coconut Butter</td>\n",
       "      <td>19</td>\n",
       "      <td>13</td>\n",
       "    </tr>\n",
       "    <tr>\n",
       "      <th>4</th>\n",
       "      <td>2</td>\n",
       "      <td>30035</td>\n",
       "      <td>5</td>\n",
       "      <td>0</td>\n",
       "      <td>Natural Sweetener</td>\n",
       "      <td>17</td>\n",
       "      <td>13</td>\n",
       "      <td>baking ingredients</td>\n",
       "      <td>pantry</td>\n",
       "      <td>202279</td>\n",
       "      <td>3</td>\n",
       "      <td>5</td>\n",
       "      <td>9</td>\n",
       "      <td>8.0</td>\n",
       "      <td>30034</td>\n",
       "      <td>Natural Sweetener</td>\n",
       "      <td>17</td>\n",
       "      <td>13</td>\n",
       "    </tr>\n",
       "  </tbody>\n",
       "</table>\n",
       "</div>"
      ],
      "text/plain": [
       "   order_id  product_id  add_to_cart_order  reordered         product_name_x  \\\n",
       "0         2       33120                  1          1     Organic Egg Whites   \n",
       "1         2       28985                  2          1  Michigan Organic Kale   \n",
       "2         2        9327                  3          0          Garlic Powder   \n",
       "3         2       45918                  4          1         Coconut Butter   \n",
       "4         2       30035                  5          0      Natural Sweetener   \n",
       "\n",
       "   aisle_id_x  department_id_x               aisle  department  user_id  \\\n",
       "0          86               16                eggs  dairy eggs   202279   \n",
       "1          83                4    fresh vegetables     produce   202279   \n",
       "2         104               13   spices seasonings      pantry   202279   \n",
       "3          19               13       oils vinegars      pantry   202279   \n",
       "4          17               13  baking ingredients      pantry   202279   \n",
       "\n",
       "   order_number  order_dow  order_hour_of_day  days_since_prior_order  index  \\\n",
       "0             3          5                  9                     8.0  33119   \n",
       "1             3          5                  9                     8.0  28984   \n",
       "2             3          5                  9                     8.0   9326   \n",
       "3             3          5                  9                     8.0  45917   \n",
       "4             3          5                  9                     8.0  30034   \n",
       "\n",
       "          product_name_y  aisle_id_y  department_id_y  \n",
       "0     Organic Egg Whites          86               16  \n",
       "1  Michigan Organic Kale          83                4  \n",
       "2          Garlic Powder         104               13  \n",
       "3         Coconut Butter          19               13  \n",
       "4      Natural Sweetener          17               13  "
      ]
     },
     "execution_count": 18,
     "metadata": {},
     "output_type": "execute_result"
    }
   ],
   "source": [
    "order_products.head()"
   ]
  },
  {
   "cell_type": "code",
   "execution_count": 20,
   "metadata": {},
   "outputs": [
    {
     "data": {
      "text/html": [
       "<div>\n",
       "<style scoped>\n",
       "    .dataframe tbody tr th:only-of-type {\n",
       "        vertical-align: middle;\n",
       "    }\n",
       "\n",
       "    .dataframe tbody tr th {\n",
       "        vertical-align: top;\n",
       "    }\n",
       "\n",
       "    .dataframe thead th {\n",
       "        text-align: right;\n",
       "    }\n",
       "</style>\n",
       "<table border=\"1\" class=\"dataframe\">\n",
       "  <thead>\n",
       "    <tr style=\"text-align: right;\">\n",
       "      <th></th>\n",
       "      <th>order_id</th>\n",
       "      <th>product_id</th>\n",
       "      <th>add_to_cart_order</th>\n",
       "      <th>reordered</th>\n",
       "      <th>product_name</th>\n",
       "      <th>aisle_id</th>\n",
       "      <th>department_id</th>\n",
       "      <th>aisle</th>\n",
       "      <th>department</th>\n",
       "    </tr>\n",
       "  </thead>\n",
       "  <tbody>\n",
       "    <tr>\n",
       "      <th>0</th>\n",
       "      <td>2</td>\n",
       "      <td>33120</td>\n",
       "      <td>1</td>\n",
       "      <td>1</td>\n",
       "      <td>Organic Egg Whites</td>\n",
       "      <td>86</td>\n",
       "      <td>16</td>\n",
       "      <td>eggs</td>\n",
       "      <td>dairy eggs</td>\n",
       "    </tr>\n",
       "    <tr>\n",
       "      <th>1</th>\n",
       "      <td>2</td>\n",
       "      <td>28985</td>\n",
       "      <td>2</td>\n",
       "      <td>1</td>\n",
       "      <td>Michigan Organic Kale</td>\n",
       "      <td>83</td>\n",
       "      <td>4</td>\n",
       "      <td>fresh vegetables</td>\n",
       "      <td>produce</td>\n",
       "    </tr>\n",
       "    <tr>\n",
       "      <th>2</th>\n",
       "      <td>2</td>\n",
       "      <td>9327</td>\n",
       "      <td>3</td>\n",
       "      <td>0</td>\n",
       "      <td>Garlic Powder</td>\n",
       "      <td>104</td>\n",
       "      <td>13</td>\n",
       "      <td>spices seasonings</td>\n",
       "      <td>pantry</td>\n",
       "    </tr>\n",
       "    <tr>\n",
       "      <th>3</th>\n",
       "      <td>2</td>\n",
       "      <td>45918</td>\n",
       "      <td>4</td>\n",
       "      <td>1</td>\n",
       "      <td>Coconut Butter</td>\n",
       "      <td>19</td>\n",
       "      <td>13</td>\n",
       "      <td>oils vinegars</td>\n",
       "      <td>pantry</td>\n",
       "    </tr>\n",
       "    <tr>\n",
       "      <th>4</th>\n",
       "      <td>2</td>\n",
       "      <td>30035</td>\n",
       "      <td>5</td>\n",
       "      <td>0</td>\n",
       "      <td>Natural Sweetener</td>\n",
       "      <td>17</td>\n",
       "      <td>13</td>\n",
       "      <td>baking ingredients</td>\n",
       "      <td>pantry</td>\n",
       "    </tr>\n",
       "  </tbody>\n",
       "</table>\n",
       "</div>"
      ],
      "text/plain": [
       "   order_id  product_id  add_to_cart_order  reordered           product_name  \\\n",
       "0         2       33120                  1          1     Organic Egg Whites   \n",
       "1         2       28985                  2          1  Michigan Organic Kale   \n",
       "2         2        9327                  3          0          Garlic Powder   \n",
       "3         2       45918                  4          1         Coconut Butter   \n",
       "4         2       30035                  5          0      Natural Sweetener   \n",
       "\n",
       "   aisle_id  department_id               aisle  department  \n",
       "0        86             16                eggs  dairy eggs  \n",
       "1        83              4    fresh vegetables     produce  \n",
       "2       104             13   spices seasonings      pantry  \n",
       "3        19             13       oils vinegars      pantry  \n",
       "4        17             13  baking ingredients      pantry  "
      ]
     },
     "execution_count": 20,
     "metadata": {},
     "output_type": "execute_result"
    }
   ],
   "source": [
    "order_products = pd.merge(order_products, products, on='product_id', how='left')\n",
    "order_products = pd.merge(order_products, aisles, on='aisle_id', how='left')\n",
    "order_products = pd.merge(order_products, departments, on='department_id', how='left')\n",
    "\n",
    "order_products.drop(columns = [\"index_x\", \"index_y\", \"index\"], inplace = True)\n",
    "order_products.head()"
   ]
  },
  {
   "cell_type": "code",
   "execution_count": 65,
   "metadata": {},
   "outputs": [
    {
     "name": "stdout",
     "output_type": "stream",
     "text": [
      "Banana\n",
      "Bag of Organic Bananas\n",
      "Organic Strawberries\n",
      "Organic Baby Spinach\n",
      "Organic Hass Avocado\n",
      "Organic Avocado\n",
      "Large Lemon\n",
      "Limes\n",
      "Strawberries\n",
      "Organic Whole Milk\n",
      "Organic Raspberries\n",
      "Organic Yellow Onion\n",
      "Organic Garlic\n",
      "Organic Zucchini\n",
      "Organic Blueberries\n",
      "Cucumber Kirby\n",
      "Organic Fuji Apple\n",
      "Apple Honeycrisp Organic\n",
      "Organic Grape Tomatoes\n",
      "Organic Lemon\n"
     ]
    }
   ],
   "source": [
    "cnt_srs = order_products['product_name'].value_counts().reset_index().head(20)\n",
    "cnt_srs.columns = ['product_name', 'frequency_count']\n",
    "for prod in list(cnt_srs['product_name']):\n",
    "    print(prod)"
   ]
  },
  {
   "cell_type": "code",
   "execution_count": 114,
   "metadata": {},
   "outputs": [
    {
     "data": {
      "image/png": "[encoded data removed]",
      "text/plain": [
       "<Figure size 1080x576 with 1 Axes>"
      ]
     },
     "metadata": {
      "needs_background": "light"
     },
     "output_type": "display_data"
    }
   ],
   "source": [
    "cnt_srs = order_products.groupby('product_name')['reordered'].aggregate('sum').sort_values(ascending = False).reset_index().head(15)\n",
    "cnt_srs.columns = ['product_name', 'frequency_count']\n",
    "\n",
    "plt.figure(figsize = (15,8))\n",
    "sns.barplot(x='product_name', y = 'frequency_count', data = cnt_srs)\n",
    "plt.xlabel('Product Name')\n",
    "plt.ylabel('Number of reorders')\n",
    "plt.xticks(rotation='vertical')\n",
    "plt.show()"
   ]
  },
  {
   "cell_type": "code",
   "execution_count": 116,
   "metadata": {},
   "outputs": [
    {
     "data": {
      "image/png": "[encoded data removed]",
      "text/plain": [
       "<Figure size 1080x576 with 1 Axes>"
      ]
     },
     "metadata": {
      "needs_background": "light"
     },
     "output_type": "display_data"
    }
   ],
   "source": [
    "cnt_srs = order_products.groupby('department')['reordered'].aggregate('sum').sort_values(ascending = False).reset_index()\n",
    "cnt_srs.columns = ['product_name', 'frequency_count']\n",
    "\n",
    "plt.figure(figsize = (15,8))\n",
    "sns.barplot(x='product_name', y = 'frequency_count', data = cnt_srs)\n",
    "plt.xlabel('Department')\n",
    "plt.ylabel('Number of reorders')\n",
    "plt.xticks(rotation='vertical')\n",
    "plt.show()"
   ]
  },
  {
   "cell_type": "code",
   "execution_count": 117,
   "metadata": {},
   "outputs": [
    {
     "data": {
      "image/png": "[encoded data removed]",
      "text/plain": [
       "<Figure size 1080x576 with 1 Axes>"
      ]
     },
     "metadata": {
      "needs_background": "light"
     },
     "output_type": "display_data"
    }
   ],
   "source": [
    "cnt_srs = order_products.groupby('aisle')['reordered'].aggregate('sum').sort_values(ascending = False).reset_index().head(15)\n",
    "cnt_srs.columns = ['product_name', 'frequency_count']\n",
    "\n",
    "plt.figure(figsize = (15,8))\n",
    "sns.barplot(x='product_name', y = 'frequency_count', data = cnt_srs)\n",
    "plt.xlabel('Aisles')\n",
    "plt.ylabel('Number of reorders')\n",
    "plt.xticks(rotation='vertical')\n",
    "plt.show()"
   ]
  },
  {
   "cell_type": "code",
   "execution_count": 53,
   "metadata": {},
   "outputs": [
    {
     "data": {
      "image/png": "[encoded data removed]",
      "text/plain": [
       "<Figure size 864x576 with 1 Axes>"
      ]
     },
     "metadata": {
      "needs_background": "light"
     },
     "output_type": "display_data"
    }
   ],
   "source": [
    "cnt_srs = order_products['product_name'].value_counts().reset_index().head(20)\n",
    "cnt_srs.columns = ['product_name', 'frequency_count']\n",
    "\n",
    "plt.figure(figsize = (12,8))\n",
    "sns.barplot(x='product_name', y = 'frequency_count', data = cnt_srs)\n",
    "plt.xlabel('Product Name')\n",
    "plt.ylabel('Number of orders')\n",
    "plt.xticks(rotation='vertical')\n",
    "plt.show()"
   ]
  },
  {
   "cell_type": "markdown",
   "metadata": {},
   "source": [
    "Most of the products that are ordered are organic products most of them being fruits."
   ]
  },
  {
   "cell_type": "code",
   "execution_count": 80,
   "metadata": {},
   "outputs": [
    {
     "data": {
      "image/png": "[encoded data removed]",
      "text/plain": [
       "<Figure size 864x576 with 1 Axes>"
      ]
     },
     "metadata": {
      "needs_background": "light"
     },
     "output_type": "display_data"
    }
   ],
   "source": [
    "cnt_srs = order_products['aisle'].value_counts().head(20)\n",
    "plt.figure(figsize=(12,8))\n",
    "sns.barplot(cnt_srs.index, cnt_srs.values, alpha=0.8)\n",
    "plt.ylabel('Number of Occurrences', fontsize=12)\n",
    "plt.xlabel('Aisle', fontsize=12)\n",
    "plt.xticks(rotation='vertical')\n",
    "plt.show()"
   ]
  },
  {
   "cell_type": "markdown",
   "metadata": {},
   "source": [
    "These are the top 20 aisles where most products are sold. Top two famous aisles of instacart are Fresh Fruits and Fresh Vegetables."
   ]
  },
  {
   "cell_type": "code",
   "execution_count": 79,
   "metadata": {},
   "outputs": [
    {
     "data": {
      "text/plain": [
       "<Figure size 1080x576 with 0 Axes>"
      ]
     },
     "metadata": {},
     "output_type": "display_data"
    },
    {
     "data": {
      "image/png": "[encoded data removed]",
      "text/plain": [
       "<Figure size 864x576 with 1 Axes>"
      ]
     },
     "metadata": {
      "needs_background": "light"
     },
     "output_type": "display_data"
    }
   ],
   "source": [
    "plt.figure(figsize=(15,8))\n",
    "temp_series = order_products['department'].value_counts()\n",
    "\n",
    "plt.figure(figsize=(12,8))\n",
    "sns.barplot(temp_series.index, temp_series.values, alpha=0.8)\n",
    "plt.ylabel('Number of Occurrences', fontsize=12)\n",
    "plt.xlabel('Departments', fontsize=12)\n",
    "plt.title('Department-wise orders', fontsize = 20)\n",
    "plt.xticks(rotation='vertical')\n",
    "plt.show()"
   ]
  },
  {
   "cell_type": "markdown",
   "metadata": {},
   "source": [
    "These are number of orders department-wise. Produce and Dairy Eggs being the top departments in terms of products ordered."
   ]
  },
  {
   "cell_type": "code",
   "execution_count": 21,
   "metadata": {},
   "outputs": [
    {
     "data": {
      "text/html": [
       "<div>\n",
       "<style scoped>\n",
       "    .dataframe tbody tr th:only-of-type {\n",
       "        vertical-align: middle;\n",
       "    }\n",
       "\n",
       "    .dataframe tbody tr th {\n",
       "        vertical-align: top;\n",
       "    }\n",
       "\n",
       "    .dataframe thead th {\n",
       "        text-align: right;\n",
       "    }\n",
       "</style>\n",
       "<table border=\"1\" class=\"dataframe\">\n",
       "  <thead>\n",
       "    <tr style=\"text-align: right;\">\n",
       "      <th></th>\n",
       "      <th>order_id</th>\n",
       "      <th>product_id</th>\n",
       "      <th>add_to_cart_order</th>\n",
       "      <th>reordered</th>\n",
       "      <th>product_name</th>\n",
       "      <th>aisle_id</th>\n",
       "      <th>department_id</th>\n",
       "      <th>aisle</th>\n",
       "      <th>department</th>\n",
       "      <th>user_id</th>\n",
       "      <th>order_number</th>\n",
       "      <th>order_dow</th>\n",
       "      <th>order_hour_of_day</th>\n",
       "      <th>days_since_prior_order</th>\n",
       "    </tr>\n",
       "  </thead>\n",
       "  <tbody>\n",
       "    <tr>\n",
       "      <th>0</th>\n",
       "      <td>2</td>\n",
       "      <td>33120</td>\n",
       "      <td>1</td>\n",
       "      <td>1</td>\n",
       "      <td>Organic Egg Whites</td>\n",
       "      <td>86</td>\n",
       "      <td>16</td>\n",
       "      <td>eggs</td>\n",
       "      <td>dairy eggs</td>\n",
       "      <td>202279</td>\n",
       "      <td>3</td>\n",
       "      <td>5</td>\n",
       "      <td>9</td>\n",
       "      <td>8.0</td>\n",
       "    </tr>\n",
       "    <tr>\n",
       "      <th>1</th>\n",
       "      <td>2</td>\n",
       "      <td>28985</td>\n",
       "      <td>2</td>\n",
       "      <td>1</td>\n",
       "      <td>Michigan Organic Kale</td>\n",
       "      <td>83</td>\n",
       "      <td>4</td>\n",
       "      <td>fresh vegetables</td>\n",
       "      <td>produce</td>\n",
       "      <td>202279</td>\n",
       "      <td>3</td>\n",
       "      <td>5</td>\n",
       "      <td>9</td>\n",
       "      <td>8.0</td>\n",
       "    </tr>\n",
       "    <tr>\n",
       "      <th>2</th>\n",
       "      <td>2</td>\n",
       "      <td>9327</td>\n",
       "      <td>3</td>\n",
       "      <td>0</td>\n",
       "      <td>Garlic Powder</td>\n",
       "      <td>104</td>\n",
       "      <td>13</td>\n",
       "      <td>spices seasonings</td>\n",
       "      <td>pantry</td>\n",
       "      <td>202279</td>\n",
       "      <td>3</td>\n",
       "      <td>5</td>\n",
       "      <td>9</td>\n",
       "      <td>8.0</td>\n",
       "    </tr>\n",
       "    <tr>\n",
       "      <th>3</th>\n",
       "      <td>2</td>\n",
       "      <td>45918</td>\n",
       "      <td>4</td>\n",
       "      <td>1</td>\n",
       "      <td>Coconut Butter</td>\n",
       "      <td>19</td>\n",
       "      <td>13</td>\n",
       "      <td>oils vinegars</td>\n",
       "      <td>pantry</td>\n",
       "      <td>202279</td>\n",
       "      <td>3</td>\n",
       "      <td>5</td>\n",
       "      <td>9</td>\n",
       "      <td>8.0</td>\n",
       "    </tr>\n",
       "    <tr>\n",
       "      <th>4</th>\n",
       "      <td>2</td>\n",
       "      <td>30035</td>\n",
       "      <td>5</td>\n",
       "      <td>0</td>\n",
       "      <td>Natural Sweetener</td>\n",
       "      <td>17</td>\n",
       "      <td>13</td>\n",
       "      <td>baking ingredients</td>\n",
       "      <td>pantry</td>\n",
       "      <td>202279</td>\n",
       "      <td>3</td>\n",
       "      <td>5</td>\n",
       "      <td>9</td>\n",
       "      <td>8.0</td>\n",
       "    </tr>\n",
       "  </tbody>\n",
       "</table>\n",
       "</div>"
      ],
      "text/plain": [
       "   order_id  product_id  add_to_cart_order  reordered           product_name  \\\n",
       "0         2       33120                  1          1     Organic Egg Whites   \n",
       "1         2       28985                  2          1  Michigan Organic Kale   \n",
       "2         2        9327                  3          0          Garlic Powder   \n",
       "3         2       45918                  4          1         Coconut Butter   \n",
       "4         2       30035                  5          0      Natural Sweetener   \n",
       "\n",
       "   aisle_id  department_id               aisle  department  user_id  \\\n",
       "0        86             16                eggs  dairy eggs   202279   \n",
       "1        83              4    fresh vegetables     produce   202279   \n",
       "2       104             13   spices seasonings      pantry   202279   \n",
       "3        19             13       oils vinegars      pantry   202279   \n",
       "4        17             13  baking ingredients      pantry   202279   \n",
       "\n",
       "   order_number  order_dow  order_hour_of_day  days_since_prior_order  \n",
       "0             3          5                  9                     8.0  \n",
       "1             3          5                  9                     8.0  \n",
       "2             3          5                  9                     8.0  \n",
       "3             3          5                  9                     8.0  \n",
       "4             3          5                  9                     8.0  "
      ]
     },
     "execution_count": 21,
     "metadata": {},
     "output_type": "execute_result"
    }
   ],
   "source": [
    "order_products = pd.merge(order_products, orders, on = ['order_id', 'order_id'], how = 'left')\n",
    "order_products.head()"
   ]
  },
  {
   "cell_type": "code",
   "execution_count": 123,
   "metadata": {},
   "outputs": [
    {
     "data": {
      "image/png": "[encoded data removed]",
      "text/plain": [
       "<Figure size 1080x576 with 1 Axes>"
      ]
     },
     "metadata": {
      "needs_background": "light"
     },
     "output_type": "display_data"
    }
   ],
   "source": [
    "grouped_df = order_products.groupby([\"department\"])[\"reordered\"].aggregate(\"mean\").reset_index().sort_values(by = 'reordered', ascending = False)\n",
    "\n",
    "plt.figure(figsize=(15,8))\n",
    "sns.barplot(grouped_df['department'].values, grouped_df['reordered'].values, alpha=0.8)\n",
    "plt.ylabel('Reorder ratio', fontsize=12)\n",
    "plt.xlabel('Department', fontsize=12)\n",
    "plt.title(\"Reorder ratio across Department\", fontsize=15)\n",
    "plt.xticks(rotation='vertical')\n",
    "#plt.ylim(0.5, 0.7)\n",
    "plt.show()"
   ]
  },
  {
   "cell_type": "code",
   "execution_count": 23,
   "metadata": {
    "scrolled": false
   },
   "outputs": [
    {
     "data": {
      "image/png": "[encoded data removed]",
      "text/plain": [
       "<Figure size 1080x576 with 1 Axes>"
      ]
     },
     "metadata": {
      "needs_background": "light"
     },
     "output_type": "display_data"
    }
   ],
   "source": [
    "grouped_df = order_products.groupby([\"aisle\"])[\"reordered\"].aggregate(\"mean\").reset_index().sort_values(by = 'reordered', ascending = False).head(15)\n",
    "\n",
    "plt.figure(figsize=(15,8))\n",
    "sns.barplot(grouped_df['aisle'].values, grouped_df['reordered'].values, alpha=0.8)\n",
    "plt.ylabel('Reorder ratio', fontsize=12)\n",
    "plt.xlabel('Aisle', fontsize=12)\n",
    "plt.title(\"Reorder ratio across Aisle\", fontsize=15)\n",
    "plt.xticks(rotation='vertical')\n",
    "#plt.ylim(0.5, 0.7)\n",
    "plt.show()"
   ]
  },
  {
   "cell_type": "code",
   "execution_count": 71,
   "metadata": {},
   "outputs": [
    {
     "data": {
      "image/png": "[encoded data removed]",
      "text/plain": [
       "<Figure size 864x576 with 1 Axes>"
      ]
     },
     "metadata": {
      "needs_background": "light"
     },
     "output_type": "display_data"
    }
   ],
   "source": [
    "grouped_df = order_products.groupby([\"order_hour_of_day\"])[\"reordered\"].aggregate(\"mean\").reset_index()\n",
    "\n",
    "plt.figure(figsize=(12,8))\n",
    "sns.barplot(grouped_df['order_hour_of_day'].values, grouped_df['reordered'].values, alpha=0.8, color=color[4])\n",
    "plt.ylabel('Reorder ratio', fontsize=12)\n",
    "plt.xlabel('Hour of day', fontsize=12)\n",
    "plt.title(\"Reorder ratio across hour of day\", fontsize=15)\n",
    "plt.xticks(rotation='vertical')\n",
    "plt.ylim(0.5, 0.7)\n",
    "plt.show()"
   ]
  },
  {
   "cell_type": "markdown",
   "metadata": {},
   "source": [
    "The reorder ratio is higher during the mornings from 6 AM to 7 AM."
   ]
  },
  {
   "cell_type": "code",
   "execution_count": 73,
   "metadata": {},
   "outputs": [
    {
     "data": {
      "image/png": "[encoded data removed]",
      "text/plain": [
       "<Figure size 1080x576 with 2 Axes>"
      ]
     },
     "metadata": {
      "needs_background": "light"
     },
     "output_type": "display_data"
    }
   ],
   "source": [
    "grouped_df = order_products.groupby([\"order_dow\", \"order_hour_of_day\"])[\"reordered\"].aggregate(\"mean\").reset_index()\n",
    "grouped_df = grouped_df.pivot('order_dow', 'order_hour_of_day', 'reordered')\n",
    "\n",
    "plt.figure(figsize=(15,8))\n",
    "sns.heatmap(grouped_df)\n",
    "plt.title(\"Reorder ratio of Day of week Vs Hour of day\")\n",
    "plt.show()"
   ]
  },
  {
   "cell_type": "markdown",
   "metadata": {},
   "source": [
    "When we do the heatmap with day of the week and time, then we get to know the reorder ratio is higher during the 1st day mornings."
   ]
  },
  {
   "cell_type": "code",
   "execution_count": 130,
   "metadata": {},
   "outputs": [
    {
     "data": {
      "text/plain": [
       "(array([ 0,  1,  2,  3,  4,  5,  6,  7,  8,  9, 10, 11, 12, 13, 14]),\n",
       " <a list of 15 Text xticklabel objects>)"
      ]
     },
     "execution_count": 130,
     "metadata": {},
     "output_type": "execute_result"
    },
    {
     "data": {
      "image/png": "[encoded data removed]",
      "text/plain": [
       "<Figure size 1080x576 with 1 Axes>"
      ]
     },
     "metadata": {
      "needs_background": "light"
     },
     "output_type": "display_data"
    }
   ],
   "source": [
    "grouped = order_products.groupby(\"product_id\")[\"reordered\"].aggregate({'reorder_sum': sum,'reorder_total': 'count'}).reset_index()\n",
    "grouped['reorder_probability'] = grouped['reorder_sum'] / grouped['reorder_total']\n",
    "grouped = pd.merge(grouped, products[['product_id', 'product_name']], how='left', on=['product_id'])\n",
    "grouped = grouped[grouped.reorder_total > 75].sort_values(['reorder_probability'], ascending=False)[:15]\n",
    "#grouped\n",
    "\n",
    "plt.figure(figsize = (15,8))\n",
    "sns.barplot(x = 'product_name', y = 'reorder_probability', data = grouped)\n",
    "plt.xlabel('Products')\n",
    "plt.ylabel('Reorder Probability')\n",
    "plt.ylim(0.8, 0.95)\n",
    "plt.xticks(rotation = 'vertical')"
   ]
  },
  {
   "cell_type": "markdown",
   "metadata": {},
   "source": [
    "## Association Rules Mining"
   ]
  },
  {
   "cell_type": "code",
   "execution_count": 7,
   "metadata": {},
   "outputs": [],
   "source": [
    "import sys\n",
    "from itertools import combinations, groupby\n",
    "from collections import Counter"
   ]
  },
  {
   "cell_type": "code",
   "execution_count": 8,
   "metadata": {},
   "outputs": [
    {
     "data": {
      "text/plain": [
       "order_id\n",
       "2    33120\n",
       "2    28985\n",
       "2     9327\n",
       "2    45918\n",
       "2    30035\n",
       "2    17794\n",
       "2    40141\n",
       "2     1819\n",
       "2    43668\n",
       "4    46842\n",
       "Name: item_id, dtype: int64"
      ]
     },
     "execution_count": 8,
     "metadata": {},
     "output_type": "execute_result"
    }
   ],
   "source": [
    "items = order_products.set_index('order_id')['product_id'].rename('item_id')\n",
    "items.head(10)"
   ]
  },
  {
   "cell_type": "code",
   "execution_count": 30,
   "metadata": {},
   "outputs": [
    {
     "data": {
      "text/plain": [
       "414772"
      ]
     },
     "execution_count": 30,
     "metadata": {},
     "output_type": "execute_result"
    }
   ],
   "source": [
    "len(orders.order_id.unique())"
   ]
  },
  {
   "cell_type": "code",
   "execution_count": 75,
   "metadata": {},
   "outputs": [
    {
     "name": "stdout",
     "output_type": "stream",
     "text": [
      "Dimensions: (3923788,); \n",
      "Unique_orders: 389772; \n",
      "Unique_items: 42814\n"
     ]
    }
   ],
   "source": [
    "print('Dimensions: {0}; \\nUnique_orders: {1}; \\nUnique_items: {2}'.\n",
    "     format(items.shape, len(items.index.unique()), len(items.value_counts())))"
   ]
  },
  {
   "cell_type": "markdown",
   "metadata": {},
   "source": [
    "## Association Rules Function\n",
    "\n",
    "### A. Helper functions to the main association rules function"
   ]
  },
  {
   "cell_type": "code",
   "execution_count": 9,
   "metadata": {},
   "outputs": [],
   "source": [
    "# Returns frequency counts for items and item pairs\n",
    "def freq(iterable):\n",
    "    if type(iterable) == pd.core.series.Series:\n",
    "        return iterable.value_counts().rename(\"freq\")\n",
    "    else:\n",
    "        return pd.Series(Counter(iterable)).rename(\"freq\")\n",
    "    \n",
    "# Returns number of unique orders\n",
    "def order_count(order_item):\n",
    "    return len(set(order_item.index))\n",
    "\n",
    "# Returns generator that yields item pairs, one at a time\n",
    "def get_item_pairs(order_item):\n",
    "    order_item = order_item.reset_index().as_matrix()\n",
    "    for order_id, order_project in groupby(order_item, lambda x: x[0]):\n",
    "        item_list = [item[1] for item in order_project]\n",
    "        \n",
    "        for item_pair in combinations(item_list, 2):\n",
    "            yield item_pair\n",
    "            \n",
    "# Returns frequency and support associated with item\n",
    "def merge_item_stats(item_pairs, item_stats):\n",
    "    return (item_pairs.\n",
    "            merge(item_stats.rename(columns={'freq': 'freqA', 'support': 'supportA'}), \n",
    "                  left_on = 'item_A', right_index=True).\n",
    "           merge(item_stats.rename(columns={'freq': 'freqB', 'support': 'supportB'}), \n",
    "                 left_on = 'item_B', right_index=True))\n",
    "\n",
    "# Returns name associated with item\n",
    "def merge_item_name(rules, item_name):\n",
    "    columns = ['itemA', 'itemB', 'freqAB', 'supportAB', 'freqA', 'supportA', 'freqB', 'supportB', 'confidenceAtoB',\n",
    "              'confidenceBtoA', 'lift']\n",
    "    rules = (rules.merge(item_name.rename(columns={'item_name': 'itemA'}), left_on='item_A', right_on='item_id').\n",
    "            merge(item_name.rename(columns={'item_name': 'itemB'}), left_on='item_B', right_on='item_id'))\n",
    "    return rules[columns]"
   ]
  },
  {
   "cell_type": "markdown",
   "metadata": {},
   "source": [
    "### B. Association Rules function"
   ]
  },
  {
   "cell_type": "code",
   "execution_count": 10,
   "metadata": {},
   "outputs": [],
   "source": [
    "def association_rules(order_item, min_support):\n",
    "    \n",
    "    print(\"Starting order_item: {:22d}\".format(len(order_item)))\n",
    "    \n",
    "    #Calculate item frequency and support\n",
    "    item_stats = freq(order_item).to_frame(\"freq\")\n",
    "    item_stats[\"support\"] = item_stats['freq']/order_count(order_item) * 100\n",
    "    \n",
    "    # Filter from order_item items below min support\n",
    "    qualifying_items = item_stats[item_stats[\"support\"] >= min_support].index\n",
    "    order_item = order_item[order_item.isin(qualifying_items)]\n",
    "    \n",
    "    print(\"Items with support >= {}: {:15d}\".format(min_support, len(qualifying_items)))\n",
    "    print(\"Remaining order_item: {:21d}\".format(len(order_item)))\n",
    "    \n",
    "    # Filter from order_item orders with less than 2 items\n",
    "    order_size = freq(order_item.index)\n",
    "    qualifying_orders = order_size[order_size>=2].index\n",
    "    order_item = order_item[order_item.index.isin(qualifying_orders)]\n",
    "    \n",
    "    print(\"Remaining orders with 2+ items: {:11d}\".format(len(qualifying_orders)))\n",
    "    print(\"Remaining order_item: {:21d}\".format(len(order_item)))\n",
    "    \n",
    "    # Recalculate item frequency and support\n",
    "    item_stats = freq(order_item).to_frame(\"freq\")\n",
    "    item_stats['support'] = item_stats['freq'] / order_count(order_item) * 100\n",
    "    \n",
    "    # Get item pairs generator\n",
    "    item_pair_gen = get_item_pairs(order_item)\n",
    "    \n",
    "    # Calculate item pair frequency and support\n",
    "    item_pairs = freq(item_pair_gen).to_frame(\"freqAB\")\n",
    "    item_pairs[\"supportAB\"] = item_pairs['freqAB'] / len(qualifying_orders) * 100\n",
    "    \n",
    "    print(\"Item pairs with support >= {}: {:10d}\\n\".format(min_support, len(item_pairs)))\n",
    "    \n",
    "    # Create table of association rules and compute relevant metrics\n",
    "    item_pairs = item_pairs.reset_index().rename(columns={'level_0': 'item_A', 'level_1': 'item_B'})\n",
    "    item_pairs = merge_item_stats(item_pairs, item_stats)\n",
    "    \n",
    "    item_pairs['confidenceAtoB'] = item_pairs['supportAB'] / item_pairs['supportA']\n",
    "    item_pairs['confidenceBtoA'] = item_pairs['supportAB'] / item_pairs['supportB']\n",
    "    item_pairs['lift'] = item_pairs['supportAB'] / (item_pairs['supportA'] * item_pairs['supportB'])\n",
    "    \n",
    "    # Return association rules sorted by lift in descending order\n",
    "    return item_pairs.sort_values('lift', ascending = False)"
   ]
  },
  {
   "cell_type": "code",
   "execution_count": 11,
   "metadata": {},
   "outputs": [
    {
     "name": "stdout",
     "output_type": "stream",
     "text": [
      "Starting order_item:                3923788\n",
      "Items with support >= 0.01:           11062\n",
      "Remaining order_item:               3631558\n",
      "Remaining orders with 2+ items:      365914\n",
      "Remaining order_item:               3609865\n",
      "Item pairs with support >= 0.01:    8561384\n",
      "\n",
      "Wall time: 1min\n"
     ]
    }
   ],
   "source": [
    "%%time\n",
    "rules = association_rules(items, 0.01)"
   ]
  },
  {
   "cell_type": "code",
   "execution_count": 12,
   "metadata": {},
   "outputs": [
    {
     "data": {
      "text/html": [
       "<div>\n",
       "<style scoped>\n",
       "    .dataframe tbody tr th:only-of-type {\n",
       "        vertical-align: middle;\n",
       "    }\n",
       "\n",
       "    .dataframe tbody tr th {\n",
       "        vertical-align: top;\n",
       "    }\n",
       "\n",
       "    .dataframe thead th {\n",
       "        text-align: right;\n",
       "    }\n",
       "</style>\n",
       "<table border=\"1\" class=\"dataframe\">\n",
       "  <thead>\n",
       "    <tr style=\"text-align: right;\">\n",
       "      <th></th>\n",
       "      <th>itemA</th>\n",
       "      <th>itemB</th>\n",
       "      <th>freqAB</th>\n",
       "      <th>lift</th>\n",
       "    </tr>\n",
       "  </thead>\n",
       "  <tbody>\n",
       "    <tr>\n",
       "      <th>0</th>\n",
       "      <td>Savory Shreds with Salmon in Sauce Cat Food</td>\n",
       "      <td>Turkey Flavor Cat Treats</td>\n",
       "      <td>26</td>\n",
       "      <td>59.498211</td>\n",
       "    </tr>\n",
       "    <tr>\n",
       "      <th>1</th>\n",
       "      <td>Savory Shreds with Ocean Whitefish &amp; Tuna in S...</td>\n",
       "      <td>Turkey Flavor Cat Treats</td>\n",
       "      <td>28</td>\n",
       "      <td>53.168614</td>\n",
       "    </tr>\n",
       "    <tr>\n",
       "      <th>77</th>\n",
       "      <td>Savory Shreds with Salmon in Sauce Cat Food</td>\n",
       "      <td>Cat Treats Temptations Seafood Medley</td>\n",
       "      <td>26</td>\n",
       "      <td>39.990601</td>\n",
       "    </tr>\n",
       "    <tr>\n",
       "      <th>259</th>\n",
       "      <td>Savory Shreds with Salmon in Sauce Cat Food</td>\n",
       "      <td>Savory Shreds with Ocean Whitefish &amp; Tuna in S...</td>\n",
       "      <td>20</td>\n",
       "      <td>39.925150</td>\n",
       "    </tr>\n",
       "    <tr>\n",
       "      <th>226275</th>\n",
       "      <td>Smoothie Fruits Squished The Purple One Over 6...</td>\n",
       "      <td>Smoothie Fruits, Squished, The Green One, Over...</td>\n",
       "      <td>21</td>\n",
       "      <td>38.927021</td>\n",
       "    </tr>\n",
       "    <tr>\n",
       "      <th>833941</th>\n",
       "      <td>Blueberry Banana Walnut Hot Oats</td>\n",
       "      <td>Hot Strawberry Raspberry Oats</td>\n",
       "      <td>21</td>\n",
       "      <td>37.890503</td>\n",
       "    </tr>\n",
       "    <tr>\n",
       "      <th>1338911</th>\n",
       "      <td>Spinach Hummus</td>\n",
       "      <td>Herbal Berry DeTox Tea</td>\n",
       "      <td>16</td>\n",
       "      <td>37.529641</td>\n",
       "    </tr>\n",
       "    <tr>\n",
       "      <th>78</th>\n",
       "      <td>Savory Shreds with Ocean Whitefish &amp; Tuna in S...</td>\n",
       "      <td>Cat Treats Temptations Seafood Medley</td>\n",
       "      <td>29</td>\n",
       "      <td>37.012578</td>\n",
       "    </tr>\n",
       "    <tr>\n",
       "      <th>1468917</th>\n",
       "      <td>Rice Bowl Chicken Fajita Frozen Dinner</td>\n",
       "      <td>Ham and Cheese Scramble Tasty American Favorites</td>\n",
       "      <td>33</td>\n",
       "      <td>36.859469</td>\n",
       "    </tr>\n",
       "    <tr>\n",
       "      <th>1534818</th>\n",
       "      <td>Organic Chicken Cat Food</td>\n",
       "      <td>Crunchy Pea Snack, Baked, Organic, Southwest S...</td>\n",
       "      <td>19</td>\n",
       "      <td>36.380774</td>\n",
       "    </tr>\n",
       "  </tbody>\n",
       "</table>\n",
       "</div>"
      ],
      "text/plain": [
       "                                                     itemA  \\\n",
       "0              Savory Shreds with Salmon in Sauce Cat Food   \n",
       "1        Savory Shreds with Ocean Whitefish & Tuna in S...   \n",
       "77             Savory Shreds with Salmon in Sauce Cat Food   \n",
       "259            Savory Shreds with Salmon in Sauce Cat Food   \n",
       "226275   Smoothie Fruits Squished The Purple One Over 6...   \n",
       "833941                    Blueberry Banana Walnut Hot Oats   \n",
       "1338911                                     Spinach Hummus   \n",
       "78       Savory Shreds with Ocean Whitefish & Tuna in S...   \n",
       "1468917             Rice Bowl Chicken Fajita Frozen Dinner   \n",
       "1534818                           Organic Chicken Cat Food   \n",
       "\n",
       "                                                     itemB  freqAB       lift  \n",
       "0                                 Turkey Flavor Cat Treats      26  59.498211  \n",
       "1                                 Turkey Flavor Cat Treats      28  53.168614  \n",
       "77                   Cat Treats Temptations Seafood Medley      26  39.990601  \n",
       "259      Savory Shreds with Ocean Whitefish & Tuna in S...      20  39.925150  \n",
       "226275   Smoothie Fruits, Squished, The Green One, Over...      21  38.927021  \n",
       "833941                       Hot Strawberry Raspberry Oats      21  37.890503  \n",
       "1338911                             Herbal Berry DeTox Tea      16  37.529641  \n",
       "78                   Cat Treats Temptations Seafood Medley      29  37.012578  \n",
       "1468917   Ham and Cheese Scramble Tasty American Favorites      33  36.859469  \n",
       "1534818  Crunchy Pea Snack, Baked, Organic, Southwest S...      19  36.380774  "
      ]
     },
     "execution_count": 12,
     "metadata": {},
     "output_type": "execute_result"
    }
   ],
   "source": [
    "item_name = products.rename(columns={'product_id': 'item_id', 'product_name': 'item_name'})\n",
    "rules_final = merge_item_name(rules, item_name).sort_values('lift', ascending = False)"
   ]
  },
  {
   "cell_type": "code",
   "execution_count": 15,
   "metadata": {},
   "outputs": [
    {
     "data": {
      "text/html": [
       "<div>\n",
       "<style scoped>\n",
       "    .dataframe tbody tr th:only-of-type {\n",
       "        vertical-align: middle;\n",
       "    }\n",
       "\n",
       "    .dataframe tbody tr th {\n",
       "        vertical-align: top;\n",
       "    }\n",
       "\n",
       "    .dataframe thead th {\n",
       "        text-align: right;\n",
       "    }\n",
       "</style>\n",
       "<table border=\"1\" class=\"dataframe\">\n",
       "  <thead>\n",
       "    <tr style=\"text-align: right;\">\n",
       "      <th></th>\n",
       "      <th>itemA</th>\n",
       "      <th>itemB</th>\n",
       "      <th>freqAB</th>\n",
       "      <th>supportAB</th>\n",
       "      <th>freqA</th>\n",
       "      <th>supportA</th>\n",
       "      <th>freqB</th>\n",
       "      <th>supportB</th>\n",
       "      <th>confidenceAtoB</th>\n",
       "      <th>confidenceBtoA</th>\n",
       "      <th>lift</th>\n",
       "    </tr>\n",
       "  </thead>\n",
       "  <tbody>\n",
       "    <tr>\n",
       "      <th>0</th>\n",
       "      <td>Savory Shreds with Salmon in Sauce Cat Food</td>\n",
       "      <td>Turkey Flavor Cat Treats</td>\n",
       "      <td>26</td>\n",
       "      <td>0.007105</td>\n",
       "      <td>39</td>\n",
       "      <td>0.010658</td>\n",
       "      <td>41</td>\n",
       "      <td>0.011205</td>\n",
       "      <td>0.666667</td>\n",
       "      <td>0.634146</td>\n",
       "      <td>59.498211</td>\n",
       "    </tr>\n",
       "    <tr>\n",
       "      <th>1</th>\n",
       "      <td>Savory Shreds with Ocean Whitefish &amp; Tuna in S...</td>\n",
       "      <td>Turkey Flavor Cat Treats</td>\n",
       "      <td>28</td>\n",
       "      <td>0.007652</td>\n",
       "      <td>47</td>\n",
       "      <td>0.012845</td>\n",
       "      <td>41</td>\n",
       "      <td>0.011205</td>\n",
       "      <td>0.595745</td>\n",
       "      <td>0.682927</td>\n",
       "      <td>53.168614</td>\n",
       "    </tr>\n",
       "    <tr>\n",
       "      <th>77</th>\n",
       "      <td>Savory Shreds with Salmon in Sauce Cat Food</td>\n",
       "      <td>Cat Treats Temptations Seafood Medley</td>\n",
       "      <td>26</td>\n",
       "      <td>0.007105</td>\n",
       "      <td>39</td>\n",
       "      <td>0.010658</td>\n",
       "      <td>61</td>\n",
       "      <td>0.016671</td>\n",
       "      <td>0.666667</td>\n",
       "      <td>0.426230</td>\n",
       "      <td>39.990601</td>\n",
       "    </tr>\n",
       "    <tr>\n",
       "      <th>259</th>\n",
       "      <td>Savory Shreds with Salmon in Sauce Cat Food</td>\n",
       "      <td>Savory Shreds with Ocean Whitefish &amp; Tuna in S...</td>\n",
       "      <td>20</td>\n",
       "      <td>0.005466</td>\n",
       "      <td>39</td>\n",
       "      <td>0.010658</td>\n",
       "      <td>47</td>\n",
       "      <td>0.012845</td>\n",
       "      <td>0.512821</td>\n",
       "      <td>0.425532</td>\n",
       "      <td>39.925150</td>\n",
       "    </tr>\n",
       "    <tr>\n",
       "      <th>226275</th>\n",
       "      <td>Smoothie Fruits Squished The Purple One Over 6...</td>\n",
       "      <td>Smoothie Fruits, Squished, The Green One, Over...</td>\n",
       "      <td>21</td>\n",
       "      <td>0.005739</td>\n",
       "      <td>47</td>\n",
       "      <td>0.012845</td>\n",
       "      <td>42</td>\n",
       "      <td>0.011478</td>\n",
       "      <td>0.446809</td>\n",
       "      <td>0.500000</td>\n",
       "      <td>38.927021</td>\n",
       "    </tr>\n",
       "    <tr>\n",
       "      <th>833941</th>\n",
       "      <td>Blueberry Banana Walnut Hot Oats</td>\n",
       "      <td>Hot Strawberry Raspberry Oats</td>\n",
       "      <td>21</td>\n",
       "      <td>0.005739</td>\n",
       "      <td>52</td>\n",
       "      <td>0.014211</td>\n",
       "      <td>39</td>\n",
       "      <td>0.010658</td>\n",
       "      <td>0.403846</td>\n",
       "      <td>0.538462</td>\n",
       "      <td>37.890503</td>\n",
       "    </tr>\n",
       "    <tr>\n",
       "      <th>1338911</th>\n",
       "      <td>Spinach Hummus</td>\n",
       "      <td>Herbal Berry DeTox Tea</td>\n",
       "      <td>16</td>\n",
       "      <td>0.004373</td>\n",
       "      <td>39</td>\n",
       "      <td>0.010658</td>\n",
       "      <td>40</td>\n",
       "      <td>0.010932</td>\n",
       "      <td>0.410256</td>\n",
       "      <td>0.400000</td>\n",
       "      <td>37.529641</td>\n",
       "    </tr>\n",
       "    <tr>\n",
       "      <th>78</th>\n",
       "      <td>Savory Shreds with Ocean Whitefish &amp; Tuna in S...</td>\n",
       "      <td>Cat Treats Temptations Seafood Medley</td>\n",
       "      <td>29</td>\n",
       "      <td>0.007925</td>\n",
       "      <td>47</td>\n",
       "      <td>0.012845</td>\n",
       "      <td>61</td>\n",
       "      <td>0.016671</td>\n",
       "      <td>0.617021</td>\n",
       "      <td>0.475410</td>\n",
       "      <td>37.012578</td>\n",
       "    </tr>\n",
       "    <tr>\n",
       "      <th>1468917</th>\n",
       "      <td>Rice Bowl Chicken Fajita Frozen Dinner</td>\n",
       "      <td>Ham and Cheese Scramble Tasty American Favorites</td>\n",
       "      <td>33</td>\n",
       "      <td>0.009019</td>\n",
       "      <td>52</td>\n",
       "      <td>0.014211</td>\n",
       "      <td>63</td>\n",
       "      <td>0.017217</td>\n",
       "      <td>0.634615</td>\n",
       "      <td>0.523810</td>\n",
       "      <td>36.859469</td>\n",
       "    </tr>\n",
       "    <tr>\n",
       "      <th>1534818</th>\n",
       "      <td>Organic Chicken Cat Food</td>\n",
       "      <td>Crunchy Pea Snack, Baked, Organic, Southwest S...</td>\n",
       "      <td>19</td>\n",
       "      <td>0.005192</td>\n",
       "      <td>49</td>\n",
       "      <td>0.013391</td>\n",
       "      <td>39</td>\n",
       "      <td>0.010658</td>\n",
       "      <td>0.387755</td>\n",
       "      <td>0.487179</td>\n",
       "      <td>36.380774</td>\n",
       "    </tr>\n",
       "  </tbody>\n",
       "</table>\n",
       "</div>"
      ],
      "text/plain": [
       "                                                     itemA  \\\n",
       "0              Savory Shreds with Salmon in Sauce Cat Food   \n",
       "1        Savory Shreds with Ocean Whitefish & Tuna in S...   \n",
       "77             Savory Shreds with Salmon in Sauce Cat Food   \n",
       "259            Savory Shreds with Salmon in Sauce Cat Food   \n",
       "226275   Smoothie Fruits Squished The Purple One Over 6...   \n",
       "833941                    Blueberry Banana Walnut Hot Oats   \n",
       "1338911                                     Spinach Hummus   \n",
       "78       Savory Shreds with Ocean Whitefish & Tuna in S...   \n",
       "1468917             Rice Bowl Chicken Fajita Frozen Dinner   \n",
       "1534818                           Organic Chicken Cat Food   \n",
       "\n",
       "                                                     itemB  freqAB  supportAB  \\\n",
       "0                                 Turkey Flavor Cat Treats      26   0.007105   \n",
       "1                                 Turkey Flavor Cat Treats      28   0.007652   \n",
       "77                   Cat Treats Temptations Seafood Medley      26   0.007105   \n",
       "259      Savory Shreds with Ocean Whitefish & Tuna in S...      20   0.005466   \n",
       "226275   Smoothie Fruits, Squished, The Green One, Over...      21   0.005739   \n",
       "833941                       Hot Strawberry Raspberry Oats      21   0.005739   \n",
       "1338911                             Herbal Berry DeTox Tea      16   0.004373   \n",
       "78                   Cat Treats Temptations Seafood Medley      29   0.007925   \n",
       "1468917   Ham and Cheese Scramble Tasty American Favorites      33   0.009019   \n",
       "1534818  Crunchy Pea Snack, Baked, Organic, Southwest S...      19   0.005192   \n",
       "\n",
       "         freqA  supportA  freqB  supportB  confidenceAtoB  confidenceBtoA  \\\n",
       "0           39  0.010658     41  0.011205        0.666667        0.634146   \n",
       "1           47  0.012845     41  0.011205        0.595745        0.682927   \n",
       "77          39  0.010658     61  0.016671        0.666667        0.426230   \n",
       "259         39  0.010658     47  0.012845        0.512821        0.425532   \n",
       "226275      47  0.012845     42  0.011478        0.446809        0.500000   \n",
       "833941      52  0.014211     39  0.010658        0.403846        0.538462   \n",
       "1338911     39  0.010658     40  0.010932        0.410256        0.400000   \n",
       "78          47  0.012845     61  0.016671        0.617021        0.475410   \n",
       "1468917     52  0.014211     63  0.017217        0.634615        0.523810   \n",
       "1534818     49  0.013391     39  0.010658        0.387755        0.487179   \n",
       "\n",
       "              lift  \n",
       "0        59.498211  \n",
       "1        53.168614  \n",
       "77       39.990601  \n",
       "259      39.925150  \n",
       "226275   38.927021  \n",
       "833941   37.890503  \n",
       "1338911  37.529641  \n",
       "78       37.012578  \n",
       "1468917  36.859469  \n",
       "1534818  36.380774  "
      ]
     },
     "execution_count": 15,
     "metadata": {},
     "output_type": "execute_result"
    }
   ],
   "source": [
    "rules_final.head(10)"
   ]
  },
  {
   "cell_type": "code",
   "execution_count": 133,
   "metadata": {},
   "outputs": [
    {
     "data": {
      "text/html": [
       "<div>\n",
       "<style scoped>\n",
       "    .dataframe tbody tr th:only-of-type {\n",
       "        vertical-align: middle;\n",
       "    }\n",
       "\n",
       "    .dataframe tbody tr th {\n",
       "        vertical-align: top;\n",
       "    }\n",
       "\n",
       "    .dataframe thead th {\n",
       "        text-align: right;\n",
       "    }\n",
       "</style>\n",
       "<table border=\"1\" class=\"dataframe\">\n",
       "  <thead>\n",
       "    <tr style=\"text-align: right;\">\n",
       "      <th></th>\n",
       "      <th>itemA</th>\n",
       "      <th>itemB</th>\n",
       "      <th>freqAB</th>\n",
       "    </tr>\n",
       "  </thead>\n",
       "  <tbody>\n",
       "    <tr>\n",
       "      <th>833937</th>\n",
       "      <td>Bag of Organic Bananas</td>\n",
       "      <td>Organic Strawberries</td>\n",
       "      <td>4743</td>\n",
       "    </tr>\n",
       "    <tr>\n",
       "      <th>833940</th>\n",
       "      <td>Banana</td>\n",
       "      <td>Organic Strawberries</td>\n",
       "      <td>4731</td>\n",
       "    </tr>\n",
       "    <tr>\n",
       "      <th>825259</th>\n",
       "      <td>Bag of Organic Bananas</td>\n",
       "      <td>Organic Hass Avocado</td>\n",
       "      <td>4449</td>\n",
       "    </tr>\n",
       "    <tr>\n",
       "      <th>2709832</th>\n",
       "      <td>Banana</td>\n",
       "      <td>Organic Avocado</td>\n",
       "      <td>4365</td>\n",
       "    </tr>\n",
       "    <tr>\n",
       "      <th>788699</th>\n",
       "      <td>Banana</td>\n",
       "      <td>Organic Baby Spinach</td>\n",
       "      <td>4212</td>\n",
       "    </tr>\n",
       "    <tr>\n",
       "      <th>788697</th>\n",
       "      <td>Bag of Organic Bananas</td>\n",
       "      <td>Organic Baby Spinach</td>\n",
       "      <td>4144</td>\n",
       "    </tr>\n",
       "    <tr>\n",
       "      <th>1286483</th>\n",
       "      <td>Banana</td>\n",
       "      <td>Strawberries</td>\n",
       "      <td>3590</td>\n",
       "    </tr>\n",
       "    <tr>\n",
       "      <th>781012</th>\n",
       "      <td>Banana</td>\n",
       "      <td>Large Lemon</td>\n",
       "      <td>3407</td>\n",
       "    </tr>\n",
       "    <tr>\n",
       "      <th>130477</th>\n",
       "      <td>Organic Hass Avocado</td>\n",
       "      <td>Bag of Organic Bananas</td>\n",
       "      <td>3139</td>\n",
       "    </tr>\n",
       "    <tr>\n",
       "      <th>1277796</th>\n",
       "      <td>Banana</td>\n",
       "      <td>Organic Fuji Apple</td>\n",
       "      <td>3007</td>\n",
       "    </tr>\n",
       "  </tbody>\n",
       "</table>\n",
       "</div>"
      ],
      "text/plain": [
       "                          itemA                   itemB  freqAB\n",
       "833937   Bag of Organic Bananas    Organic Strawberries    4743\n",
       "833940                   Banana    Organic Strawberries    4731\n",
       "825259   Bag of Organic Bananas    Organic Hass Avocado    4449\n",
       "2709832                  Banana         Organic Avocado    4365\n",
       "788699                   Banana    Organic Baby Spinach    4212\n",
       "788697   Bag of Organic Bananas    Organic Baby Spinach    4144\n",
       "1286483                  Banana            Strawberries    3590\n",
       "781012                   Banana             Large Lemon    3407\n",
       "130477     Organic Hass Avocado  Bag of Organic Bananas    3139\n",
       "1277796                  Banana      Organic Fuji Apple    3007"
      ]
     },
     "execution_count": 133,
     "metadata": {},
     "output_type": "execute_result"
    }
   ],
   "source": [
    "rules_final[['itemA', 'itemB', 'freqAB']].sort_values(by = ['freqAB'], ascending = False).head(10)"
   ]
  },
  {
   "cell_type": "code",
   "execution_count": 135,
   "metadata": {},
   "outputs": [
    {
     "data": {
      "text/html": [
       "<div>\n",
       "<style scoped>\n",
       "    .dataframe tbody tr th:only-of-type {\n",
       "        vertical-align: middle;\n",
       "    }\n",
       "\n",
       "    .dataframe tbody tr th {\n",
       "        vertical-align: top;\n",
       "    }\n",
       "\n",
       "    .dataframe thead th {\n",
       "        text-align: right;\n",
       "    }\n",
       "</style>\n",
       "<table border=\"1\" class=\"dataframe\">\n",
       "  <thead>\n",
       "    <tr style=\"text-align: right;\">\n",
       "      <th></th>\n",
       "      <th>itemA</th>\n",
       "      <th>itemB</th>\n",
       "      <th>freqAB</th>\n",
       "      <th>confidenceAtoB</th>\n",
       "    </tr>\n",
       "  </thead>\n",
       "  <tbody>\n",
       "    <tr>\n",
       "      <th>820025</th>\n",
       "      <td>DairyPure Fat Free Milk</td>\n",
       "      <td>Organic Hass Avocado</td>\n",
       "      <td>29</td>\n",
       "      <td>0.725000</td>\n",
       "    </tr>\n",
       "    <tr>\n",
       "      <th>440</th>\n",
       "      <td>Savory Shreds with Salmon in Sauce Cat Food</td>\n",
       "      <td>Temptations Tasty Chicken Flavor Cat Treats</td>\n",
       "      <td>27</td>\n",
       "      <td>0.692308</td>\n",
       "    </tr>\n",
       "    <tr>\n",
       "      <th>1345343</th>\n",
       "      <td>Spinach Hummus</td>\n",
       "      <td>Vegan Chao Creamy Original Cheese Slices</td>\n",
       "      <td>27</td>\n",
       "      <td>0.692308</td>\n",
       "    </tr>\n",
       "    <tr>\n",
       "      <th>0</th>\n",
       "      <td>Savory Shreds with Salmon in Sauce Cat Food</td>\n",
       "      <td>Turkey Flavor Cat Treats</td>\n",
       "      <td>26</td>\n",
       "      <td>0.666667</td>\n",
       "    </tr>\n",
       "    <tr>\n",
       "      <th>77</th>\n",
       "      <td>Savory Shreds with Salmon in Sauce Cat Food</td>\n",
       "      <td>Cat Treats Temptations Seafood Medley</td>\n",
       "      <td>26</td>\n",
       "      <td>0.666667</td>\n",
       "    </tr>\n",
       "    <tr>\n",
       "      <th>5658002</th>\n",
       "      <td>Ginger Lemon Gummi Candy</td>\n",
       "      <td>Pineapple Cottage Doubles</td>\n",
       "      <td>27</td>\n",
       "      <td>0.642857</td>\n",
       "    </tr>\n",
       "    <tr>\n",
       "      <th>993235</th>\n",
       "      <td>Jumbone Mini Toy/Small (PS #5129732) Dog Care ...</td>\n",
       "      <td>Boneless Skinless Chicken Breast Fillets</td>\n",
       "      <td>25</td>\n",
       "      <td>0.641026</td>\n",
       "    </tr>\n",
       "    <tr>\n",
       "      <th>441</th>\n",
       "      <td>Savory Shreds with Ocean Whitefish &amp; Tuna in S...</td>\n",
       "      <td>Temptations Tasty Chicken Flavor Cat Treats</td>\n",
       "      <td>30</td>\n",
       "      <td>0.638298</td>\n",
       "    </tr>\n",
       "    <tr>\n",
       "      <th>1468917</th>\n",
       "      <td>Rice Bowl Chicken Fajita Frozen Dinner</td>\n",
       "      <td>Ham and Cheese Scramble Tasty American Favorites</td>\n",
       "      <td>33</td>\n",
       "      <td>0.634615</td>\n",
       "    </tr>\n",
       "    <tr>\n",
       "      <th>153548</th>\n",
       "      <td>Rice Bowl Chicken Fajita Frozen Dinner</td>\n",
       "      <td>Dulce de Leche Caramel Ice Cream</td>\n",
       "      <td>33</td>\n",
       "      <td>0.634615</td>\n",
       "    </tr>\n",
       "  </tbody>\n",
       "</table>\n",
       "</div>"
      ],
      "text/plain": [
       "                                                     itemA  \\\n",
       "820025                             DairyPure Fat Free Milk   \n",
       "440            Savory Shreds with Salmon in Sauce Cat Food   \n",
       "1345343                                     Spinach Hummus   \n",
       "0              Savory Shreds with Salmon in Sauce Cat Food   \n",
       "77             Savory Shreds with Salmon in Sauce Cat Food   \n",
       "5658002                           Ginger Lemon Gummi Candy   \n",
       "993235   Jumbone Mini Toy/Small (PS #5129732) Dog Care ...   \n",
       "441      Savory Shreds with Ocean Whitefish & Tuna in S...   \n",
       "1468917             Rice Bowl Chicken Fajita Frozen Dinner   \n",
       "153548              Rice Bowl Chicken Fajita Frozen Dinner   \n",
       "\n",
       "                                                    itemB  freqAB  \\\n",
       "820025                               Organic Hass Avocado      29   \n",
       "440           Temptations Tasty Chicken Flavor Cat Treats      27   \n",
       "1345343          Vegan Chao Creamy Original Cheese Slices      27   \n",
       "0                                Turkey Flavor Cat Treats      26   \n",
       "77                  Cat Treats Temptations Seafood Medley      26   \n",
       "5658002                         Pineapple Cottage Doubles      27   \n",
       "993235           Boneless Skinless Chicken Breast Fillets      25   \n",
       "441           Temptations Tasty Chicken Flavor Cat Treats      30   \n",
       "1468917  Ham and Cheese Scramble Tasty American Favorites      33   \n",
       "153548                   Dulce de Leche Caramel Ice Cream      33   \n",
       "\n",
       "         confidenceAtoB  \n",
       "820025         0.725000  \n",
       "440            0.692308  \n",
       "1345343        0.692308  \n",
       "0              0.666667  \n",
       "77             0.666667  \n",
       "5658002        0.642857  \n",
       "993235         0.641026  \n",
       "441            0.638298  \n",
       "1468917        0.634615  \n",
       "153548         0.634615  "
      ]
     },
     "execution_count": 135,
     "metadata": {},
     "output_type": "execute_result"
    }
   ],
   "source": [
    "rules_final[['itemA', 'itemB', 'freqAB', 'confidenceAtoB']].sort_values(by = ['confidenceAtoB'], ascending = False).head(10)"
   ]
  },
  {
   "cell_type": "code",
   "execution_count": 136,
   "metadata": {},
   "outputs": [
    {
     "data": {
      "text/html": [
       "<div>\n",
       "<style scoped>\n",
       "    .dataframe tbody tr th:only-of-type {\n",
       "        vertical-align: middle;\n",
       "    }\n",
       "\n",
       "    .dataframe tbody tr th {\n",
       "        vertical-align: top;\n",
       "    }\n",
       "\n",
       "    .dataframe thead th {\n",
       "        text-align: right;\n",
       "    }\n",
       "</style>\n",
       "<table border=\"1\" class=\"dataframe\">\n",
       "  <thead>\n",
       "    <tr style=\"text-align: right;\">\n",
       "      <th></th>\n",
       "      <th>itemB</th>\n",
       "      <th>itemA</th>\n",
       "      <th>freqAB</th>\n",
       "      <th>confidenceBtoA</th>\n",
       "    </tr>\n",
       "  </thead>\n",
       "  <tbody>\n",
       "    <tr>\n",
       "      <th>8016112</th>\n",
       "      <td>Unsweetened Rose Green Tea</td>\n",
       "      <td>Spring Water</td>\n",
       "      <td>31</td>\n",
       "      <td>0.775000</td>\n",
       "    </tr>\n",
       "    <tr>\n",
       "      <th>8422960</th>\n",
       "      <td>Tricolor Pearl Couscous</td>\n",
       "      <td>Bag of Organic Bananas</td>\n",
       "      <td>32</td>\n",
       "      <td>0.727273</td>\n",
       "    </tr>\n",
       "    <tr>\n",
       "      <th>3</th>\n",
       "      <td>Turkey Flavor Cat Treats</td>\n",
       "      <td>Temptations Tasty Chicken Flavor Cat Treats</td>\n",
       "      <td>28</td>\n",
       "      <td>0.682927</td>\n",
       "    </tr>\n",
       "    <tr>\n",
       "      <th>1</th>\n",
       "      <td>Turkey Flavor Cat Treats</td>\n",
       "      <td>Savory Shreds with Ocean Whitefish &amp; Tuna in S...</td>\n",
       "      <td>28</td>\n",
       "      <td>0.682927</td>\n",
       "    </tr>\n",
       "    <tr>\n",
       "      <th>6675037</th>\n",
       "      <td>9\\\" Paper Plates</td>\n",
       "      <td>1% Low Fat Milk</td>\n",
       "      <td>45</td>\n",
       "      <td>0.652174</td>\n",
       "    </tr>\n",
       "    <tr>\n",
       "      <th>8464768</th>\n",
       "      <td>Pure Cane Sugar</td>\n",
       "      <td>100% Orange Juice</td>\n",
       "      <td>42</td>\n",
       "      <td>0.646154</td>\n",
       "    </tr>\n",
       "    <tr>\n",
       "      <th>5036245</th>\n",
       "      <td>Natural Beef &amp; Chicken Formula Food for Cats</td>\n",
       "      <td>Grain Free Chicken Formula Cat Food</td>\n",
       "      <td>31</td>\n",
       "      <td>0.645833</td>\n",
       "    </tr>\n",
       "    <tr>\n",
       "      <th>4534414</th>\n",
       "      <td>Marinara Italian Sauce</td>\n",
       "      <td>Banana</td>\n",
       "      <td>32</td>\n",
       "      <td>0.640000</td>\n",
       "    </tr>\n",
       "    <tr>\n",
       "      <th>0</th>\n",
       "      <td>Turkey Flavor Cat Treats</td>\n",
       "      <td>Savory Shreds with Salmon in Sauce Cat Food</td>\n",
       "      <td>26</td>\n",
       "      <td>0.634146</td>\n",
       "    </tr>\n",
       "    <tr>\n",
       "      <th>2342752</th>\n",
       "      <td>Jumbo Franks</td>\n",
       "      <td>Cinnamon Swirl Raisin Bread</td>\n",
       "      <td>27</td>\n",
       "      <td>0.627907</td>\n",
       "    </tr>\n",
       "  </tbody>\n",
       "</table>\n",
       "</div>"
      ],
      "text/plain": [
       "                                                itemB  \\\n",
       "8016112                    Unsweetened Rose Green Tea   \n",
       "8422960                       Tricolor Pearl Couscous   \n",
       "3                            Turkey Flavor Cat Treats   \n",
       "1                            Turkey Flavor Cat Treats   \n",
       "6675037                              9\\\" Paper Plates   \n",
       "8464768                               Pure Cane Sugar   \n",
       "5036245  Natural Beef & Chicken Formula Food for Cats   \n",
       "4534414                        Marinara Italian Sauce   \n",
       "0                            Turkey Flavor Cat Treats   \n",
       "2342752                                  Jumbo Franks   \n",
       "\n",
       "                                                     itemA  freqAB  \\\n",
       "8016112                                       Spring Water      31   \n",
       "8422960                             Bag of Organic Bananas      32   \n",
       "3              Temptations Tasty Chicken Flavor Cat Treats      28   \n",
       "1        Savory Shreds with Ocean Whitefish & Tuna in S...      28   \n",
       "6675037                                    1% Low Fat Milk      45   \n",
       "8464768                                  100% Orange Juice      42   \n",
       "5036245                Grain Free Chicken Formula Cat Food      31   \n",
       "4534414                                             Banana      32   \n",
       "0              Savory Shreds with Salmon in Sauce Cat Food      26   \n",
       "2342752                        Cinnamon Swirl Raisin Bread      27   \n",
       "\n",
       "         confidenceBtoA  \n",
       "8016112        0.775000  \n",
       "8422960        0.727273  \n",
       "3              0.682927  \n",
       "1              0.682927  \n",
       "6675037        0.652174  \n",
       "8464768        0.646154  \n",
       "5036245        0.645833  \n",
       "4534414        0.640000  \n",
       "0              0.634146  \n",
       "2342752        0.627907  "
      ]
     },
     "execution_count": 136,
     "metadata": {},
     "output_type": "execute_result"
    }
   ],
   "source": [
    "rules_final[['itemB', 'itemA', 'freqAB', 'confidenceBtoA']].sort_values(by = ['confidenceBtoA'], ascending = False).head(10)"
   ]
  },
  {
   "cell_type": "markdown",
   "metadata": {},
   "source": [
    "## Clustering using PCA"
   ]
  },
  {
   "cell_type": "code",
   "execution_count": 95,
   "metadata": {},
   "outputs": [
    {
     "data": {
      "text/html": [
       "<div>\n",
       "<style scoped>\n",
       "    .dataframe tbody tr th:only-of-type {\n",
       "        vertical-align: middle;\n",
       "    }\n",
       "\n",
       "    .dataframe tbody tr th {\n",
       "        vertical-align: top;\n",
       "    }\n",
       "\n",
       "    .dataframe thead th {\n",
       "        text-align: right;\n",
       "    }\n",
       "</style>\n",
       "<table border=\"1\" class=\"dataframe\">\n",
       "  <thead>\n",
       "    <tr style=\"text-align: right;\">\n",
       "      <th></th>\n",
       "      <th>order_id</th>\n",
       "      <th>product_id</th>\n",
       "      <th>add_to_cart_order</th>\n",
       "      <th>reordered</th>\n",
       "      <th>product_name</th>\n",
       "      <th>aisle_id</th>\n",
       "      <th>department_id</th>\n",
       "      <th>aisle</th>\n",
       "      <th>department</th>\n",
       "      <th>user_id</th>\n",
       "      <th>order_number</th>\n",
       "      <th>order_dow</th>\n",
       "      <th>order_hour_of_day</th>\n",
       "      <th>days_since_prior_order</th>\n",
       "    </tr>\n",
       "  </thead>\n",
       "  <tbody>\n",
       "    <tr>\n",
       "      <th>852617</th>\n",
       "      <td>738281</td>\n",
       "      <td>49451</td>\n",
       "      <td>1</td>\n",
       "      <td>0</td>\n",
       "      <td>Artichoke Spinach Dip</td>\n",
       "      <td>67</td>\n",
       "      <td>20</td>\n",
       "      <td>fresh dips tapenades</td>\n",
       "      <td>deli</td>\n",
       "      <td>2</td>\n",
       "      <td>4</td>\n",
       "      <td>2</td>\n",
       "      <td>10</td>\n",
       "      <td>8.0</td>\n",
       "    </tr>\n",
       "    <tr>\n",
       "      <th>852618</th>\n",
       "      <td>738281</td>\n",
       "      <td>32792</td>\n",
       "      <td>2</td>\n",
       "      <td>1</td>\n",
       "      <td>Chipotle Beef &amp; Pork Realstick</td>\n",
       "      <td>23</td>\n",
       "      <td>19</td>\n",
       "      <td>popcorn jerky</td>\n",
       "      <td>snacks</td>\n",
       "      <td>2</td>\n",
       "      <td>4</td>\n",
       "      <td>2</td>\n",
       "      <td>10</td>\n",
       "      <td>8.0</td>\n",
       "    </tr>\n",
       "    <tr>\n",
       "      <th>852619</th>\n",
       "      <td>738281</td>\n",
       "      <td>32139</td>\n",
       "      <td>3</td>\n",
       "      <td>0</td>\n",
       "      <td>Hommus Classic Original</td>\n",
       "      <td>67</td>\n",
       "      <td>20</td>\n",
       "      <td>fresh dips tapenades</td>\n",
       "      <td>deli</td>\n",
       "      <td>2</td>\n",
       "      <td>4</td>\n",
       "      <td>2</td>\n",
       "      <td>10</td>\n",
       "      <td>8.0</td>\n",
       "    </tr>\n",
       "    <tr>\n",
       "      <th>852620</th>\n",
       "      <td>738281</td>\n",
       "      <td>34688</td>\n",
       "      <td>4</td>\n",
       "      <td>0</td>\n",
       "      <td>Good Belly Probiotics Juice Drink Blueberry Ac...</td>\n",
       "      <td>31</td>\n",
       "      <td>7</td>\n",
       "      <td>refrigerated</td>\n",
       "      <td>beverages</td>\n",
       "      <td>2</td>\n",
       "      <td>4</td>\n",
       "      <td>2</td>\n",
       "      <td>10</td>\n",
       "      <td>8.0</td>\n",
       "    </tr>\n",
       "    <tr>\n",
       "      <th>852621</th>\n",
       "      <td>738281</td>\n",
       "      <td>36735</td>\n",
       "      <td>5</td>\n",
       "      <td>0</td>\n",
       "      <td>Organic Roasted Sliced Chicken Breast</td>\n",
       "      <td>96</td>\n",
       "      <td>20</td>\n",
       "      <td>lunch meat</td>\n",
       "      <td>deli</td>\n",
       "      <td>2</td>\n",
       "      <td>4</td>\n",
       "      <td>2</td>\n",
       "      <td>10</td>\n",
       "      <td>8.0</td>\n",
       "    </tr>\n",
       "  </tbody>\n",
       "</table>\n",
       "</div>"
      ],
      "text/plain": [
       "        order_id  product_id  add_to_cart_order  reordered  \\\n",
       "852617    738281       49451                  1          0   \n",
       "852618    738281       32792                  2          1   \n",
       "852619    738281       32139                  3          0   \n",
       "852620    738281       34688                  4          0   \n",
       "852621    738281       36735                  5          0   \n",
       "\n",
       "                                             product_name  aisle_id  \\\n",
       "852617                              Artichoke Spinach Dip        67   \n",
       "852618                     Chipotle Beef & Pork Realstick        23   \n",
       "852619                            Hommus Classic Original        67   \n",
       "852620  Good Belly Probiotics Juice Drink Blueberry Ac...        31   \n",
       "852621              Organic Roasted Sliced Chicken Breast        96   \n",
       "\n",
       "        department_id                 aisle department  user_id  order_number  \\\n",
       "852617             20  fresh dips tapenades       deli        2             4   \n",
       "852618             19         popcorn jerky     snacks        2             4   \n",
       "852619             20  fresh dips tapenades       deli        2             4   \n",
       "852620              7          refrigerated  beverages        2             4   \n",
       "852621             20            lunch meat       deli        2             4   \n",
       "\n",
       "        order_dow  order_hour_of_day  days_since_prior_order  \n",
       "852617          2                 10                     8.0  \n",
       "852618          2                 10                     8.0  \n",
       "852619          2                 10                     8.0  \n",
       "852620          2                 10                     8.0  \n",
       "852621          2                 10                     8.0  "
      ]
     },
     "execution_count": 95,
     "metadata": {},
     "output_type": "execute_result"
    }
   ],
   "source": [
    "order_products = pd.merge(order_products, orders, on = ['order_id', 'order_id'])\n",
    "order_products = order_products.sort_values(by = ['user_id', 'order_id'])\n",
    "order_products.head()"
   ]
  },
  {
   "cell_type": "code",
   "execution_count": 96,
   "metadata": {},
   "outputs": [
    {
     "data": {
      "text/plain": [
       "(3923788, 14)"
      ]
     },
     "execution_count": 96,
     "metadata": {},
     "output_type": "execute_result"
    }
   ],
   "source": [
    "order_products.shape"
   ]
  },
  {
   "cell_type": "code",
   "execution_count": 97,
   "metadata": {},
   "outputs": [
    {
     "data": {
      "text/plain": [
       "Banana                    58231\n",
       "Bag of Organic Bananas    45699\n",
       "Organic Strawberries      32203\n",
       "Organic Baby Spinach      29380\n",
       "Organic Hass Avocado      25958\n",
       "Organic Avocado           21642\n",
       "Large Lemon               18581\n",
       "Limes                     17399\n",
       "Strawberries              17217\n",
       "Organic Whole Milk        16468\n",
       "Name: product_name, dtype: int64"
      ]
     },
     "execution_count": 97,
     "metadata": {},
     "output_type": "execute_result"
    }
   ],
   "source": [
    "order_products['product_name'].value_counts()[0:10]"
   ]
  },
  {
   "cell_type": "code",
   "execution_count": 98,
   "metadata": {},
   "outputs": [
    {
     "data": {
      "text/plain": [
       "42814"
      ]
     },
     "execution_count": 98,
     "metadata": {},
     "output_type": "execute_result"
    }
   ],
   "source": [
    "len(order_products['product_name'].unique())"
   ]
  },
  {
   "cell_type": "markdown",
   "metadata": {},
   "source": [
    "### Clustering customers"
   ]
  },
  {
   "cell_type": "code",
   "execution_count": 100,
   "metadata": {},
   "outputs": [
    {
     "data": {
      "text/plain": [
       "fresh fruits                     443180\n",
       "fresh vegetables                 416040\n",
       "packaged vegetables fruits       214421\n",
       "yogurt                           176682\n",
       "packaged cheese                  117396\n",
       "milk                             109584\n",
       "water seltzer sparkling water    102840\n",
       "chips pretzels                    88132\n",
       "soy lactosefree                   77567\n",
       "bread                             70119\n",
       "Name: aisle, dtype: int64"
      ]
     },
     "execution_count": 100,
     "metadata": {},
     "output_type": "execute_result"
    }
   ],
   "source": [
    "order_products['aisle'].value_counts()[0:10]"
   ]
  },
  {
   "cell_type": "code",
   "execution_count": 101,
   "metadata": {},
   "outputs": [
    {
     "data": {
      "text/html": [
       "<div>\n",
       "<style scoped>\n",
       "    .dataframe tbody tr th:only-of-type {\n",
       "        vertical-align: middle;\n",
       "    }\n",
       "\n",
       "    .dataframe tbody tr th {\n",
       "        vertical-align: top;\n",
       "    }\n",
       "\n",
       "    .dataframe thead th {\n",
       "        text-align: right;\n",
       "    }\n",
       "</style>\n",
       "<table border=\"1\" class=\"dataframe\">\n",
       "  <thead>\n",
       "    <tr style=\"text-align: right;\">\n",
       "      <th>aisle</th>\n",
       "      <th>air fresheners candles</th>\n",
       "      <th>asian foods</th>\n",
       "      <th>baby accessories</th>\n",
       "      <th>baby bath body care</th>\n",
       "      <th>baby food formula</th>\n",
       "      <th>bakery desserts</th>\n",
       "      <th>baking ingredients</th>\n",
       "      <th>baking supplies decor</th>\n",
       "      <th>beauty</th>\n",
       "      <th>beers coolers</th>\n",
       "      <th>...</th>\n",
       "      <th>spreads</th>\n",
       "      <th>tea</th>\n",
       "      <th>tofu meat alternatives</th>\n",
       "      <th>tortillas flat bread</th>\n",
       "      <th>trail mix snack mix</th>\n",
       "      <th>trash bags liners</th>\n",
       "      <th>vitamins supplements</th>\n",
       "      <th>water seltzer sparkling water</th>\n",
       "      <th>white wines</th>\n",
       "      <th>yogurt</th>\n",
       "    </tr>\n",
       "    <tr>\n",
       "      <th>user_id</th>\n",
       "      <th></th>\n",
       "      <th></th>\n",
       "      <th></th>\n",
       "      <th></th>\n",
       "      <th></th>\n",
       "      <th></th>\n",
       "      <th></th>\n",
       "      <th></th>\n",
       "      <th></th>\n",
       "      <th></th>\n",
       "      <th></th>\n",
       "      <th></th>\n",
       "      <th></th>\n",
       "      <th></th>\n",
       "      <th></th>\n",
       "      <th></th>\n",
       "      <th></th>\n",
       "      <th></th>\n",
       "      <th></th>\n",
       "      <th></th>\n",
       "      <th></th>\n",
       "    </tr>\n",
       "  </thead>\n",
       "  <tbody>\n",
       "    <tr>\n",
       "      <th>2</th>\n",
       "      <td>0</td>\n",
       "      <td>3</td>\n",
       "      <td>0</td>\n",
       "      <td>0</td>\n",
       "      <td>0</td>\n",
       "      <td>0</td>\n",
       "      <td>2</td>\n",
       "      <td>0</td>\n",
       "      <td>0</td>\n",
       "      <td>0</td>\n",
       "      <td>...</td>\n",
       "      <td>3</td>\n",
       "      <td>1</td>\n",
       "      <td>1</td>\n",
       "      <td>0</td>\n",
       "      <td>0</td>\n",
       "      <td>0</td>\n",
       "      <td>0</td>\n",
       "      <td>2</td>\n",
       "      <td>0</td>\n",
       "      <td>42</td>\n",
       "    </tr>\n",
       "    <tr>\n",
       "      <th>8</th>\n",
       "      <td>0</td>\n",
       "      <td>1</td>\n",
       "      <td>0</td>\n",
       "      <td>0</td>\n",
       "      <td>0</td>\n",
       "      <td>0</td>\n",
       "      <td>1</td>\n",
       "      <td>0</td>\n",
       "      <td>0</td>\n",
       "      <td>0</td>\n",
       "      <td>...</td>\n",
       "      <td>0</td>\n",
       "      <td>0</td>\n",
       "      <td>0</td>\n",
       "      <td>0</td>\n",
       "      <td>0</td>\n",
       "      <td>0</td>\n",
       "      <td>0</td>\n",
       "      <td>0</td>\n",
       "      <td>0</td>\n",
       "      <td>0</td>\n",
       "    </tr>\n",
       "    <tr>\n",
       "      <th>11</th>\n",
       "      <td>1</td>\n",
       "      <td>1</td>\n",
       "      <td>0</td>\n",
       "      <td>0</td>\n",
       "      <td>0</td>\n",
       "      <td>0</td>\n",
       "      <td>4</td>\n",
       "      <td>0</td>\n",
       "      <td>0</td>\n",
       "      <td>0</td>\n",
       "      <td>...</td>\n",
       "      <td>1</td>\n",
       "      <td>0</td>\n",
       "      <td>6</td>\n",
       "      <td>0</td>\n",
       "      <td>0</td>\n",
       "      <td>0</td>\n",
       "      <td>0</td>\n",
       "      <td>10</td>\n",
       "      <td>0</td>\n",
       "      <td>10</td>\n",
       "    </tr>\n",
       "    <tr>\n",
       "      <th>12</th>\n",
       "      <td>0</td>\n",
       "      <td>0</td>\n",
       "      <td>0</td>\n",
       "      <td>0</td>\n",
       "      <td>0</td>\n",
       "      <td>0</td>\n",
       "      <td>1</td>\n",
       "      <td>0</td>\n",
       "      <td>0</td>\n",
       "      <td>0</td>\n",
       "      <td>...</td>\n",
       "      <td>2</td>\n",
       "      <td>0</td>\n",
       "      <td>0</td>\n",
       "      <td>0</td>\n",
       "      <td>0</td>\n",
       "      <td>0</td>\n",
       "      <td>0</td>\n",
       "      <td>1</td>\n",
       "      <td>0</td>\n",
       "      <td>0</td>\n",
       "    </tr>\n",
       "    <tr>\n",
       "      <th>28</th>\n",
       "      <td>0</td>\n",
       "      <td>1</td>\n",
       "      <td>0</td>\n",
       "      <td>0</td>\n",
       "      <td>0</td>\n",
       "      <td>0</td>\n",
       "      <td>1</td>\n",
       "      <td>1</td>\n",
       "      <td>0</td>\n",
       "      <td>0</td>\n",
       "      <td>...</td>\n",
       "      <td>3</td>\n",
       "      <td>1</td>\n",
       "      <td>5</td>\n",
       "      <td>0</td>\n",
       "      <td>0</td>\n",
       "      <td>0</td>\n",
       "      <td>2</td>\n",
       "      <td>1</td>\n",
       "      <td>0</td>\n",
       "      <td>8</td>\n",
       "    </tr>\n",
       "    <tr>\n",
       "      <th>31</th>\n",
       "      <td>0</td>\n",
       "      <td>1</td>\n",
       "      <td>0</td>\n",
       "      <td>0</td>\n",
       "      <td>0</td>\n",
       "      <td>0</td>\n",
       "      <td>1</td>\n",
       "      <td>0</td>\n",
       "      <td>0</td>\n",
       "      <td>5</td>\n",
       "      <td>...</td>\n",
       "      <td>2</td>\n",
       "      <td>16</td>\n",
       "      <td>0</td>\n",
       "      <td>1</td>\n",
       "      <td>0</td>\n",
       "      <td>0</td>\n",
       "      <td>0</td>\n",
       "      <td>2</td>\n",
       "      <td>0</td>\n",
       "      <td>2</td>\n",
       "    </tr>\n",
       "    <tr>\n",
       "      <th>36</th>\n",
       "      <td>0</td>\n",
       "      <td>14</td>\n",
       "      <td>0</td>\n",
       "      <td>0</td>\n",
       "      <td>0</td>\n",
       "      <td>0</td>\n",
       "      <td>0</td>\n",
       "      <td>0</td>\n",
       "      <td>0</td>\n",
       "      <td>29</td>\n",
       "      <td>...</td>\n",
       "      <td>1</td>\n",
       "      <td>0</td>\n",
       "      <td>4</td>\n",
       "      <td>0</td>\n",
       "      <td>0</td>\n",
       "      <td>0</td>\n",
       "      <td>1</td>\n",
       "      <td>16</td>\n",
       "      <td>0</td>\n",
       "      <td>3</td>\n",
       "    </tr>\n",
       "    <tr>\n",
       "      <th>47</th>\n",
       "      <td>0</td>\n",
       "      <td>1</td>\n",
       "      <td>0</td>\n",
       "      <td>0</td>\n",
       "      <td>0</td>\n",
       "      <td>0</td>\n",
       "      <td>1</td>\n",
       "      <td>0</td>\n",
       "      <td>0</td>\n",
       "      <td>0</td>\n",
       "      <td>...</td>\n",
       "      <td>0</td>\n",
       "      <td>0</td>\n",
       "      <td>0</td>\n",
       "      <td>0</td>\n",
       "      <td>0</td>\n",
       "      <td>0</td>\n",
       "      <td>0</td>\n",
       "      <td>0</td>\n",
       "      <td>0</td>\n",
       "      <td>3</td>\n",
       "    </tr>\n",
       "    <tr>\n",
       "      <th>62</th>\n",
       "      <td>0</td>\n",
       "      <td>2</td>\n",
       "      <td>0</td>\n",
       "      <td>0</td>\n",
       "      <td>0</td>\n",
       "      <td>0</td>\n",
       "      <td>0</td>\n",
       "      <td>0</td>\n",
       "      <td>0</td>\n",
       "      <td>0</td>\n",
       "      <td>...</td>\n",
       "      <td>0</td>\n",
       "      <td>1</td>\n",
       "      <td>0</td>\n",
       "      <td>0</td>\n",
       "      <td>0</td>\n",
       "      <td>0</td>\n",
       "      <td>0</td>\n",
       "      <td>3</td>\n",
       "      <td>0</td>\n",
       "      <td>5</td>\n",
       "    </tr>\n",
       "    <tr>\n",
       "      <th>67</th>\n",
       "      <td>0</td>\n",
       "      <td>0</td>\n",
       "      <td>0</td>\n",
       "      <td>0</td>\n",
       "      <td>0</td>\n",
       "      <td>0</td>\n",
       "      <td>0</td>\n",
       "      <td>0</td>\n",
       "      <td>0</td>\n",
       "      <td>0</td>\n",
       "      <td>...</td>\n",
       "      <td>0</td>\n",
       "      <td>0</td>\n",
       "      <td>0</td>\n",
       "      <td>0</td>\n",
       "      <td>0</td>\n",
       "      <td>0</td>\n",
       "      <td>0</td>\n",
       "      <td>7</td>\n",
       "      <td>0</td>\n",
       "      <td>2</td>\n",
       "    </tr>\n",
       "  </tbody>\n",
       "</table>\n",
       "<p>10 rows × 134 columns</p>\n",
       "</div>"
      ],
      "text/plain": [
       "aisle    air fresheners candles  asian foods  baby accessories  \\\n",
       "user_id                                                          \n",
       "2                             0            3                 0   \n",
       "8                             0            1                 0   \n",
       "11                            1            1                 0   \n",
       "12                            0            0                 0   \n",
       "28                            0            1                 0   \n",
       "31                            0            1                 0   \n",
       "36                            0           14                 0   \n",
       "47                            0            1                 0   \n",
       "62                            0            2                 0   \n",
       "67                            0            0                 0   \n",
       "\n",
       "aisle    baby bath body care  baby food formula  bakery desserts  \\\n",
       "user_id                                                            \n",
       "2                          0                  0                0   \n",
       "8                          0                  0                0   \n",
       "11                         0                  0                0   \n",
       "12                         0                  0                0   \n",
       "28                         0                  0                0   \n",
       "31                         0                  0                0   \n",
       "36                         0                  0                0   \n",
       "47                         0                  0                0   \n",
       "62                         0                  0                0   \n",
       "67                         0                  0                0   \n",
       "\n",
       "aisle    baking ingredients  baking supplies decor  beauty  beers coolers  \\\n",
       "user_id                                                                     \n",
       "2                         2                      0       0              0   \n",
       "8                         1                      0       0              0   \n",
       "11                        4                      0       0              0   \n",
       "12                        1                      0       0              0   \n",
       "28                        1                      1       0              0   \n",
       "31                        1                      0       0              5   \n",
       "36                        0                      0       0             29   \n",
       "47                        1                      0       0              0   \n",
       "62                        0                      0       0              0   \n",
       "67                        0                      0       0              0   \n",
       "\n",
       "aisle    ...  spreads  tea  tofu meat alternatives  tortillas flat bread  \\\n",
       "user_id  ...                                                               \n",
       "2        ...        3    1                       1                     0   \n",
       "8        ...        0    0                       0                     0   \n",
       "11       ...        1    0                       6                     0   \n",
       "12       ...        2    0                       0                     0   \n",
       "28       ...        3    1                       5                     0   \n",
       "31       ...        2   16                       0                     1   \n",
       "36       ...        1    0                       4                     0   \n",
       "47       ...        0    0                       0                     0   \n",
       "62       ...        0    1                       0                     0   \n",
       "67       ...        0    0                       0                     0   \n",
       "\n",
       "aisle    trail mix snack mix  trash bags liners  vitamins supplements  \\\n",
       "user_id                                                                 \n",
       "2                          0                  0                     0   \n",
       "8                          0                  0                     0   \n",
       "11                         0                  0                     0   \n",
       "12                         0                  0                     0   \n",
       "28                         0                  0                     2   \n",
       "31                         0                  0                     0   \n",
       "36                         0                  0                     1   \n",
       "47                         0                  0                     0   \n",
       "62                         0                  0                     0   \n",
       "67                         0                  0                     0   \n",
       "\n",
       "aisle    water seltzer sparkling water  white wines  yogurt  \n",
       "user_id                                                      \n",
       "2                                    2            0      42  \n",
       "8                                    0            0       0  \n",
       "11                                  10            0      10  \n",
       "12                                   1            0       0  \n",
       "28                                   1            0       8  \n",
       "31                                   2            0       2  \n",
       "36                                  16            0       3  \n",
       "47                                   0            0       3  \n",
       "62                                   3            0       5  \n",
       "67                                   7            0       2  \n",
       "\n",
       "[10 rows x 134 columns]"
      ]
     },
     "execution_count": 101,
     "metadata": {},
     "output_type": "execute_result"
    }
   ],
   "source": [
    "cust_prod = pd.crosstab(order_products['user_id'], order_products['aisle'])\n",
    "cust_prod.head(10)"
   ]
  },
  {
   "cell_type": "code",
   "execution_count": 102,
   "metadata": {},
   "outputs": [
    {
     "data": {
      "text/plain": [
       "(25000, 134)"
      ]
     },
     "execution_count": 102,
     "metadata": {},
     "output_type": "execute_result"
    }
   ],
   "source": [
    "cust_prod.shape"
   ]
  },
  {
   "cell_type": "code",
   "execution_count": 173,
   "metadata": {},
   "outputs": [],
   "source": [
    "from sklearn.decomposition import PCA\n",
    "pca = PCA(n_components = 20)\n",
    "pca.fit(cust_prod)\n",
    "pca_samples = pca.transform(cust_prod)"
   ]
  },
  {
   "cell_type": "code",
   "execution_count": 174,
   "metadata": {},
   "outputs": [
    {
     "data": {
      "text/html": [
       "<div>\n",
       "<style scoped>\n",
       "    .dataframe tbody tr th:only-of-type {\n",
       "        vertical-align: middle;\n",
       "    }\n",
       "\n",
       "    .dataframe tbody tr th {\n",
       "        vertical-align: top;\n",
       "    }\n",
       "\n",
       "    .dataframe thead th {\n",
       "        text-align: right;\n",
       "    }\n",
       "</style>\n",
       "<table border=\"1\" class=\"dataframe\">\n",
       "  <thead>\n",
       "    <tr style=\"text-align: right;\">\n",
       "      <th></th>\n",
       "      <th>0</th>\n",
       "      <th>1</th>\n",
       "      <th>2</th>\n",
       "      <th>3</th>\n",
       "      <th>4</th>\n",
       "      <th>5</th>\n",
       "      <th>6</th>\n",
       "      <th>7</th>\n",
       "      <th>8</th>\n",
       "      <th>9</th>\n",
       "      <th>10</th>\n",
       "      <th>11</th>\n",
       "      <th>12</th>\n",
       "      <th>13</th>\n",
       "      <th>14</th>\n",
       "      <th>15</th>\n",
       "      <th>16</th>\n",
       "      <th>17</th>\n",
       "      <th>18</th>\n",
       "      <th>19</th>\n",
       "    </tr>\n",
       "  </thead>\n",
       "  <tbody>\n",
       "    <tr>\n",
       "      <th>0</th>\n",
       "      <td>5.740539</td>\n",
       "      <td>36.058845</td>\n",
       "      <td>8.681355</td>\n",
       "      <td>-16.543300</td>\n",
       "      <td>-8.511026</td>\n",
       "      <td>-0.211279</td>\n",
       "      <td>1.411652</td>\n",
       "      <td>5.687296</td>\n",
       "      <td>3.905014</td>\n",
       "      <td>-12.494864</td>\n",
       "      <td>-3.231497</td>\n",
       "      <td>-0.382015</td>\n",
       "      <td>1.065473</td>\n",
       "      <td>-5.558241</td>\n",
       "      <td>-7.713650</td>\n",
       "      <td>5.276892</td>\n",
       "      <td>-0.050711</td>\n",
       "      <td>-0.196274</td>\n",
       "      <td>0.772629</td>\n",
       "      <td>3.174871</td>\n",
       "    </tr>\n",
       "    <tr>\n",
       "      <th>1</th>\n",
       "      <td>-14.671315</td>\n",
       "      <td>-15.248508</td>\n",
       "      <td>4.515960</td>\n",
       "      <td>-2.770020</td>\n",
       "      <td>-0.228715</td>\n",
       "      <td>2.319488</td>\n",
       "      <td>1.593737</td>\n",
       "      <td>0.177237</td>\n",
       "      <td>-1.223714</td>\n",
       "      <td>-0.196536</td>\n",
       "      <td>0.323562</td>\n",
       "      <td>0.034425</td>\n",
       "      <td>-1.485443</td>\n",
       "      <td>0.436597</td>\n",
       "      <td>0.262902</td>\n",
       "      <td>1.004939</td>\n",
       "      <td>1.576011</td>\n",
       "      <td>0.410657</td>\n",
       "      <td>1.223066</td>\n",
       "      <td>-0.324433</td>\n",
       "    </tr>\n",
       "    <tr>\n",
       "      <th>2</th>\n",
       "      <td>-20.511900</td>\n",
       "      <td>6.090807</td>\n",
       "      <td>5.122688</td>\n",
       "      <td>1.031901</td>\n",
       "      <td>-1.936428</td>\n",
       "      <td>2.934660</td>\n",
       "      <td>-5.844610</td>\n",
       "      <td>-2.526627</td>\n",
       "      <td>2.505100</td>\n",
       "      <td>-0.097685</td>\n",
       "      <td>0.402136</td>\n",
       "      <td>-1.267393</td>\n",
       "      <td>-1.303783</td>\n",
       "      <td>1.924270</td>\n",
       "      <td>2.634242</td>\n",
       "      <td>-2.105019</td>\n",
       "      <td>2.905902</td>\n",
       "      <td>-1.566227</td>\n",
       "      <td>0.848571</td>\n",
       "      <td>-0.143906</td>\n",
       "    </tr>\n",
       "    <tr>\n",
       "      <th>3</th>\n",
       "      <td>-14.425540</td>\n",
       "      <td>-7.465346</td>\n",
       "      <td>-1.195158</td>\n",
       "      <td>-1.384685</td>\n",
       "      <td>-0.868534</td>\n",
       "      <td>0.802434</td>\n",
       "      <td>1.298284</td>\n",
       "      <td>-0.111847</td>\n",
       "      <td>0.279960</td>\n",
       "      <td>-0.523989</td>\n",
       "      <td>0.497209</td>\n",
       "      <td>0.482189</td>\n",
       "      <td>0.215958</td>\n",
       "      <td>-1.383402</td>\n",
       "      <td>1.104473</td>\n",
       "      <td>1.189199</td>\n",
       "      <td>-0.972348</td>\n",
       "      <td>0.341572</td>\n",
       "      <td>1.114136</td>\n",
       "      <td>-0.065160</td>\n",
       "    </tr>\n",
       "    <tr>\n",
       "      <th>4</th>\n",
       "      <td>14.545516</td>\n",
       "      <td>-13.643238</td>\n",
       "      <td>5.000635</td>\n",
       "      <td>-2.291829</td>\n",
       "      <td>-0.339620</td>\n",
       "      <td>-2.613479</td>\n",
       "      <td>-2.472741</td>\n",
       "      <td>1.381231</td>\n",
       "      <td>-1.113002</td>\n",
       "      <td>-3.910159</td>\n",
       "      <td>1.251377</td>\n",
       "      <td>1.757976</td>\n",
       "      <td>-0.489510</td>\n",
       "      <td>0.394286</td>\n",
       "      <td>2.902832</td>\n",
       "      <td>-3.581324</td>\n",
       "      <td>4.374022</td>\n",
       "      <td>-2.231376</td>\n",
       "      <td>0.696033</td>\n",
       "      <td>3.842624</td>\n",
       "    </tr>\n",
       "  </tbody>\n",
       "</table>\n",
       "</div>"
      ],
      "text/plain": [
       "          0          1         2          3         4         5         6   \\\n",
       "0   5.740539  36.058845  8.681355 -16.543300 -8.511026 -0.211279  1.411652   \n",
       "1 -14.671315 -15.248508  4.515960  -2.770020 -0.228715  2.319488  1.593737   \n",
       "2 -20.511900   6.090807  5.122688   1.031901 -1.936428  2.934660 -5.844610   \n",
       "3 -14.425540  -7.465346 -1.195158  -1.384685 -0.868534  0.802434  1.298284   \n",
       "4  14.545516 -13.643238  5.000635  -2.291829 -0.339620 -2.613479 -2.472741   \n",
       "\n",
       "         7         8          9         10        11        12        13  \\\n",
       "0  5.687296  3.905014 -12.494864 -3.231497 -0.382015  1.065473 -5.558241   \n",
       "1  0.177237 -1.223714  -0.196536  0.323562  0.034425 -1.485443  0.436597   \n",
       "2 -2.526627  2.505100  -0.097685  0.402136 -1.267393 -1.303783  1.924270   \n",
       "3 -0.111847  0.279960  -0.523989  0.497209  0.482189  0.215958 -1.383402   \n",
       "4  1.381231 -1.113002  -3.910159  1.251377  1.757976 -0.489510  0.394286   \n",
       "\n",
       "         14        15        16        17        18        19  \n",
       "0 -7.713650  5.276892 -0.050711 -0.196274  0.772629  3.174871  \n",
       "1  0.262902  1.004939  1.576011  0.410657  1.223066 -0.324433  \n",
       "2  2.634242 -2.105019  2.905902 -1.566227  0.848571 -0.143906  \n",
       "3  1.104473  1.189199 -0.972348  0.341572  1.114136 -0.065160  \n",
       "4  2.902832 -3.581324  4.374022 -2.231376  0.696033  3.842624  "
      ]
     },
     "execution_count": 174,
     "metadata": {},
     "output_type": "execute_result"
    }
   ],
   "source": [
    "ps = pd.DataFrame(pca_samples)\n",
    "ps.head()"
   ]
  },
  {
   "cell_type": "code",
   "execution_count": 176,
   "metadata": {},
   "outputs": [
    {
     "name": "stdout",
     "output_type": "stream",
     "text": [
      "(25000, 2)\n",
      "          7          1\n",
      "0  5.687296  36.058845\n",
      "1  0.177237 -15.248508\n",
      "2 -2.526627   6.090807\n",
      "3 -0.111847  -7.465346\n",
      "4  1.381231 -13.643238\n"
     ]
    },
    {
     "data": {
      "image/png": "[encoded data removed]",
      "text/plain": [
       "<Figure size 864x576 with 1 Axes>"
      ]
     },
     "metadata": {
      "needs_background": "light"
     },
     "output_type": "display_data"
    }
   ],
   "source": [
    "import matplotlib.pyplot as plt\n",
    "from mpl_toolkits.mplot3d import Axes3D\n",
    "from mpl_toolkits.mplot3d import proj3d\n",
    "toCluster = pd.DataFrame(ps[[7, 1]])\n",
    "print(toCluster.shape)\n",
    "print(toCluster.head())\n",
    "\n",
    "fig = plt.figure(figsize = (12,8))\n",
    "plt.plot(toCluster[7], toCluster[1], 'o', markersize=2, color='blue', alpha=0.5, label='class 1')\n",
    "\n",
    "plt.xlabel('x_values')\n",
    "plt.ylabel('y_values')\n",
    "plt.legend()\n",
    "plt.show()"
   ]
  },
  {
   "cell_type": "code",
   "execution_count": 177,
   "metadata": {},
   "outputs": [
    {
     "name": "stdout",
     "output_type": "stream",
     "text": [
      "[[ 1.73909112e-01  8.20129454e-02]\n",
      " [ 2.66322378e+00 -7.84731042e+01]\n",
      " [ 1.24829065e+01  1.40218086e+02]\n",
      " [-4.09592436e+00  3.34405761e+01]\n",
      " [ 5.59365568e-01 -1.89564873e+01]]\n"
     ]
    }
   ],
   "source": [
    "from sklearn.cluster import KMeans\n",
    "\n",
    "clusterer = KMeans(n_clusters=5, random_state=42).fit(toCluster)\n",
    "centers = clusterer.cluster_centers_\n",
    "c_preds = clusterer.predict(toCluster)\n",
    "print(centers)"
   ]
  },
  {
   "cell_type": "code",
   "execution_count": 110,
   "metadata": {},
   "outputs": [
    {
     "name": "stdout",
     "output_type": "stream",
     "text": [
      "[1 0 0 0 0 1 0 0 0 0 0 0 0 0 0 0 0 0 0 0 0 0 0 0 0 0 1 0 0 0 1 1 3 1 0 0 2\n",
      " 0 0 0 0 0 0 2 0 0 0 2 0 0 0 0 0 0 0 0 0 0 0 0 0 0 0 1 0 3 0 0 0 0 0 0 0 0\n",
      " 1 0 0 2 1 1 0 0 2 0 0 0 1 0 0 1 0 0 0 0 0 0 0 0 0 0]\n"
     ]
    }
   ],
   "source": [
    "print(c_preds[0:100])"
   ]
  },
  {
   "cell_type": "code",
   "execution_count": 178,
   "metadata": {},
   "outputs": [
    {
     "data": {
      "image/png": "[encoded data removed]",
      "text/plain": [
       "<Figure size 864x576 with 1 Axes>"
      ]
     },
     "metadata": {
      "needs_background": "light"
     },
     "output_type": "display_data"
    }
   ],
   "source": [
    "import matplotlib\n",
    "fig = plt.figure(figsize=(12,8))\n",
    "colors = sns.color_palette(n_colors=5)\n",
    "colored = [colors[k] for k in c_preds]\n",
    "#print (colored[0:10])\n",
    "plt.scatter(toCluster[7],toCluster[1],  color = colored)\n",
    "for ci,c in enumerate(centers):\n",
    "    plt.plot(c[0], c[1], 'o', markersize=8, color='red', alpha=0.9, label=''+str(ci))\n",
    "\n",
    "plt.xlabel('x_values')\n",
    "plt.ylabel('y_values')\n",
    "#plt.legend()\n",
    "plt.show()"
   ]
  },
  {
   "cell_type": "code",
   "execution_count": 179,
   "metadata": {},
   "outputs": [
    {
     "data": {
      "text/plain": [
       "(25000, 135)"
      ]
     },
     "execution_count": 179,
     "metadata": {},
     "output_type": "execute_result"
    }
   ],
   "source": [
    "clust_prod = cust_prod.copy()\n",
    "clust_prod['cluster'] = c_preds\n",
    "\n",
    "clust_prod.shape"
   ]
  },
  {
   "cell_type": "code",
   "execution_count": 180,
   "metadata": {},
   "outputs": [],
   "source": [
    "c0 = clust_prod[clust_prod['cluster']==0].drop('cluster', axis=1).mean()\n",
    "c1 = clust_prod[clust_prod['cluster']==1].drop('cluster', axis=1).mean()\n",
    "c2 = clust_prod[clust_prod['cluster']==2].drop('cluster', axis=1).mean()\n",
    "c3 = clust_prod[clust_prod['cluster']==3].drop('cluster', axis=1).mean()\n",
    "c4 = clust_prod[clust_prod['cluster']==4].drop('cluster', axis=1).mean()"
   ]
  },
  {
   "cell_type": "code",
   "execution_count": 183,
   "metadata": {},
   "outputs": [
    {
     "data": {
      "text/plain": [
       "(19673, 135)"
      ]
     },
     "execution_count": 183,
     "metadata": {},
     "output_type": "execute_result"
    }
   ],
   "source": [
    "clust_prod[clust_prod['cluster']==0].shape"
   ]
  },
  {
   "cell_type": "code",
   "execution_count": 181,
   "metadata": {},
   "outputs": [
    {
     "data": {
      "text/plain": [
       "aisle\n",
       "fresh fruits                     10.583439\n",
       "fresh vegetables                  8.586082\n",
       "packaged vegetables fruits        5.427032\n",
       "yogurt                            3.937681\n",
       "packaged cheese                   3.148376\n",
       "water seltzer sparkling water     2.709145\n",
       "milk                              2.684491\n",
       "chips pretzels                    2.384385\n",
       "soy lactosefree                   1.975601\n",
       "refrigerated                      1.907640\n",
       "dtype: float64"
      ]
     },
     "execution_count": 181,
     "metadata": {},
     "output_type": "execute_result"
    }
   ],
   "source": [
    "c0.sort_values(ascending = False)[0:10]"
   ]
  },
  {
   "cell_type": "code",
   "execution_count": 182,
   "metadata": {},
   "outputs": [
    {
     "data": {
      "text/plain": [
       "aisle\n",
       "fresh vegetables              175.353952\n",
       "fresh fruits                   84.731959\n",
       "packaged vegetables fruits     44.790378\n",
       "fresh herbs                    19.577320\n",
       "soy lactosefree                14.879725\n",
       "packaged cheese                14.580756\n",
       "yogurt                         13.171821\n",
       "milk                           11.704467\n",
       "frozen produce                 10.749141\n",
       "chips pretzels                  9.738832\n",
       "dtype: float64"
      ]
     },
     "execution_count": 182,
     "metadata": {},
     "output_type": "execute_result"
    }
   ],
   "source": [
    "c1.sort_values(ascending = False)[0:10]"
   ]
  },
  {
   "cell_type": "code",
   "execution_count": 184,
   "metadata": {},
   "outputs": [
    {
     "data": {
      "text/plain": [
       "aisle\n",
       "yogurt                           140.054688\n",
       "fresh fruits                     124.390625\n",
       "energy granola bars               58.382812\n",
       "water seltzer sparkling water     38.773438\n",
       "packaged vegetables fruits        36.625000\n",
       "milk                              35.203125\n",
       "chips pretzels                    30.507812\n",
       "packaged cheese                   29.375000\n",
       "refrigerated                      25.445312\n",
       "candy chocolate                   22.695312\n",
       "dtype: float64"
      ]
     },
     "execution_count": 184,
     "metadata": {},
     "output_type": "execute_result"
    }
   ],
   "source": [
    "c2.sort_values(ascending = False)[0:10]"
   ]
  },
  {
   "cell_type": "code",
   "execution_count": 185,
   "metadata": {},
   "outputs": [
    {
     "data": {
      "text/plain": [
       "aisle\n",
       "fresh fruits                     57.563181\n",
       "yogurt                           31.330610\n",
       "fresh vegetables                 22.808824\n",
       "packaged vegetables fruits       22.525054\n",
       "milk                             18.163943\n",
       "water seltzer sparkling water    15.983115\n",
       "packaged cheese                  14.473856\n",
       "chips pretzels                   12.601307\n",
       "baby food formula                10.321351\n",
       "energy granola bars               9.189542\n",
       "dtype: float64"
      ]
     },
     "execution_count": 185,
     "metadata": {},
     "output_type": "execute_result"
    }
   ],
   "source": [
    "c3.sort_values(ascending = False)[0:10]"
   ]
  },
  {
   "cell_type": "code",
   "execution_count": 186,
   "metadata": {},
   "outputs": [
    {
     "data": {
      "text/plain": [
       "aisle\n",
       "fresh vegetables                 49.377279\n",
       "fresh fruits                     28.875977\n",
       "packaged vegetables fruits       15.812826\n",
       "packaged cheese                   6.797201\n",
       "yogurt                            6.488607\n",
       "fresh herbs                       5.656576\n",
       "soy lactosefree                   5.228841\n",
       "milk                              5.049154\n",
       "frozen produce                    4.542969\n",
       "water seltzer sparkling water     4.189128\n",
       "dtype: float64"
      ]
     },
     "execution_count": 186,
     "metadata": {},
     "output_type": "execute_result"
    }
   ],
   "source": [
    "c4.sort_values(ascending = False)[0:10]"
   ]
  },
  {
   "cell_type": "code",
   "execution_count": null,
   "metadata": {},
   "outputs": [],
   "source": []
  }
 ],
 "metadata": {
  "kernelspec": {
   "display_name": "Python 3",
   "language": "python",
   "name": "python3"
  },
  "language_info": {
   "codemirror_mode": {
    "name": "ipython",
    "version": 3
   },
   "file_extension": ".py",
   "mimetype": "text/x-python",
   "name": "python",
   "nbconvert_exporter": "python",
   "pygments_lexer": "ipython3",
   "version": "3.7.3"
  }
 },
 "nbformat": 4,
 "nbformat_minor": 2
}
