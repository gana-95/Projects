{
  "nbformat": 4,
  "nbformat_minor": 0,
  "metadata": {
    "colab": {
      "name": "Scraping Salary Data",
      "provenance": [],
      "collapsed_sections": []
    },
    "kernelspec": {
      "name": "python3",
      "display_name": "Python 3"
    }
  },
  "cells": [
    {
      "cell_type": "code",
      "metadata": {
        "id": "_sX3GRBnXnW7"
      },
      "source": [
        "%%sh\n",
        "curl https://packages.microsoft.com/keys/microsoft.asc | apt-key add -\n",
        "curl https://packages.microsoft.com/config/ubuntu/16.04/prod.list > /etc/apt/sources.list.d/mssql-release.list\n",
        "sudo apt-get update\n",
        "sudo ACCEPT_EULA=Y apt-get -q -y install msodbcsql17"
      ],
      "execution_count": null,
      "outputs": []
    },
    {
      "cell_type": "code",
      "metadata": {
        "id": "EBFnx-jDYpSd"
      },
      "source": [
        "!apt install unixodbc-dev\n",
        "!pip install pyodbc"
      ],
      "execution_count": null,
      "outputs": []
    },
    {
      "cell_type": "code",
      "metadata": {
        "id": "QqqFPHqf0NE4"
      },
      "source": [
        "import requests, six\n",
        "import lxml.html as lh\n",
        "from itertools import cycle, islice\n",
        "from matplotlib import colors\n",
        "import pandas as pd\n",
        "import matplotlib.pyplot as plt\n",
        "import pyodbc\n",
        "%matplotlib inline"
      ],
      "execution_count": null,
      "outputs": []
    },
    {
      "cell_type": "markdown",
      "metadata": {
        "id": "vGM5MA3FCmlU"
      },
      "source": [
        "## Web Scraping\n",
        "\n",
        "Extract the data from the website"
      ]
    },
    {
      "cell_type": "code",
      "metadata": {
        "id": "PUn-ebjdg3hN"
      },
      "source": [
        "def web_scraping(key_words, years):\n",
        "\n",
        "  final_df = []  \n",
        "  \n",
        "  for word in key_words:\n",
        "    for year in years:\n",
        "      a = word.split(\" \")[0]\n",
        "      b = word.split(\" \")[1]\n",
        "\n",
        "      url = \"https://h1bdata.info/index.php?em=&job=\" + a + \"+\" + b + \"&city=&year=\" + str(year) # URL to scrape data\n",
        "\n",
        "      # Create a handle, page, to handle the contents of the website\n",
        "      page = requests.get(url)\n",
        "\n",
        "      # Store the contents of the website\n",
        "      doc = lh.fromstring(page.content)\n",
        "\n",
        "      # Parse data that are stored between <tr>.. </tr> tags\n",
        "      tr_elements = doc.xpath('//tr')\n",
        "\n",
        "      col = []\n",
        "      i = 0\n",
        "\n",
        "      for t in tr_elements[0]:\n",
        "        i += 1\n",
        "        name = t.text_content()\n",
        "        # print(i, \".\", name)\n",
        "        col.append((name, []))  \n",
        "\n",
        "      for j in range(1, len(tr_elements)):\n",
        "        # T is our j'th row\n",
        "        T = tr_elements[j]\n",
        "\n",
        "        # Check if all the columns are present and add only that data\n",
        "        if len(T) != 7:\n",
        "          break\n",
        "  \n",
        "        # Ro\n",
        "        i = 0\n",
        "\n",
        "        for t in T.iterchildren():\n",
        "          data = t.text_content()\n",
        "          if i > 0:\n",
        "\n",
        "            try:\n",
        "              data = int(data)\n",
        "            except:\n",
        "              pass\n",
        "\n",
        "          col[i][1].append(data)\n",
        "\n",
        "          i += 1\n",
        "\n",
        "      Dict = {title:column for (title, column) in col}\n",
        "      df = pd.DataFrame(Dict)\n",
        "\n",
        "      final_df.append(df)\n",
        "\n",
        "  return pd.concat(final_df)"
      ],
      "execution_count": null,
      "outputs": []
    },
    {
      "cell_type": "code",
      "metadata": {
        "id": "_rpnh3gcg3e1"
      },
      "source": [
        "key_words = [\"Data Analyst\", \"Business Analyst\", \"Data Scientist\", \"Data Engineer\"] # Job Roles to scrape\n",
        "years = [2012, 2013, 2014, 2015, 2016, 2017, 2018, 2019, 2020] # Years you want to scrape\n",
        "data = web_scraping(key_words, years)"
      ],
      "execution_count": null,
      "outputs": []
    },
    {
      "cell_type": "code",
      "metadata": {
        "id": "LPgD29Dqg3cF"
      },
      "source": [
        "data = data.reset_index().drop(columns = \"index\")"
      ],
      "execution_count": null,
      "outputs": []
    },
    {
      "cell_type": "code",
      "metadata": {
        "id": "lbuH61C8g3BS"
      },
      "source": [
        "data[['CITY', 'STATE', \"r1\"]] = data.LOCATION.str.split(\", \", expand = True) # Expanding the location to state and city"
      ],
      "execution_count": null,
      "outputs": []
    },
    {
      "cell_type": "code",
      "metadata": {
        "id": "ufnyms_Dyckb"
      },
      "source": [
        "noise = {'NY': 'NY',\n",
        "         'AR': 'AR',\n",
        "         'MA': 'MA',\n",
        "         'MD': 'MD',\n",
        "         'CA': 'CA',\n",
        "         'TX': 'TX',\n",
        "         'VT': 'VT',\n",
        "         'WA': 'WA',\n",
        "         'WI': 'WI',\n",
        "         'IL': 'IL',\n",
        "         'GA': 'GA',\n",
        "         'FL': 'FL',\n",
        "         'MI': 'MI',\n",
        "         'VA': 'VA',\n",
        "         'PA': 'PA',\n",
        "         'NE': 'NE',\n",
        "         'NC': 'NC',\n",
        "         'DC': 'DC',\n",
        "         'OH': 'OH',\n",
        "         'MN': 'MN',\n",
        "         'IN': 'IN',\n",
        "         'CO': 'CO',\n",
        "         'CT': 'CT',\n",
        "         'NJ': 'NJ',\n",
        "         'TN': 'TN',\n",
        "         'IA': 'IA',\n",
        "         'MO': 'MO',\n",
        "         'LA': 'LA',\n",
        "         'SC': 'SC',\n",
        "         'OK': 'OK',\n",
        "         'PR': 'PR',\n",
        "         'AZ': 'AZ',\n",
        "         'AL': 'AL',\n",
        "         'SAN RAMON,': 'CA',\n",
        "         'DE': 'DE',\n",
        "         'KY': 'KY',\n",
        "         'NV': 'NV',\n",
        "         'OR': 'OR',\n",
        "         'KS': 'KS',\n",
        "         'NH': 'NH',\n",
        "         'MS': 'MS',\n",
        "         'HI': 'HI',\n",
        "         'CA 95134': 'CA',\n",
        "         'UT': 'UT',\n",
        "         'RI': 'RI',\n",
        "         'NM': 'NM',\n",
        "         'WY': 'WY',\n",
        "         'ND': 'ND',\n",
        "         'ME': 'ME',\n",
        "         'ATLANTA': 'GA',\n",
        "         'SD': 'SD',\n",
        "         'MT': 'MT',\n",
        "         'D.C.': 'DC',\n",
        "         'WV': 'WV',\n",
        "         'ID': 'ID',\n",
        "         'MINNEAPOLIS': 'MN',\n",
        "         'VI': 'VI',\n",
        "         '': 'IN',\n",
        "         'AK': 'AK',\n",
        "         'ETS DRIVE': 'NJ',\n",
        "         'MO 63105': 'MO',\n",
        "         'WASHINGTON': 'WA',\n",
        "         'DC 20006': 'DC',\n",
        "         'IL 60654': 'IL'}"
      ],
      "execution_count": null,
      "outputs": []
    },
    {
      "cell_type": "code",
      "metadata": {
        "colab": {
          "base_uri": "https://localhost:8080/"
        },
        "id": "g3X1GShjlkZB",
        "outputId": "f407c19d-9408-4aa9-c9e7-e8be5fab5d34"
      },
      "source": [
        "from google.colab import drive\n",
        "drive.mount('/content/drive')"
      ],
      "execution_count": null,
      "outputs": [
        {
          "output_type": "stream",
          "text": [
            "Mounted at /content/drive\n"
          ],
          "name": "stdout"
        }
      ]
    },
    {
      "cell_type": "code",
      "metadata": {
        "id": "rIXYcgkDz474",
        "colab": {
          "base_uri": "https://localhost:8080/",
          "height": 195
        },
        "outputId": "884a0406-3360-4a48-b0b7-8cb756c06a75"
      },
      "source": [
        "# Cleaning the data\n",
        "data[\"STATE\"] = data[\"STATE\"].map(noise)\n",
        "data = data.drop(columns = 'r1')\n",
        "data['CITY'] = data.CITY.str.replace(\",\", \"\")\n",
        "data = data.drop(columns = 'LOCATION')\n",
        "data['BASE SALARY'] = data['BASE SALARY'].str.replace(\",\", \"\")\n",
        "data['BASE SALARY'] = data['BASE SALARY'].astype(int)\n",
        "data.head()"
      ],
      "execution_count": null,
      "outputs": [
        {
          "output_type": "execute_result",
          "data": {
            "text/html": [
              "<div>\n",
              "<style scoped>\n",
              "    .dataframe tbody tr th:only-of-type {\n",
              "        vertical-align: middle;\n",
              "    }\n",
              "\n",
              "    .dataframe tbody tr th {\n",
              "        vertical-align: top;\n",
              "    }\n",
              "\n",
              "    .dataframe thead th {\n",
              "        text-align: right;\n",
              "    }\n",
              "</style>\n",
              "<table border=\"1\" class=\"dataframe\">\n",
              "  <thead>\n",
              "    <tr style=\"text-align: right;\">\n",
              "      <th></th>\n",
              "      <th>EMPLOYER</th>\n",
              "      <th>JOB TITLE</th>\n",
              "      <th>BASE SALARY</th>\n",
              "      <th>SUBMIT DATE</th>\n",
              "      <th>START DATE</th>\n",
              "      <th>CASE STATUS</th>\n",
              "      <th>CITY</th>\n",
              "      <th>STATE</th>\n",
              "    </tr>\n",
              "  </thead>\n",
              "  <tbody>\n",
              "    <tr>\n",
              "      <th>0</th>\n",
              "      <td>VENIO LLC</td>\n",
              "      <td>DATA ANALYST</td>\n",
              "      <td>60000</td>\n",
              "      <td>02/15/2012</td>\n",
              "      <td>03/09/2012</td>\n",
              "      <td>WITHDRAWN</td>\n",
              "      <td>NEW YORK</td>\n",
              "      <td>NY</td>\n",
              "    </tr>\n",
              "    <tr>\n",
              "      <th>1</th>\n",
              "      <td>GENERAL DYNAMICS INFORMATION TECHNOLOGY INC</td>\n",
              "      <td>DATA ANALYST</td>\n",
              "      <td>62000</td>\n",
              "      <td>04/03/2012</td>\n",
              "      <td>09/15/2012</td>\n",
              "      <td>WITHDRAWN</td>\n",
              "      <td>LITTLE ROCK</td>\n",
              "      <td>AR</td>\n",
              "    </tr>\n",
              "    <tr>\n",
              "      <th>2</th>\n",
              "      <td>CATALYST ONLINE LLC</td>\n",
              "      <td>DATA ANALYST</td>\n",
              "      <td>77500</td>\n",
              "      <td>08/26/2013</td>\n",
              "      <td>09/09/2013</td>\n",
              "      <td>WITHDRAWN</td>\n",
              "      <td>NEWTON</td>\n",
              "      <td>MA</td>\n",
              "    </tr>\n",
              "    <tr>\n",
              "      <th>3</th>\n",
              "      <td>INOVALON INC</td>\n",
              "      <td>DATA ANALYST</td>\n",
              "      <td>80018</td>\n",
              "      <td>03/19/2013</td>\n",
              "      <td>09/18/2013</td>\n",
              "      <td>WITHDRAWN</td>\n",
              "      <td>BOWIE</td>\n",
              "      <td>MD</td>\n",
              "    </tr>\n",
              "    <tr>\n",
              "      <th>4</th>\n",
              "      <td>INTUIT INC</td>\n",
              "      <td>DATA ANALYST</td>\n",
              "      <td>90000</td>\n",
              "      <td>03/05/2013</td>\n",
              "      <td>08/26/2013</td>\n",
              "      <td>WITHDRAWN</td>\n",
              "      <td>MOUNTAIN VIEW</td>\n",
              "      <td>CA</td>\n",
              "    </tr>\n",
              "  </tbody>\n",
              "</table>\n",
              "</div>"
            ],
            "text/plain": [
              "                                      EMPLOYER  ... STATE\n",
              "0                                    VENIO LLC  ...    NY\n",
              "1  GENERAL DYNAMICS INFORMATION TECHNOLOGY INC  ...    AR\n",
              "2                          CATALYST ONLINE LLC  ...    MA\n",
              "3                                 INOVALON INC  ...    MD\n",
              "4                                   INTUIT INC  ...    CA\n",
              "\n",
              "[5 rows x 8 columns]"
            ]
          },
          "metadata": {
            "tags": []
          },
          "execution_count": 12
        }
      ]
    },
    {
      "cell_type": "code",
      "metadata": {
        "colab": {
          "base_uri": "https://localhost:8080/",
          "height": 195
        },
        "id": "7iMj6k5ndj8R",
        "outputId": "da5063b9-1c6d-4b06-f1ca-75141491dd4d"
      },
      "source": [
        "data.head()"
      ],
      "execution_count": null,
      "outputs": [
        {
          "output_type": "execute_result",
          "data": {
            "text/html": [
              "<div>\n",
              "<style scoped>\n",
              "    .dataframe tbody tr th:only-of-type {\n",
              "        vertical-align: middle;\n",
              "    }\n",
              "\n",
              "    .dataframe tbody tr th {\n",
              "        vertical-align: top;\n",
              "    }\n",
              "\n",
              "    .dataframe thead th {\n",
              "        text-align: right;\n",
              "    }\n",
              "</style>\n",
              "<table border=\"1\" class=\"dataframe\">\n",
              "  <thead>\n",
              "    <tr style=\"text-align: right;\">\n",
              "      <th></th>\n",
              "      <th>EMPLOYER</th>\n",
              "      <th>JOB TITLE</th>\n",
              "      <th>BASE SALARY</th>\n",
              "      <th>SUBMIT DATE</th>\n",
              "      <th>START DATE</th>\n",
              "      <th>CASE STATUS</th>\n",
              "      <th>CITY</th>\n",
              "      <th>STATE</th>\n",
              "    </tr>\n",
              "  </thead>\n",
              "  <tbody>\n",
              "    <tr>\n",
              "      <th>0</th>\n",
              "      <td>VENIO LLC</td>\n",
              "      <td>DATA ANALYST</td>\n",
              "      <td>60000</td>\n",
              "      <td>02/15/2012</td>\n",
              "      <td>03/09/2012</td>\n",
              "      <td>WITHDRAWN</td>\n",
              "      <td>NEW YORK</td>\n",
              "      <td>NY</td>\n",
              "    </tr>\n",
              "    <tr>\n",
              "      <th>1</th>\n",
              "      <td>GENERAL DYNAMICS INFORMATION TECHNOLOGY INC</td>\n",
              "      <td>DATA ANALYST</td>\n",
              "      <td>62000</td>\n",
              "      <td>04/03/2012</td>\n",
              "      <td>09/15/2012</td>\n",
              "      <td>WITHDRAWN</td>\n",
              "      <td>LITTLE ROCK</td>\n",
              "      <td>AR</td>\n",
              "    </tr>\n",
              "    <tr>\n",
              "      <th>2</th>\n",
              "      <td>CATALYST ONLINE LLC</td>\n",
              "      <td>DATA ANALYST</td>\n",
              "      <td>77500</td>\n",
              "      <td>08/26/2013</td>\n",
              "      <td>09/09/2013</td>\n",
              "      <td>WITHDRAWN</td>\n",
              "      <td>NEWTON</td>\n",
              "      <td>MA</td>\n",
              "    </tr>\n",
              "    <tr>\n",
              "      <th>3</th>\n",
              "      <td>INOVALON INC</td>\n",
              "      <td>DATA ANALYST</td>\n",
              "      <td>80018</td>\n",
              "      <td>03/19/2013</td>\n",
              "      <td>09/18/2013</td>\n",
              "      <td>WITHDRAWN</td>\n",
              "      <td>BOWIE</td>\n",
              "      <td>MD</td>\n",
              "    </tr>\n",
              "    <tr>\n",
              "      <th>4</th>\n",
              "      <td>INTUIT INC</td>\n",
              "      <td>DATA ANALYST</td>\n",
              "      <td>90000</td>\n",
              "      <td>03/05/2013</td>\n",
              "      <td>08/26/2013</td>\n",
              "      <td>WITHDRAWN</td>\n",
              "      <td>MOUNTAIN VIEW</td>\n",
              "      <td>CA</td>\n",
              "    </tr>\n",
              "  </tbody>\n",
              "</table>\n",
              "</div>"
            ],
            "text/plain": [
              "                                      EMPLOYER  ... STATE\n",
              "0                                    VENIO LLC  ...    NY\n",
              "1  GENERAL DYNAMICS INFORMATION TECHNOLOGY INC  ...    AR\n",
              "2                          CATALYST ONLINE LLC  ...    MA\n",
              "3                                 INOVALON INC  ...    MD\n",
              "4                                   INTUIT INC  ...    CA\n",
              "\n",
              "[5 rows x 8 columns]"
            ]
          },
          "metadata": {
            "tags": []
          },
          "execution_count": 13
        }
      ]
    },
    {
      "cell_type": "code",
      "metadata": {
        "id": "4DTNDQ8xdbGJ"
      },
      "source": [
        "data['ID'] = data.index + 1 # Adding the ID to the data\n",
        "data.columns = ['EMPLOYER', 'JOBTITLE', 'BASE_SALARY', 'SUBMIT_DATE', 'STARTING_DATE',\n",
        "                'CASE_STATE', 'CITY', 'STATE', 'ID'] # Renaming the columns"
      ],
      "execution_count": null,
      "outputs": []
    },
    {
      "cell_type": "code",
      "metadata": {
        "id": "6mY0QlksiTtr"
      },
      "source": [
        "# Push the data into the server\n",
        "def insert_to_db():\n",
        "  server = 'SERVER_NAME'\n",
        "  database = 'DATABASE_NAME'    \n",
        "  username = 'USERNAME'    \n",
        "  password = 'PASSWORD'\n",
        "\n",
        "  conn = pyodbc.connect('DRIVER={ODBC Driver 17 for SQL Server};SERVER='+server+';DATABASE='+database+';UID='+username+';PWD='+ password)    \n",
        "  cursor = conn.cursor()\n",
        "\n",
        "  for index, row in data.iterrows():\n",
        "    cursor.execute(\"INSERT INTO dbo.Ganapathy_Employment_data (ID, EMPLOYER, BASE_SALARY, SUBMIT_DATE, STARTING_DATE, CASE_STATE, CITY, STATE) VALUES(?,?,?,?,?,?,?,?)\",\n",
        "                   row.ID, row.EMPLOYER, row.BASE_SALARY, row.SUBMIT_DATE, row.STARTING_DATE, row.CASE_STATE, row.CITY, row.STATE)\n",
        "  \n",
        "  conn.commit()\n",
        "  conn.close()"
      ],
      "execution_count": null,
      "outputs": []
    },
    {
      "cell_type": "code",
      "metadata": {
        "id": "U38nDu5AXboU"
      },
      "source": [
        "insert_to_db()"
      ],
      "execution_count": null,
      "outputs": []
    },
    {
      "cell_type": "code",
      "metadata": {
        "colab": {
          "base_uri": "https://localhost:8080/",
          "height": 35
        },
        "id": "w9OEYnl-mg2f",
        "outputId": "3b58e967-db55-4752-ca3b-71ae180ec32b"
      },
      "source": [
        "import os\n",
        "os.getcwd()"
      ],
      "execution_count": null,
      "outputs": [
        {
          "output_type": "execute_result",
          "data": {
            "application/vnd.google.colaboratory.intrinsic+json": {
              "type": "string"
            },
            "text/plain": [
              "'/content'"
            ]
          },
          "metadata": {
            "tags": []
          },
          "execution_count": 22
        }
      ]
    },
    {
      "cell_type": "code",
      "metadata": {
        "colab": {
          "base_uri": "https://localhost:8080/"
        },
        "id": "YV0O1l44o4gw",
        "outputId": "c5b565a7-133f-4f5a-b3c8-e482468beedd"
      },
      "source": [
        "!jupyter notebook --notebook-dir='/Content/drive/MyDrive/Colab Notebooks/'"
      ],
      "execution_count": null,
      "outputs": [
        {
          "output_type": "stream",
          "text": [
            "The Jupyter HTML Notebook.\n",
            "\n",
            "This launches a Tornado based HTML Notebook Server that serves up an\n",
            "HTML5/Javascript Notebook client.\n",
            "\n",
            "Subcommands\n",
            "-----------\n",
            "\n",
            "Subcommands are launched as `jupyter-notebook cmd [args]`. For information on\n",
            "using subcommand 'cmd', do: `jupyter-notebook cmd -h`.\n",
            "\n",
            "stop\n",
            "    Stop currently running notebook server for a given port\n",
            "password\n",
            "    Set a password for the notebook server.\n",
            "list\n",
            "    List currently running notebook servers.\n",
            "\n",
            "Options\n",
            "-------\n",
            "\n",
            "Arguments that take values are actually convenience aliases to full\n",
            "Configurables, whose aliases are listed on the help line. For more information\n",
            "on full configurables, see '--help-all'.\n",
            "\n",
            "--script\n",
            "    DEPRECATED, IGNORED\n",
            "--pylab\n",
            "    DISABLED: use %pylab or %matplotlib in the notebook to enable matplotlib.\n",
            "--debug\n",
            "    set log level to logging.DEBUG (maximize logging output)\n",
            "--no-browser\n",
            "    Don't open the notebook in a browser after startup.\n",
            "--allow-root\n",
            "    Allow the notebook to be run from root user.\n",
            "-y\n",
            "    Answer yes to any questions instead of prompting.\n",
            "--no-mathjax\n",
            "    Disable MathJax\n",
            "    \n",
            "    MathJax is the javascript library Jupyter uses to render math/LaTeX. It is\n",
            "    very large, so you may want to disable it if you have a slow internet\n",
            "    connection, or for offline use of the notebook.\n",
            "    \n",
            "    When disabled, equations etc. will appear as their untransformed TeX source.\n",
            "--no-script\n",
            "    DEPRECATED, IGNORED\n",
            "--generate-config\n",
            "    generate default config file\n",
            "--certfile=<Unicode> (NotebookApp.certfile)\n",
            "    Default: u''\n",
            "    The full path to an SSL/TLS certificate file.\n",
            "--ip=<Unicode> (NotebookApp.ip)\n",
            "    Default: 'localhost'\n",
            "    The IP address the notebook server will listen on.\n",
            "--pylab=<Unicode> (NotebookApp.pylab)\n",
            "    Default: 'disabled'\n",
            "    DISABLED: use %pylab or %matplotlib in the notebook to enable matplotlib.\n",
            "--log-level=<Enum> (Application.log_level)\n",
            "    Default: 30\n",
            "    Choices: (0, 10, 20, 30, 40, 50, 'DEBUG', 'INFO', 'WARN', 'ERROR', 'CRITICAL')\n",
            "    Set the log level by value or name.\n",
            "--port-retries=<Integer> (NotebookApp.port_retries)\n",
            "    Default: 50\n",
            "    The number of additional ports to try if the specified port is not\n",
            "    available.\n",
            "--notebook-dir=<Unicode> (NotebookApp.notebook_dir)\n",
            "    Default: u''\n",
            "    The directory to use for notebooks and kernels.\n",
            "--keyfile=<Unicode> (NotebookApp.keyfile)\n",
            "    Default: u''\n",
            "    The full path to a private key file for usage with SSL/TLS.\n",
            "--client-ca=<Unicode> (NotebookApp.client_ca)\n",
            "    Default: u''\n",
            "    The full path to a certificate authority certificate for SSL/TLS client\n",
            "    authentication.\n",
            "--config=<Unicode> (JupyterApp.config_file)\n",
            "    Default: u''\n",
            "    Full path of a config file.\n",
            "--port=<Integer> (NotebookApp.port)\n",
            "    Default: 8888\n",
            "    The port the notebook server will listen on.\n",
            "--transport=<CaselessStrEnum> (KernelManager.transport)\n",
            "    Default: 'tcp'\n",
            "    Choices: [u'tcp', u'ipc']\n",
            "--browser=<Unicode> (NotebookApp.browser)\n",
            "    Default: u''\n",
            "    Specify what command to use to invoke a web browser when opening the\n",
            "    notebook. If not specified, the default browser will be determined by the\n",
            "    `webbrowser` standard library module, which allows setting of the BROWSER\n",
            "    environment variable to override it.\n",
            "\n",
            "To see all available configurables, use `--help-all`\n",
            "\n",
            "Examples\n",
            "--------\n",
            "\n",
            "    jupyter notebook                       # start the notebook\n",
            "    jupyter notebook --certfile=mycert.pem # use SSL/TLS certificate\n",
            "    jupyter notebook password              # enter a password to protect the server\n",
            "\n",
            "[C 05:53:27.448 NotebookApp] Bad config encountered during initialization:\n",
            "[C 05:53:27.448 NotebookApp] No such notebook dir: 'u'/Content/drive/MyDrive/Colab Notebooks''\n"
          ],
          "name": "stdout"
        }
      ]
    },
    {
      "cell_type": "code",
      "metadata": {
        "id": "tpAazrjtpMsT"
      },
      "source": [
        ""
      ],
      "execution_count": null,
      "outputs": []
    }
  ]
}