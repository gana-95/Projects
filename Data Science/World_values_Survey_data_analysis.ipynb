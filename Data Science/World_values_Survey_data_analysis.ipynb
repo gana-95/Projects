{
 "cells": [
  {
   "cell_type": "code",
   "execution_count": 83,
   "metadata": {},
   "outputs": [],
   "source": [
    "import pandas as pd\n",
    "import numpy as np\n",
    "import matplotlib.pyplot as plt\n",
    "import seaborn as sns\n",
    "\n",
    "import warnings\n",
    "warnings.filterwarnings(\"ignore\")\n",
    "\n",
    "sns.set()"
   ]
  },
  {
   "cell_type": "code",
   "execution_count": 2,
   "metadata": {},
   "outputs": [
    {
     "data": {
      "text/html": [
       "<div>\n",
       "<style scoped>\n",
       "    .dataframe tbody tr th:only-of-type {\n",
       "        vertical-align: middle;\n",
       "    }\n",
       "\n",
       "    .dataframe tbody tr th {\n",
       "        vertical-align: top;\n",
       "    }\n",
       "\n",
       "    .dataframe thead th {\n",
       "        text-align: right;\n",
       "    }\n",
       "</style>\n",
       "<table border=\"1\" class=\"dataframe\">\n",
       "  <thead>\n",
       "    <tr style=\"text-align: right;\">\n",
       "      <th></th>\n",
       "      <th>V2</th>\n",
       "      <th>V4</th>\n",
       "      <th>V5</th>\n",
       "      <th>V6</th>\n",
       "      <th>V7</th>\n",
       "      <th>V8</th>\n",
       "      <th>V9</th>\n",
       "      <th>V10</th>\n",
       "      <th>V11</th>\n",
       "      <th>V12</th>\n",
       "      <th>...</th>\n",
       "      <th>MN_228S8</th>\n",
       "      <th>MN_229A</th>\n",
       "      <th>MN_230A</th>\n",
       "      <th>MN_233A</th>\n",
       "      <th>MN_237B1</th>\n",
       "      <th>MN_249A1</th>\n",
       "      <th>MN_249A3</th>\n",
       "      <th>I_RELIGBEL</th>\n",
       "      <th>I_NORM1</th>\n",
       "      <th>I_VOICE1</th>\n",
       "    </tr>\n",
       "  </thead>\n",
       "  <tbody>\n",
       "    <tr>\n",
       "      <th>0</th>\n",
       "      <td>12</td>\n",
       "      <td>1</td>\n",
       "      <td>1</td>\n",
       "      <td>1</td>\n",
       "      <td>-2</td>\n",
       "      <td>1</td>\n",
       "      <td>1</td>\n",
       "      <td>2</td>\n",
       "      <td>1</td>\n",
       "      <td>1</td>\n",
       "      <td>...</td>\n",
       "      <td>3</td>\n",
       "      <td>-3</td>\n",
       "      <td>-3</td>\n",
       "      <td>-3</td>\n",
       "      <td>-3</td>\n",
       "      <td>1</td>\n",
       "      <td>1</td>\n",
       "      <td>0.0</td>\n",
       "      <td>1.0</td>\n",
       "      <td>0.00</td>\n",
       "    </tr>\n",
       "    <tr>\n",
       "      <th>1</th>\n",
       "      <td>12</td>\n",
       "      <td>1</td>\n",
       "      <td>2</td>\n",
       "      <td>3</td>\n",
       "      <td>4</td>\n",
       "      <td>2</td>\n",
       "      <td>2</td>\n",
       "      <td>2</td>\n",
       "      <td>2</td>\n",
       "      <td>2</td>\n",
       "      <td>...</td>\n",
       "      <td>3</td>\n",
       "      <td>-3</td>\n",
       "      <td>-3</td>\n",
       "      <td>-3</td>\n",
       "      <td>-3</td>\n",
       "      <td>2</td>\n",
       "      <td>-1</td>\n",
       "      <td>0.0</td>\n",
       "      <td>1.0</td>\n",
       "      <td>0.66</td>\n",
       "    </tr>\n",
       "    <tr>\n",
       "      <th>2</th>\n",
       "      <td>12</td>\n",
       "      <td>1</td>\n",
       "      <td>3</td>\n",
       "      <td>2</td>\n",
       "      <td>4</td>\n",
       "      <td>2</td>\n",
       "      <td>1</td>\n",
       "      <td>2</td>\n",
       "      <td>2</td>\n",
       "      <td>2</td>\n",
       "      <td>...</td>\n",
       "      <td>4</td>\n",
       "      <td>1</td>\n",
       "      <td>1</td>\n",
       "      <td>2</td>\n",
       "      <td>-3</td>\n",
       "      <td>1</td>\n",
       "      <td>1</td>\n",
       "      <td>0.0</td>\n",
       "      <td>1.0</td>\n",
       "      <td>0.33</td>\n",
       "    </tr>\n",
       "    <tr>\n",
       "      <th>3</th>\n",
       "      <td>12</td>\n",
       "      <td>1</td>\n",
       "      <td>1</td>\n",
       "      <td>3</td>\n",
       "      <td>4</td>\n",
       "      <td>3</td>\n",
       "      <td>1</td>\n",
       "      <td>2</td>\n",
       "      <td>1</td>\n",
       "      <td>2</td>\n",
       "      <td>...</td>\n",
       "      <td>2</td>\n",
       "      <td>2</td>\n",
       "      <td>1</td>\n",
       "      <td>2</td>\n",
       "      <td>-3</td>\n",
       "      <td>1</td>\n",
       "      <td>2</td>\n",
       "      <td>0.0</td>\n",
       "      <td>1.0</td>\n",
       "      <td>0.00</td>\n",
       "    </tr>\n",
       "    <tr>\n",
       "      <th>4</th>\n",
       "      <td>12</td>\n",
       "      <td>1</td>\n",
       "      <td>1</td>\n",
       "      <td>1</td>\n",
       "      <td>2</td>\n",
       "      <td>1</td>\n",
       "      <td>1</td>\n",
       "      <td>1</td>\n",
       "      <td>3</td>\n",
       "      <td>2</td>\n",
       "      <td>...</td>\n",
       "      <td>2</td>\n",
       "      <td>2</td>\n",
       "      <td>1</td>\n",
       "      <td>2</td>\n",
       "      <td>-3</td>\n",
       "      <td>1</td>\n",
       "      <td>2</td>\n",
       "      <td>0.0</td>\n",
       "      <td>1.0</td>\n",
       "      <td>0.66</td>\n",
       "    </tr>\n",
       "  </tbody>\n",
       "</table>\n",
       "<p>5 rows × 328 columns</p>\n",
       "</div>"
      ],
      "text/plain": [
       "   V2  V4  V5  V6  V7  V8  V9  V10  V11  V12  ...  MN_228S8  MN_229A  MN_230A  \\\n",
       "0  12   1   1   1  -2   1   1    2    1    1  ...         3       -3       -3   \n",
       "1  12   1   2   3   4   2   2    2    2    2  ...         3       -3       -3   \n",
       "2  12   1   3   2   4   2   1    2    2    2  ...         4        1        1   \n",
       "3  12   1   1   3   4   3   1    2    1    2  ...         2        2        1   \n",
       "4  12   1   1   1   2   1   1    1    3    2  ...         2        2        1   \n",
       "\n",
       "   MN_233A  MN_237B1  MN_249A1  MN_249A3  I_RELIGBEL  I_NORM1  I_VOICE1  \n",
       "0       -3        -3         1         1         0.0      1.0      0.00  \n",
       "1       -3        -3         2        -1         0.0      1.0      0.66  \n",
       "2        2        -3         1         1         0.0      1.0      0.33  \n",
       "3        2        -3         1         2         0.0      1.0      0.00  \n",
       "4        2        -3         1         2         0.0      1.0      0.66  \n",
       "\n",
       "[5 rows x 328 columns]"
      ]
     },
     "execution_count": 2,
     "metadata": {},
     "output_type": "execute_result"
    }
   ],
   "source": [
    "wvs = pd.read_csv('wvs.csv.bz2', sep = '\\t')\n",
    "wvs.head()"
   ]
  },
  {
   "cell_type": "markdown",
   "metadata": {},
   "source": [
    "## 1.1"
   ]
  },
  {
   "cell_type": "code",
   "execution_count": 3,
   "metadata": {},
   "outputs": [
    {
     "data": {
      "text/plain": [
       "(90350, 328)"
      ]
     },
     "execution_count": 3,
     "metadata": {},
     "output_type": "execute_result"
    }
   ],
   "source": [
    "wvs.shape"
   ]
  },
  {
   "cell_type": "markdown",
   "metadata": {},
   "source": [
    "The dataset has 328 variables and ~90k observations."
   ]
  },
  {
   "cell_type": "markdown",
   "metadata": {},
   "source": [
    "## 1.2"
   ]
  },
  {
   "cell_type": "code",
   "execution_count": 4,
   "metadata": {},
   "outputs": [
    {
     "data": {
      "text/plain": [
       "count    90350.000000\n",
       "mean         2.946386\n",
       "std          2.964040\n",
       "min         -5.000000\n",
       "25%          1.000000\n",
       "50%          2.000000\n",
       "75%          5.000000\n",
       "max         10.000000\n",
       "Name: V204, dtype: float64"
      ]
     },
     "execution_count": 4,
     "metadata": {},
     "output_type": "execute_result"
    }
   ],
   "source": [
    "wvs.V204.describe()"
   ]
  },
  {
   "cell_type": "code",
   "execution_count": 5,
   "metadata": {},
   "outputs": [
    {
     "data": {
      "text/plain": [
       "<matplotlib.axes._subplots.AxesSubplot at 0x18eebf28400>"
      ]
     },
     "execution_count": 5,
     "metadata": {},
     "output_type": "execute_result"
    },
    {
     "data": {
      "image/png": "[encoded data removed]",
      "text/plain": [
       "<Figure size 432x288 with 1 Axes>"
      ]
     },
     "metadata": {
      "needs_background": "light"
     },
     "output_type": "display_data"
    }
   ],
   "source": [
    "sns.distplot(wvs.V204, bins = 15, kde = True)"
   ]
  },
  {
   "cell_type": "code",
   "execution_count": 130,
   "metadata": {},
   "outputs": [
    {
     "name": "stdout",
     "output_type": "stream",
     "text": [
      "The abortion column has 85742 non-missing responses\n"
     ]
    }
   ],
   "source": [
    "print(\"The abortion column has\", wvs[wvs.V204 > 0].count().V204, \"non-missing responses\")"
   ]
  },
  {
   "cell_type": "markdown",
   "metadata": {},
   "source": [
    "## 1.3"
   ]
  },
  {
   "cell_type": "code",
   "execution_count": 42,
   "metadata": {},
   "outputs": [
    {
     "data": {
      "text/plain": [
       "(85742, 328)"
      ]
     },
     "execution_count": 42,
     "metadata": {},
     "output_type": "execute_result"
    }
   ],
   "source": [
    "wvs1 = wvs[wvs.V204 > 0].reset_index()# Removing the the obs that has negative values in V204\n",
    "wvs1 = wvs1.drop('index', axis = 1)\n",
    "wvs1.shape"
   ]
  },
  {
   "cell_type": "code",
   "execution_count": 43,
   "metadata": {},
   "outputs": [
    {
     "data": {
      "text/plain": [
       "(79267, 328)"
      ]
     },
     "execution_count": 43,
     "metadata": {},
     "output_type": "execute_result"
    }
   ],
   "source": [
    "wvs1 = wvs1.dropna() # dropping the observations that has missing values\n",
    "wvs1.shape"
   ]
  },
  {
   "cell_type": "markdown",
   "metadata": {},
   "source": [
    "## 1.4"
   ]
  },
  {
   "cell_type": "code",
   "execution_count": 44,
   "metadata": {},
   "outputs": [
    {
     "data": {
      "text/plain": [
       "(79267, 329)"
      ]
     },
     "execution_count": 44,
     "metadata": {},
     "output_type": "execute_result"
    }
   ],
   "source": [
    "# Creating the binary variable abortion\n",
    "wvs1['abortion'] = (wvs1.V204 > 3).astype(int)\n",
    "wvs1.shape"
   ]
  },
  {
   "cell_type": "markdown",
   "metadata": {},
   "source": [
    "## 1.5"
   ]
  },
  {
   "cell_type": "code",
   "execution_count": 33,
   "metadata": {},
   "outputs": [],
   "source": [
    "corr_matrix = wvs1.corr(method = 'pearson')"
   ]
  },
  {
   "cell_type": "code",
   "execution_count": 34,
   "metadata": {},
   "outputs": [
    {
     "data": {
      "text/plain": [
       "abortion    1.000000\n",
       "V204        0.881048\n",
       "V205        0.548653\n",
       "V203        0.485419\n",
       "V206        0.446394\n",
       "V207        0.418271\n",
       "V9          0.314117\n",
       "V203A       0.291576\n",
       "V146        0.272220\n",
       "V210        0.257035\n",
       "Name: abortion, dtype: float64"
      ]
     },
     "execution_count": 34,
     "metadata": {},
     "output_type": "execute_result"
    }
   ],
   "source": [
    "corr_matrix['abortion'].sort_values(ascending = False).head(10)"
   ]
  },
  {
   "cell_type": "code",
   "execution_count": 35,
   "metadata": {},
   "outputs": [
    {
     "data": {
      "text/plain": [
       "V217   -0.117946\n",
       "V106   -0.121063\n",
       "V107   -0.134199\n",
       "V222   -0.140166\n",
       "V132   -0.140972\n",
       "V138   -0.142894\n",
       "V255   -0.149844\n",
       "V223   -0.165924\n",
       "V252   -0.191483\n",
       "V152   -0.315280\n",
       "Name: abortion, dtype: float64"
      ]
     },
     "execution_count": 35,
     "metadata": {},
     "output_type": "execute_result"
    }
   ],
   "source": [
    "corr_matrix['abortion'].sort_values(ascending = False).tail(10)"
   ]
  },
  {
   "cell_type": "code",
   "execution_count": 45,
   "metadata": {},
   "outputs": [
    {
     "data": {
      "text/plain": [
       "(79267, 327)"
      ]
     },
     "execution_count": 45,
     "metadata": {},
     "output_type": "execute_result"
    }
   ],
   "source": [
    "# Dropping the highly correlated variables to exclude the bias\n",
    "# Considering the variables that has correlation > |0.5|\n",
    "wvs1 = wvs1.drop(['V204', 'V205'], axis = 1) #V204 - abortion, V205 - divorce\n",
    "wvs1.shape"
   ]
  },
  {
   "cell_type": "markdown",
   "metadata": {},
   "source": [
    "## 1.6"
   ]
  },
  {
   "cell_type": "code",
   "execution_count": 46,
   "metadata": {},
   "outputs": [],
   "source": [
    "wvs1 = wvs1.rename(columns = {'V2': 'country'})"
   ]
  },
  {
   "cell_type": "code",
   "execution_count": 47,
   "metadata": {},
   "outputs": [],
   "source": [
    "wvs1 = pd.get_dummies(wvs1, columns = ['country']) # Creating the dummy variables for the countries"
   ]
  },
  {
   "cell_type": "code",
   "execution_count": 48,
   "metadata": {},
   "outputs": [
    {
     "data": {
      "text/html": [
       "<div>\n",
       "<style scoped>\n",
       "    .dataframe tbody tr th:only-of-type {\n",
       "        vertical-align: middle;\n",
       "    }\n",
       "\n",
       "    .dataframe tbody tr th {\n",
       "        vertical-align: top;\n",
       "    }\n",
       "\n",
       "    .dataframe thead th {\n",
       "        text-align: right;\n",
       "    }\n",
       "</style>\n",
       "<table border=\"1\" class=\"dataframe\">\n",
       "  <thead>\n",
       "    <tr style=\"text-align: right;\">\n",
       "      <th></th>\n",
       "      <th>V4</th>\n",
       "      <th>V5</th>\n",
       "      <th>V6</th>\n",
       "      <th>V7</th>\n",
       "      <th>V8</th>\n",
       "      <th>V9</th>\n",
       "      <th>V10</th>\n",
       "      <th>V11</th>\n",
       "      <th>V12</th>\n",
       "      <th>V13</th>\n",
       "      <th>...</th>\n",
       "      <th>country_752</th>\n",
       "      <th>country_764</th>\n",
       "      <th>country_780</th>\n",
       "      <th>country_788</th>\n",
       "      <th>country_792</th>\n",
       "      <th>country_804</th>\n",
       "      <th>country_840</th>\n",
       "      <th>country_858</th>\n",
       "      <th>country_860</th>\n",
       "      <th>country_887</th>\n",
       "    </tr>\n",
       "  </thead>\n",
       "  <tbody>\n",
       "    <tr>\n",
       "      <th>0</th>\n",
       "      <td>1</td>\n",
       "      <td>1</td>\n",
       "      <td>1</td>\n",
       "      <td>-2</td>\n",
       "      <td>1</td>\n",
       "      <td>1</td>\n",
       "      <td>2</td>\n",
       "      <td>1</td>\n",
       "      <td>1</td>\n",
       "      <td>1</td>\n",
       "      <td>...</td>\n",
       "      <td>0</td>\n",
       "      <td>0</td>\n",
       "      <td>0</td>\n",
       "      <td>0</td>\n",
       "      <td>0</td>\n",
       "      <td>0</td>\n",
       "      <td>0</td>\n",
       "      <td>0</td>\n",
       "      <td>0</td>\n",
       "      <td>0</td>\n",
       "    </tr>\n",
       "    <tr>\n",
       "      <th>1</th>\n",
       "      <td>1</td>\n",
       "      <td>2</td>\n",
       "      <td>3</td>\n",
       "      <td>4</td>\n",
       "      <td>2</td>\n",
       "      <td>2</td>\n",
       "      <td>2</td>\n",
       "      <td>2</td>\n",
       "      <td>2</td>\n",
       "      <td>1</td>\n",
       "      <td>...</td>\n",
       "      <td>0</td>\n",
       "      <td>0</td>\n",
       "      <td>0</td>\n",
       "      <td>0</td>\n",
       "      <td>0</td>\n",
       "      <td>0</td>\n",
       "      <td>0</td>\n",
       "      <td>0</td>\n",
       "      <td>0</td>\n",
       "      <td>0</td>\n",
       "    </tr>\n",
       "    <tr>\n",
       "      <th>2</th>\n",
       "      <td>1</td>\n",
       "      <td>3</td>\n",
       "      <td>2</td>\n",
       "      <td>4</td>\n",
       "      <td>2</td>\n",
       "      <td>1</td>\n",
       "      <td>2</td>\n",
       "      <td>2</td>\n",
       "      <td>2</td>\n",
       "      <td>2</td>\n",
       "      <td>...</td>\n",
       "      <td>0</td>\n",
       "      <td>0</td>\n",
       "      <td>0</td>\n",
       "      <td>0</td>\n",
       "      <td>0</td>\n",
       "      <td>0</td>\n",
       "      <td>0</td>\n",
       "      <td>0</td>\n",
       "      <td>0</td>\n",
       "      <td>0</td>\n",
       "    </tr>\n",
       "    <tr>\n",
       "      <th>3</th>\n",
       "      <td>1</td>\n",
       "      <td>1</td>\n",
       "      <td>3</td>\n",
       "      <td>4</td>\n",
       "      <td>3</td>\n",
       "      <td>1</td>\n",
       "      <td>2</td>\n",
       "      <td>1</td>\n",
       "      <td>2</td>\n",
       "      <td>2</td>\n",
       "      <td>...</td>\n",
       "      <td>0</td>\n",
       "      <td>0</td>\n",
       "      <td>0</td>\n",
       "      <td>0</td>\n",
       "      <td>0</td>\n",
       "      <td>0</td>\n",
       "      <td>0</td>\n",
       "      <td>0</td>\n",
       "      <td>0</td>\n",
       "      <td>0</td>\n",
       "    </tr>\n",
       "    <tr>\n",
       "      <th>4</th>\n",
       "      <td>1</td>\n",
       "      <td>1</td>\n",
       "      <td>1</td>\n",
       "      <td>2</td>\n",
       "      <td>1</td>\n",
       "      <td>1</td>\n",
       "      <td>1</td>\n",
       "      <td>3</td>\n",
       "      <td>2</td>\n",
       "      <td>1</td>\n",
       "      <td>...</td>\n",
       "      <td>0</td>\n",
       "      <td>0</td>\n",
       "      <td>0</td>\n",
       "      <td>0</td>\n",
       "      <td>0</td>\n",
       "      <td>0</td>\n",
       "      <td>0</td>\n",
       "      <td>0</td>\n",
       "      <td>0</td>\n",
       "      <td>0</td>\n",
       "    </tr>\n",
       "  </tbody>\n",
       "</table>\n",
       "<p>5 rows × 384 columns</p>\n",
       "</div>"
      ],
      "text/plain": [
       "   V4  V5  V6  V7  V8  V9  V10  V11  V12  V13  ...  country_752  country_764  \\\n",
       "0   1   1   1  -2   1   1    2    1    1    1  ...            0            0   \n",
       "1   1   2   3   4   2   2    2    2    2    1  ...            0            0   \n",
       "2   1   3   2   4   2   1    2    2    2    2  ...            0            0   \n",
       "3   1   1   3   4   3   1    2    1    2    2  ...            0            0   \n",
       "4   1   1   1   2   1   1    1    3    2    1  ...            0            0   \n",
       "\n",
       "   country_780  country_788  country_792  country_804  country_840  \\\n",
       "0            0            0            0            0            0   \n",
       "1            0            0            0            0            0   \n",
       "2            0            0            0            0            0   \n",
       "3            0            0            0            0            0   \n",
       "4            0            0            0            0            0   \n",
       "\n",
       "   country_858  country_860  country_887  \n",
       "0            0            0            0  \n",
       "1            0            0            0  \n",
       "2            0            0            0  \n",
       "3            0            0            0  \n",
       "4            0            0            0  \n",
       "\n",
       "[5 rows x 384 columns]"
      ]
     },
     "execution_count": 48,
     "metadata": {},
     "output_type": "execute_result"
    }
   ],
   "source": [
    "wvs1.head()"
   ]
  },
  {
   "cell_type": "code",
   "execution_count": 49,
   "metadata": {},
   "outputs": [
    {
     "data": {
      "text/plain": [
       "(79267, 383)"
      ]
     },
     "execution_count": 49,
     "metadata": {},
     "output_type": "execute_result"
    }
   ],
   "source": [
    "wvs1 = wvs1.drop('country_887', axis = 1)\n",
    "wvs1.shape"
   ]
  },
  {
   "cell_type": "markdown",
   "metadata": {},
   "source": [
    "## 2. Implement k-Cross Fold validation"
   ]
  },
  {
   "cell_type": "code",
   "execution_count": 136,
   "metadata": {},
   "outputs": [],
   "source": [
    "def kfold_cross_val(k, clf, X, y):\n",
    "    # Shuffle Indices\n",
    "    np.random.seed(42)\n",
    "    shuffled_indices = np.random.permutation(len(X))\n",
    "    X = X[shuffled_indices]\n",
    "    y = y[shuffled_indices]\n",
    "    \n",
    "    # Splitting predictors and predictands into k folds\n",
    "    X_split = np.array_split(X, k)\n",
    "    y_split = np.array_split(y, k)\n",
    "    \n",
    "    # Intializing the classification scores\n",
    "    f1_score_sum = 0\n",
    "    accuracy_sum = 0\n",
    "    precision_sum = 0\n",
    "    recall_sum = 0\n",
    "    \n",
    "    for i in range(k):\n",
    "        X_train = X_split.copy() # Creating a copy of the predictors\n",
    "        X_valid = X_split[i]     # Validation predictors\n",
    "        y_train = y_split.copy() # Copy of the target\n",
    "        y_valid = y_split[i]     # Validation target\n",
    "        del X_train[i]           # Deleting the validation predictors from the training\n",
    "        del y_train[i]           # Deleting the validation target from the training\n",
    "        \n",
    "        # Concatenate the folds into single array\n",
    "        X_train = np.concatenate(X_train)\n",
    "        y_train = np.concatenate(y_train)\n",
    "        \n",
    "        # Performing the model and getting classification scores after each iteration\n",
    "        f1, acc, prec, rec = perform(i, clf, X_train, y_train, X_valid, y_valid)\n",
    "        \n",
    "        # Summing the classification scores after each iteration\n",
    "        f1_score_sum = f1_score_sum + f1\n",
    "        accuracy_sum = accuracy_sum + acc\n",
    "        precision_sum = precision_sum + prec\n",
    "        recall_sum = recall_sum + rec\n",
    "    \n",
    "    print(\"Average f1-score:\", round((f1_score_sum/k), 2))\n",
    "    print(\"Average accuracy:\", round((accuracy_sum/k), 2))\n",
    "    print(\"Average precision:\", round((precision_sum/k), 2))\n",
    "    print(\"Average recall:\", round((recall_sum/k), 2))"
   ]
  },
  {
   "cell_type": "code",
   "execution_count": 137,
   "metadata": {},
   "outputs": [],
   "source": [
    "def perform(a, clf, X_train, y_train, X_valid, y_valid):\n",
    "    from sklearn import metrics # importing the metrics library to calculate classification scores\n",
    "    clf.fit(X_train, y_train) # Fitting the model with the training data\n",
    "    y_pred = clf.predict(X_valid) # Predicting the target with validation data\n",
    "    \n",
    "    # Calculating the scores\n",
    "    f1_score = metrics.f1_score(y_valid, y_pred)\n",
    "    accuracy = metrics.accuracy_score(y_valid, y_pred)\n",
    "    precision = metrics.precision_score(y_valid, y_pred)\n",
    "    recall = metrics.recall_score(y_valid, y_pred)\n",
    "    \n",
    "    print(str(a + 1), \". F1-score:\", round(f1_score, 2), \"\\tAccuracy:\", round(accuracy, 2))\n",
    "    print(\"\\tPrecision:\", round(precision, 2), \"\\tRecall:\", round(recall, 2))\n",
    "    return f1_score, accuracy, precision, recall"
   ]
  },
  {
   "cell_type": "markdown",
   "metadata": {},
   "source": [
    "## 3.1 knn"
   ]
  },
  {
   "cell_type": "code",
   "execution_count": 138,
   "metadata": {},
   "outputs": [
    {
     "name": "stdout",
     "output_type": "stream",
     "text": [
      "1 . F1-score: 0.69 \tAccuracy: 0.78\n",
      "\tPrecision: 0.71 \tRecall: 0.66\n",
      "2 . F1-score: 0.67 \tAccuracy: 0.77\n",
      "\tPrecision: 0.73 \tRecall: 0.62\n",
      "3 . F1-score: 0.68 \tAccuracy: 0.78\n",
      "\tPrecision: 0.75 \tRecall: 0.61\n",
      "4 . F1-score: 0.65 \tAccuracy: 0.76\n",
      "\tPrecision: 0.69 \tRecall: 0.61\n",
      "5 . F1-score: 0.66 \tAccuracy: 0.77\n",
      "\tPrecision: 0.72 \tRecall: 0.61\n",
      "Average f1-score: 0.67\n",
      "Average accuracy: 0.77\n",
      "Average precision: 0.72\n",
      "Average recall: 0.62\n"
     ]
    }
   ],
   "source": [
    "# Extracting random samples of 10k observations from the data \n",
    "wvs_work = wvs1.sample(n = 10000, random_state = 42).reset_index()\n",
    "wvs_work = wvs_work.drop('index', axis = 1)\n",
    "\n",
    "X = wvs_work.drop('abortion', axis = 1).to_numpy() # Predictors\n",
    "y = wvs_work['abortion'] # Target\n",
    "\n",
    "from sklearn.neighbors import KNeighborsClassifier\n",
    "knn = KNeighborsClassifier(n_neighbors=5)\n",
    "\n",
    "# 5-fold CV with 5 neighbors\n",
    "kfold_cross_val(5, knn, X, y)"
   ]
  },
  {
   "cell_type": "code",
   "execution_count": 142,
   "metadata": {},
   "outputs": [
    {
     "name": "stdout",
     "output_type": "stream",
     "text": [
      "1 . F1-score: 0.69 \tAccuracy: 0.78\n",
      "\tPrecision: 0.73 \tRecall: 0.65\n",
      "2 . F1-score: 0.67 \tAccuracy: 0.78\n",
      "\tPrecision: 0.74 \tRecall: 0.61\n",
      "3 . F1-score: 0.68 \tAccuracy: 0.78\n",
      "\tPrecision: 0.77 \tRecall: 0.61\n",
      "4 . F1-score: 0.65 \tAccuracy: 0.77\n",
      "\tPrecision: 0.71 \tRecall: 0.6\n",
      "5 . F1-score: 0.68 \tAccuracy: 0.78\n",
      "\tPrecision: 0.75 \tRecall: 0.61\n",
      "Average f1-score: 0.67\n",
      "Average accuracy: 0.78\n",
      "Average precision: 0.74\n",
      "Average recall: 0.62\n"
     ]
    }
   ],
   "source": [
    "# 5-fold CV with 9 neighbors\n",
    "knn = KNeighborsClassifier(n_neighbors = 9)\n",
    "kfold_cross_val(5, knn, X, y)"
   ]
  },
  {
   "cell_type": "markdown",
   "metadata": {},
   "source": [
    "In the k-Nearest Neighbors algorithm with 5 neighbors, the average f1-score is 0.67, the accuracy is 0.77, precision is 0.72 and recall is 0.63. From the classification scores, what we can see is that the model is able to predict correctly whether someone is supporting the abortion or not 77% of the time. With the precision score we can see that the model predicts correctly whether someone is supporting the abortion 72% of the time and wrongly predicted it 28% of the time. Similarly for the recall the model predicts the people who support abortion 63% of the time.\n",
    "\n",
    "With 9 neighbors, we could see there is a slight increase in the accuracy and precision but the model doesn't deviate much from the result of 5 negihbors classification."
   ]
  },
  {
   "cell_type": "markdown",
   "metadata": {},
   "source": [
    "## 3.2 Logistic Regression"
   ]
  },
  {
   "cell_type": "code",
   "execution_count": 140,
   "metadata": {},
   "outputs": [
    {
     "name": "stdout",
     "output_type": "stream",
     "text": [
      "1 . F1-score: 0.76 \tAccuracy: 0.83\n",
      "\tPrecision: 0.78 \tRecall: 0.74\n",
      "2 . F1-score: 0.75 \tAccuracy: 0.82\n",
      "\tPrecision: 0.77 \tRecall: 0.72\n",
      "3 . F1-score: 0.75 \tAccuracy: 0.82\n",
      "\tPrecision: 0.79 \tRecall: 0.71\n",
      "4 . F1-score: 0.73 \tAccuracy: 0.82\n",
      "\tPrecision: 0.8 \tRecall: 0.68\n",
      "5 . F1-score: 0.77 \tAccuracy: 0.82\n",
      "\tPrecision: 0.8 \tRecall: 0.74\n",
      "6 . F1-score: 0.78 \tAccuracy: 0.85\n",
      "\tPrecision: 0.81 \tRecall: 0.76\n",
      "7 . F1-score: 0.73 \tAccuracy: 0.81\n",
      "\tPrecision: 0.77 \tRecall: 0.69\n",
      "8 . F1-score: 0.74 \tAccuracy: 0.83\n",
      "\tPrecision: 0.79 \tRecall: 0.69\n",
      "9 . F1-score: 0.72 \tAccuracy: 0.81\n",
      "\tPrecision: 0.77 \tRecall: 0.68\n",
      "10 . F1-score: 0.76 \tAccuracy: 0.83\n",
      "\tPrecision: 0.79 \tRecall: 0.72\n",
      "Average f1-score: 0.75\n",
      "Average accuracy: 0.82\n",
      "Average precision: 0.79\n",
      "Average recall: 0.71\n"
     ]
    }
   ],
   "source": [
    "from sklearn.linear_model import LogisticRegression\n",
    "\n",
    "logReg = LogisticRegression()\n",
    "\n",
    "kfold_cross_val(10, logReg, X, y)"
   ]
  },
  {
   "cell_type": "markdown",
   "metadata": {},
   "source": [
    "We could see that the logistic regression model performs better than the knn model in terms of the classification scores."
   ]
  },
  {
   "cell_type": "markdown",
   "metadata": {},
   "source": [
    "## 3.3 SVM"
   ]
  },
  {
   "cell_type": "code",
   "execution_count": 103,
   "metadata": {},
   "outputs": [],
   "source": [
    "from sklearn.svm import SVC\n",
    "wvs_work1 = wvs1.sample(n = 1000, random_state = 42).reset_index()\n",
    "wvs_work1 = wvs_work1.drop('index', axis = 1)\n",
    "\n",
    "X1 = wvs_work1.drop('abortion', axis = 1).to_numpy()\n",
    "y1 = wvs_work1['abortion']"
   ]
  },
  {
   "cell_type": "code",
   "execution_count": 144,
   "metadata": {},
   "outputs": [
    {
     "data": {
      "text/plain": [
       "abortion\n",
       "0    0.638\n",
       "1    0.362\n",
       "dtype: float64"
      ]
     },
     "execution_count": 144,
     "metadata": {},
     "output_type": "execute_result"
    }
   ],
   "source": [
    "wvs_work1.groupby('abortion').size().div(len(wvs_work1))"
   ]
  },
  {
   "cell_type": "code",
   "execution_count": 105,
   "metadata": {},
   "outputs": [
    {
     "name": "stdout",
     "output_type": "stream",
     "text": [
      "1 . F1-score: 0.6 \tAccuracy: 0.75\n",
      "\tPrecision: 0.58 \tRecall: 0.63\n",
      "2 . F1-score: 0.57 \tAccuracy: 0.67\n",
      "\tPrecision: 0.56 \tRecall: 0.58\n",
      "3 . F1-score: 0.63 \tAccuracy: 0.75\n",
      "\tPrecision: 0.62 \tRecall: 0.64\n",
      "4 . F1-score: 0.62 \tAccuracy: 0.72\n",
      "\tPrecision: 0.64 \tRecall: 0.61\n",
      "5 . F1-score: 0.61 \tAccuracy: 0.7\n",
      "\tPrecision: 0.62 \tRecall: 0.59\n",
      "6 . F1-score: 0.71 \tAccuracy: 0.77\n",
      "\tPrecision: 0.7 \tRecall: 0.72\n",
      "7 . F1-score: 0.72 \tAccuracy: 0.78\n",
      "\tPrecision: 0.74 \tRecall: 0.7\n",
      "8 . F1-score: 0.63 \tAccuracy: 0.72\n",
      "\tPrecision: 0.62 \tRecall: 0.65\n",
      "9 . F1-score: 0.69 \tAccuracy: 0.77\n",
      "\tPrecision: 0.59 \tRecall: 0.84\n",
      "10 . F1-score: 0.68 \tAccuracy: 0.76\n",
      "\tPrecision: 0.68 \tRecall: 0.68\n",
      "Average f1-score: 0.65\n",
      "Average accuracy: 0.74\n",
      "Average precision: 0.63\n",
      "Average recall: 0.66\n"
     ]
    }
   ],
   "source": [
    "svc = SVC(kernel = 'linear')\n",
    "\n",
    "kfold_cross_val(10, svc, X1, y1)"
   ]
  },
  {
   "cell_type": "code",
   "execution_count": 120,
   "metadata": {},
   "outputs": [
    {
     "name": "stdout",
     "output_type": "stream",
     "text": [
      "1 . F1-score: 0.69 \tAccuracy: 0.83\n",
      "\tPrecision: 0.76 \tRecall: 0.63\n",
      "2 . F1-score: 0.62 \tAccuracy: 0.74\n",
      "\tPrecision: 0.7 \tRecall: 0.55\n",
      "3 . F1-score: 0.58 \tAccuracy: 0.75\n",
      "\tPrecision: 0.65 \tRecall: 0.52\n",
      "4 . F1-score: 0.72 \tAccuracy: 0.81\n",
      "\tPrecision: 0.83 \tRecall: 0.63\n",
      "5 . F1-score: 0.71 \tAccuracy: 0.8\n",
      "\tPrecision: 0.83 \tRecall: 0.62\n",
      "6 . F1-score: 0.79 \tAccuracy: 0.85\n",
      "\tPrecision: 0.85 \tRecall: 0.74\n",
      "7 . F1-score: 0.78 \tAccuracy: 0.83\n",
      "\tPrecision: 0.79 \tRecall: 0.78\n",
      "8 . F1-score: 0.7 \tAccuracy: 0.79\n",
      "\tPrecision: 0.75 \tRecall: 0.65\n",
      "9 . F1-score: 0.73 \tAccuracy: 0.84\n",
      "\tPrecision: 0.76 \tRecall: 0.71\n",
      "10 . F1-score: 0.71 \tAccuracy: 0.8\n",
      "\tPrecision: 0.76 \tRecall: 0.68\n",
      "Average f1-score: 0.7\n",
      "Average accuracy: 0.8\n",
      "Average precision: 0.77\n",
      "Average recall: 0.65\n"
     ]
    }
   ],
   "source": [
    "svc = SVC(kernel = 'rbf', gamma = 0.001, C = 100)\n",
    "kfold_cross_val(10, svc, X1, y1)"
   ]
  },
  {
   "cell_type": "code",
   "execution_count": 123,
   "metadata": {},
   "outputs": [
    {
     "name": "stdout",
     "output_type": "stream",
     "text": [
      "1 . F1-score: 0.73 \tAccuracy: 0.85\n",
      "\tPrecision: 0.8 \tRecall: 0.67\n",
      "2 . F1-score: 0.62 \tAccuracy: 0.76\n",
      "\tPrecision: 0.77 \tRecall: 0.53\n",
      "3 . F1-score: 0.69 \tAccuracy: 0.82\n",
      "\tPrecision: 0.8 \tRecall: 0.61\n",
      "4 . F1-score: 0.72 \tAccuracy: 0.82\n",
      "\tPrecision: 0.88 \tRecall: 0.61\n",
      "5 . F1-score: 0.67 \tAccuracy: 0.78\n",
      "\tPrecision: 0.81 \tRecall: 0.56\n",
      "6 . F1-score: 0.7 \tAccuracy: 0.81\n",
      "\tPrecision: 0.92 \tRecall: 0.56\n",
      "7 . F1-score: 0.79 \tAccuracy: 0.85\n",
      "\tPrecision: 0.9 \tRecall: 0.7\n",
      "8 . F1-score: 0.7 \tAccuracy: 0.81\n",
      "\tPrecision: 0.85 \tRecall: 0.59\n",
      "9 . F1-score: 0.68 \tAccuracy: 0.83\n",
      "\tPrecision: 0.82 \tRecall: 0.58\n",
      "10 . F1-score: 0.63 \tAccuracy: 0.77\n",
      "\tPrecision: 0.77 \tRecall: 0.54\n",
      "Average f1-score: 0.69\n",
      "Average accuracy: 0.81\n",
      "Average precision: 0.83\n",
      "Average recall: 0.59\n"
     ]
    }
   ],
   "source": [
    "svc = SVC(kernel = 'rbf', gamma = 0.0001)\n",
    "kfold_cross_val(10, svc, X1, y1)"
   ]
  },
  {
   "cell_type": "code",
   "execution_count": 118,
   "metadata": {},
   "outputs": [
    {
     "name": "stdout",
     "output_type": "stream",
     "text": [
      "1 . F1-score: 0.69 \tAccuracy: 0.84\n",
      "\tPrecision: 0.82 \tRecall: 0.6\n",
      "2 . F1-score: 0.55 \tAccuracy: 0.74\n",
      "\tPrecision: 0.8 \tRecall: 0.42\n",
      "3 . F1-score: 0.63 \tAccuracy: 0.81\n",
      "\tPrecision: 0.89 \tRecall: 0.48\n",
      "4 . F1-score: 0.66 \tAccuracy: 0.8\n",
      "\tPrecision: 0.95 \tRecall: 0.5\n",
      "5 . F1-score: 0.65 \tAccuracy: 0.78\n",
      "\tPrecision: 0.87 \tRecall: 0.51\n",
      "6 . F1-score: 0.5 \tAccuracy: 0.72\n",
      "\tPrecision: 0.82 \tRecall: 0.36\n",
      "7 . F1-score: 0.74 \tAccuracy: 0.83\n",
      "\tPrecision: 0.96 \tRecall: 0.6\n",
      "8 . F1-score: 0.66 \tAccuracy: 0.8\n",
      "\tPrecision: 0.9 \tRecall: 0.51\n",
      "9 . F1-score: 0.61 \tAccuracy: 0.81\n",
      "\tPrecision: 0.83 \tRecall: 0.48\n",
      "10 . F1-score: 0.58 \tAccuracy: 0.75\n",
      "\tPrecision: 0.77 \tRecall: 0.46\n",
      "Average f1-score: 0.63\n",
      "Average accuracy: 0.79\n",
      "Average precision: 0.86\n",
      "Average recall: 0.49\n"
     ]
    }
   ],
   "source": [
    "svc = SVC(kernel = 'sigmoid', gamma = 0.0001)\n",
    "kfold_cross_val(10, svc, X1, y1)"
   ]
  },
  {
   "cell_type": "markdown",
   "metadata": {},
   "source": [
    "The SVM sigmoid and rbf kernel models have a very good precision score but a poor recall score mainly because of the class imbalance in the dataset. There is almost 64% of people saying no to abortion and 36% saying yes. Since we have a very less positives in the sample, the models are able to predict very less false positives. But among the actual positives, why I think the models are not able to perform well is because the sample has large samples for negatives and there are high chances that the models predict the positives as negatives than the other way around. Thus, the difference between the precision and recall is mainly due to the class imbalance and we could see that in the other models too but it is too evident in the SVM models. "
   ]
  },
  {
   "cell_type": "markdown",
   "metadata": {},
   "source": [
    "## 3.4"
   ]
  },
  {
   "cell_type": "markdown",
   "metadata": {},
   "source": [
    "Among the three models, I would pick the Logistic Regression model over the knn and SVM models. Logistic Regression model perform really well in terms of all the classification scores and has comparatively less difference with the precision and recall and I think the Logistic Regression model will be faster than the SVM models and it performs better and provides better results than the KNN model. So, my pick would be Logistic Regression model for this data analysis and prediction."
   ]
  },
  {
   "cell_type": "markdown",
   "metadata": {},
   "source": [
    "## 4."
   ]
  },
  {
   "cell_type": "code",
   "execution_count": 153,
   "metadata": {},
   "outputs": [
    {
     "name": "stdout",
     "output_type": "stream",
     "text": [
      "1 . F1-score: 0.75 \tAccuracy: 0.83\n",
      "\tPrecision: 0.8 \tRecall: 0.71\n",
      "2 . F1-score: 0.74 \tAccuracy: 0.82\n",
      "\tPrecision: 0.79 \tRecall: 0.7\n",
      "3 . F1-score: 0.74 \tAccuracy: 0.82\n",
      "\tPrecision: 0.79 \tRecall: 0.7\n",
      "4 . F1-score: 0.75 \tAccuracy: 0.83\n",
      "\tPrecision: 0.8 \tRecall: 0.71\n",
      "5 . F1-score: 0.75 \tAccuracy: 0.83\n",
      "\tPrecision: 0.79 \tRecall: 0.71\n",
      "Average f1-score: 0.75\n",
      "Average accuracy: 0.83\n",
      "Average precision: 0.79\n",
      "Average recall: 0.71\n"
     ]
    }
   ],
   "source": [
    "# With countries included\n",
    "wvs2 = wvs1.sample(n = 79000, random_state = 42).reset_index()\n",
    "wvs2 = wvs2.drop('index', axis = 1)\n",
    "\n",
    "X_final = wvs2.drop('abortion', axis = 1).to_numpy()\n",
    "y_final = wvs2['abortion']\n",
    "\n",
    "kfold_cross_val(5, logReg, X_final, y_final)"
   ]
  },
  {
   "cell_type": "markdown",
   "metadata": {},
   "source": [
    "The Logistic Regression model predicts whether someone supports the abortion or not 83% of the time correctly and the classification scores are similar to the previous logistic regression model that we did with a sample dataset. "
   ]
  },
  {
   "cell_type": "code",
   "execution_count": 158,
   "metadata": {},
   "outputs": [
    {
     "name": "stdout",
     "output_type": "stream",
     "text": [
      "1 . F1-score: 0.75 \tAccuracy: 0.83\n",
      "\tPrecision: 0.8 \tRecall: 0.7\n",
      "2 . F1-score: 0.74 \tAccuracy: 0.82\n",
      "\tPrecision: 0.79 \tRecall: 0.69\n",
      "3 . F1-score: 0.74 \tAccuracy: 0.82\n",
      "\tPrecision: 0.79 \tRecall: 0.69\n",
      "4 . F1-score: 0.75 \tAccuracy: 0.82\n",
      "\tPrecision: 0.79 \tRecall: 0.7\n",
      "5 . F1-score: 0.75 \tAccuracy: 0.83\n",
      "\tPrecision: 0.79 \tRecall: 0.71\n",
      "Average f1-score: 0.74\n",
      "Average accuracy: 0.82\n",
      "Average precision: 0.79\n",
      "Average recall: 0.7\n"
     ]
    }
   ],
   "source": [
    "# Countries are excluded from the dataframe\n",
    "wvs2_no_country = wvs2.drop(list(wvs2.filter(regex = 'country')), axis = 1)\n",
    "\n",
    "X_final1 = wvs2_no_country.drop('abortion', axis = 1).to_numpy()\n",
    "y_final1 = wvs2_no_country['abortion']\n",
    "kfold_cross_val(5, logReg, X_final1, y_final1)"
   ]
  },
  {
   "cell_type": "markdown",
   "metadata": {},
   "source": [
    "It doesn't actually pose much difference between the regression models with and without the countries. Both the models still have the same accuracy and other classification scores.\n",
    "\n",
    "In this dataset, it shows that the nationality of people don't matter much in their opinion and the people's opinions are similar across the borders. So, in this dataset I believe that the country plays a very minimal role in rightly predicting whether a person supports abortion or not."
   ]
  },
  {
   "cell_type": "code",
   "execution_count": null,
   "metadata": {},
   "outputs": [],
   "source": [
    " "
   ]
  }
 ],
 "metadata": {
  "kernelspec": {
   "display_name": "Python 3",
   "language": "python",
   "name": "python3"
  },
  "language_info": {
   "codemirror_mode": {
    "name": "ipython",
    "version": 3
   },
   "file_extension": ".py",
   "mimetype": "text/x-python",
   "name": "python",
   "nbconvert_exporter": "python",
   "pygments_lexer": "ipython3",
   "version": "3.7.3"
  }
 },
 "nbformat": 4,
 "nbformat_minor": 2
}
