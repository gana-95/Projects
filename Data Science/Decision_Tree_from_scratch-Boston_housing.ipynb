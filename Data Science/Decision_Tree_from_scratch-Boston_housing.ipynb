{
 "cells": [
  {
   "cell_type": "markdown",
   "metadata": {},
   "source": [
    "# Part 1\n",
    "\n",
    "The below calculations of Entropy and Gini Impurity will work only for the binary classification features. Modifications can be made to work for multi class features or continuous variables depending on the requirements."
   ]
  },
  {
   "cell_type": "code",
   "execution_count": 1,
   "metadata": {},
   "outputs": [],
   "source": [
    "import numpy as np\n",
    "import pandas as pd\n",
    "import matplotlib.pyplot as plt\n",
    "import seaborn as sns\n",
    "\n",
    "from sklearn import datasets\n",
    "from sklearn.tree import DecisionTreeClassifier\n",
    "from sklearn.metrics import confusion_matrix, accuracy_score, precision_score, recall_score\n",
    "from sklearn.tree.export import export_text\n",
    "\n",
    "from sklearn.ensemble import RandomForestClassifier, BaggingClassifier"
   ]
  },
  {
   "cell_type": "code",
   "execution_count": 2,
   "metadata": {},
   "outputs": [
    {
     "data": {
      "text/html": [
       "<div>\n",
       "<style scoped>\n",
       "    .dataframe tbody tr th:only-of-type {\n",
       "        vertical-align: middle;\n",
       "    }\n",
       "\n",
       "    .dataframe tbody tr th {\n",
       "        vertical-align: top;\n",
       "    }\n",
       "\n",
       "    .dataframe thead th {\n",
       "        text-align: right;\n",
       "    }\n",
       "</style>\n",
       "<table border=\"1\" class=\"dataframe\">\n",
       "  <thead>\n",
       "    <tr style=\"text-align: right;\">\n",
       "      <th></th>\n",
       "      <th>Variable A</th>\n",
       "      <th>Variable B</th>\n",
       "      <th>Variable C</th>\n",
       "      <th>Output</th>\n",
       "    </tr>\n",
       "  </thead>\n",
       "  <tbody>\n",
       "    <tr>\n",
       "      <th>0</th>\n",
       "      <td>Yes</td>\n",
       "      <td>On</td>\n",
       "      <td>High</td>\n",
       "      <td>Red</td>\n",
       "    </tr>\n",
       "    <tr>\n",
       "      <th>1</th>\n",
       "      <td>No</td>\n",
       "      <td>Off</td>\n",
       "      <td>Low</td>\n",
       "      <td>Blue</td>\n",
       "    </tr>\n",
       "    <tr>\n",
       "      <th>2</th>\n",
       "      <td>Yes</td>\n",
       "      <td>On</td>\n",
       "      <td>High</td>\n",
       "      <td>Red</td>\n",
       "    </tr>\n",
       "    <tr>\n",
       "      <th>3</th>\n",
       "      <td>Yes</td>\n",
       "      <td>Off</td>\n",
       "      <td>High</td>\n",
       "      <td>Red</td>\n",
       "    </tr>\n",
       "    <tr>\n",
       "      <th>4</th>\n",
       "      <td>No</td>\n",
       "      <td>On</td>\n",
       "      <td>High</td>\n",
       "      <td>Blue</td>\n",
       "    </tr>\n",
       "    <tr>\n",
       "      <th>5</th>\n",
       "      <td>Yes</td>\n",
       "      <td>On</td>\n",
       "      <td>Low</td>\n",
       "      <td>Blue</td>\n",
       "    </tr>\n",
       "    <tr>\n",
       "      <th>6</th>\n",
       "      <td>No</td>\n",
       "      <td>Off</td>\n",
       "      <td>High</td>\n",
       "      <td>Blue</td>\n",
       "    </tr>\n",
       "    <tr>\n",
       "      <th>7</th>\n",
       "      <td>No</td>\n",
       "      <td>On</td>\n",
       "      <td>High</td>\n",
       "      <td>Blue</td>\n",
       "    </tr>\n",
       "    <tr>\n",
       "      <th>8</th>\n",
       "      <td>Yes</td>\n",
       "      <td>On</td>\n",
       "      <td>Low</td>\n",
       "      <td>Blue</td>\n",
       "    </tr>\n",
       "    <tr>\n",
       "      <th>9</th>\n",
       "      <td>Yes</td>\n",
       "      <td>Off</td>\n",
       "      <td>High</td>\n",
       "      <td>Red</td>\n",
       "    </tr>\n",
       "  </tbody>\n",
       "</table>\n",
       "</div>"
      ],
      "text/plain": [
       "  Variable A Variable B Variable C Output\n",
       "0        Yes         On       High    Red\n",
       "1         No        Off        Low   Blue\n",
       "2        Yes         On       High    Red\n",
       "3        Yes        Off       High    Red\n",
       "4         No         On       High   Blue\n",
       "5        Yes         On        Low   Blue\n",
       "6         No        Off       High   Blue\n",
       "7         No         On       High   Blue\n",
       "8        Yes         On        Low   Blue\n",
       "9        Yes        Off       High    Red"
      ]
     },
     "execution_count": 2,
     "metadata": {},
     "output_type": "execute_result"
    }
   ],
   "source": [
    "toyData = pd.read_csv('toyData.csv')\n",
    "toyData"
   ]
  },
  {
   "cell_type": "code",
   "execution_count": 3,
   "metadata": {},
   "outputs": [],
   "source": [
    "X = toyData.iloc[:, :-1]\n",
    "y = toyData['Output']"
   ]
  },
  {
   "cell_type": "code",
   "execution_count": 4,
   "metadata": {},
   "outputs": [],
   "source": [
    "# Works only for binary classification\n",
    "def calcEntropy(y):\n",
    "    N = len(y) # No of target observations\n",
    "    val = y.unique()[0] # Taking only one class into consideration\n",
    "    s1 = (y == val).sum() # Counts of that class \n",
    "    if 0 == s1 or N == s1: # Checking whether there is only one class present\n",
    "        return 0\n",
    "    \n",
    "    # Calculate the probabilities\n",
    "    p1 = float(s1) / N\n",
    "    p0 = 1 - p1 \n",
    "    \n",
    "    # Returns the entropy\n",
    "    return -p0*np.log2(p0) - p1*np.log2(p1)"
   ]
  },
  {
   "cell_type": "code",
   "execution_count": 5,
   "metadata": {},
   "outputs": [],
   "source": [
    "# Works only for binary classification\n",
    "def calcGini(y):\n",
    "    N = len(y) # No of target observations\n",
    "    val = y.unique()[0] # Taking only one class intro consideration\n",
    "    s1 = (y == val).sum() # Counts of that class\n",
    "    if 0 == s1 or N == s1: # Checking whether there is only one class is present\n",
    "        return 0\n",
    "    p1 = float(s1) / N\n",
    "    p0 = 1 - p1\n",
    "    return 1 - p1*p1 - p0*p0"
   ]
  },
  {
   "cell_type": "code",
   "execution_count": 6,
   "metadata": {},
   "outputs": [],
   "source": [
    "# Works only for categorical variables\n",
    "def weighted_sum(clf, data, target):\n",
    "    \n",
    "    if clf == calcEntropy:\n",
    "        print(\"Initial Entropy:\", round(calcEntropy(data[target]), 4))\n",
    "    \n",
    "    for col in data.iloc[:, :-1].columns:\n",
    "        lst1 = [] # To store the Gini Impurity or Entropy of the current col feature\n",
    "        P = [] # To store the conditional probabilities of the current col feature\n",
    "        current = data[col] # Takes only the current column\n",
    "        unique = set(data[col]) # Identifies the unique values of that column\n",
    "        print(col)\n",
    "        for val in unique:\n",
    "            x = (data[col] == val).sum()/len(data[col]) # Conditional probability for 'val' in that column\n",
    "            P.append(x)\n",
    "            currentdf = data[data[col] == val] # Taking rows of 'val' in the column\n",
    "            print(val, \":\", round(clf(currentdf[target]), 4))\n",
    "            lst1.append(clf(currentdf[target])) # Calculate and add the entropy/gini value to the list\n",
    "        print(\"Weighted Sum:\", round(P[0] * lst1[0] + P[1] * lst1[1], 4))\n",
    "        \n",
    "        # Calculate the Information Gain only for the Entropy\n",
    "        if clf == calcEntropy:\n",
    "            print(\"Information Gain:\", round(calcEntropy(data[target]) - (P[0] * lst1[0] + P[1] * lst1[1]), 4))"
   ]
  },
  {
   "cell_type": "markdown",
   "metadata": {},
   "source": [
    "## Gini Impurity"
   ]
  },
  {
   "cell_type": "code",
   "execution_count": 7,
   "metadata": {},
   "outputs": [
    {
     "name": "stdout",
     "output_type": "stream",
     "text": [
      "Variable A\n",
      "No : 0\n",
      "Yes : 0.4444\n",
      "Weighted Sum: 0.2667\n",
      "Variable B\n",
      "On : 0.4444\n",
      "Off : 0.5\n",
      "Weighted Sum: 0.4667\n",
      "Variable C\n",
      "High : 0.4898\n",
      "Low : 0\n",
      "Weighted Sum: 0.3429\n"
     ]
    }
   ],
   "source": [
    "weighted_sum(calcGini, toyData, 'Output')"
   ]
  },
  {
   "cell_type": "markdown",
   "metadata": {},
   "source": [
    "## Entropy"
   ]
  },
  {
   "cell_type": "code",
   "execution_count": 8,
   "metadata": {},
   "outputs": [
    {
     "name": "stdout",
     "output_type": "stream",
     "text": [
      "Initial Entropy: 0.971\n",
      "Variable A\n",
      "No : 0\n",
      "Yes : 0.9183\n",
      "Weighted Sum: 0.551\n",
      "Information Gain: 0.42\n",
      "Variable B\n",
      "On : 0.9183\n",
      "Off : 1.0\n",
      "Weighted Sum: 0.951\n",
      "Information Gain: 0.02\n",
      "Variable C\n",
      "High : 0.9852\n",
      "Low : 0\n",
      "Weighted Sum: 0.6897\n",
      "Information Gain: 0.2813\n"
     ]
    }
   ],
   "source": [
    "weighted_sum(calcEntropy, toyData, 'Output')"
   ]
  },
  {
   "cell_type": "markdown",
   "metadata": {},
   "source": [
    "# Part 2"
   ]
  },
  {
   "cell_type": "code",
   "execution_count": 9,
   "metadata": {},
   "outputs": [],
   "source": [
    "X = datasets.load_boston().data\n",
    "y = datasets.load_boston().target"
   ]
  },
  {
   "cell_type": "code",
   "execution_count": 10,
   "metadata": {},
   "outputs": [],
   "source": [
    "X = pd.DataFrame(X, columns = datasets.load_boston().feature_names)\n",
    "y = pd.DataFrame(y, columns = ['medv'])"
   ]
  },
  {
   "cell_type": "code",
   "execution_count": 11,
   "metadata": {},
   "outputs": [
    {
     "data": {
      "text/html": [
       "<div>\n",
       "<style scoped>\n",
       "    .dataframe tbody tr th:only-of-type {\n",
       "        vertical-align: middle;\n",
       "    }\n",
       "\n",
       "    .dataframe tbody tr th {\n",
       "        vertical-align: top;\n",
       "    }\n",
       "\n",
       "    .dataframe thead th {\n",
       "        text-align: right;\n",
       "    }\n",
       "</style>\n",
       "<table border=\"1\" class=\"dataframe\">\n",
       "  <thead>\n",
       "    <tr style=\"text-align: right;\">\n",
       "      <th></th>\n",
       "      <th>CRIM</th>\n",
       "      <th>ZN</th>\n",
       "      <th>INDUS</th>\n",
       "      <th>CHAS</th>\n",
       "      <th>NOX</th>\n",
       "      <th>RM</th>\n",
       "      <th>AGE</th>\n",
       "      <th>DIS</th>\n",
       "      <th>RAD</th>\n",
       "      <th>TAX</th>\n",
       "      <th>PTRATIO</th>\n",
       "      <th>B</th>\n",
       "      <th>LSTAT</th>\n",
       "    </tr>\n",
       "  </thead>\n",
       "  <tbody>\n",
       "    <tr>\n",
       "      <th>0</th>\n",
       "      <td>0.00632</td>\n",
       "      <td>18.0</td>\n",
       "      <td>2.31</td>\n",
       "      <td>0.0</td>\n",
       "      <td>0.538</td>\n",
       "      <td>6.575</td>\n",
       "      <td>65.2</td>\n",
       "      <td>4.0900</td>\n",
       "      <td>1.0</td>\n",
       "      <td>296.0</td>\n",
       "      <td>15.3</td>\n",
       "      <td>396.90</td>\n",
       "      <td>4.98</td>\n",
       "    </tr>\n",
       "    <tr>\n",
       "      <th>1</th>\n",
       "      <td>0.02731</td>\n",
       "      <td>0.0</td>\n",
       "      <td>7.07</td>\n",
       "      <td>0.0</td>\n",
       "      <td>0.469</td>\n",
       "      <td>6.421</td>\n",
       "      <td>78.9</td>\n",
       "      <td>4.9671</td>\n",
       "      <td>2.0</td>\n",
       "      <td>242.0</td>\n",
       "      <td>17.8</td>\n",
       "      <td>396.90</td>\n",
       "      <td>9.14</td>\n",
       "    </tr>\n",
       "    <tr>\n",
       "      <th>2</th>\n",
       "      <td>0.02729</td>\n",
       "      <td>0.0</td>\n",
       "      <td>7.07</td>\n",
       "      <td>0.0</td>\n",
       "      <td>0.469</td>\n",
       "      <td>7.185</td>\n",
       "      <td>61.1</td>\n",
       "      <td>4.9671</td>\n",
       "      <td>2.0</td>\n",
       "      <td>242.0</td>\n",
       "      <td>17.8</td>\n",
       "      <td>392.83</td>\n",
       "      <td>4.03</td>\n",
       "    </tr>\n",
       "    <tr>\n",
       "      <th>3</th>\n",
       "      <td>0.03237</td>\n",
       "      <td>0.0</td>\n",
       "      <td>2.18</td>\n",
       "      <td>0.0</td>\n",
       "      <td>0.458</td>\n",
       "      <td>6.998</td>\n",
       "      <td>45.8</td>\n",
       "      <td>6.0622</td>\n",
       "      <td>3.0</td>\n",
       "      <td>222.0</td>\n",
       "      <td>18.7</td>\n",
       "      <td>394.63</td>\n",
       "      <td>2.94</td>\n",
       "    </tr>\n",
       "    <tr>\n",
       "      <th>4</th>\n",
       "      <td>0.06905</td>\n",
       "      <td>0.0</td>\n",
       "      <td>2.18</td>\n",
       "      <td>0.0</td>\n",
       "      <td>0.458</td>\n",
       "      <td>7.147</td>\n",
       "      <td>54.2</td>\n",
       "      <td>6.0622</td>\n",
       "      <td>3.0</td>\n",
       "      <td>222.0</td>\n",
       "      <td>18.7</td>\n",
       "      <td>396.90</td>\n",
       "      <td>5.33</td>\n",
       "    </tr>\n",
       "  </tbody>\n",
       "</table>\n",
       "</div>"
      ],
      "text/plain": [
       "      CRIM    ZN  INDUS  CHAS    NOX     RM   AGE     DIS  RAD    TAX  \\\n",
       "0  0.00632  18.0   2.31   0.0  0.538  6.575  65.2  4.0900  1.0  296.0   \n",
       "1  0.02731   0.0   7.07   0.0  0.469  6.421  78.9  4.9671  2.0  242.0   \n",
       "2  0.02729   0.0   7.07   0.0  0.469  7.185  61.1  4.9671  2.0  242.0   \n",
       "3  0.03237   0.0   2.18   0.0  0.458  6.998  45.8  6.0622  3.0  222.0   \n",
       "4  0.06905   0.0   2.18   0.0  0.458  7.147  54.2  6.0622  3.0  222.0   \n",
       "\n",
       "   PTRATIO       B  LSTAT  \n",
       "0     15.3  396.90   4.98  \n",
       "1     17.8  396.90   9.14  \n",
       "2     17.8  392.83   4.03  \n",
       "3     18.7  394.63   2.94  \n",
       "4     18.7  396.90   5.33  "
      ]
     },
     "execution_count": 11,
     "metadata": {},
     "output_type": "execute_result"
    }
   ],
   "source": [
    "X.head()"
   ]
  },
  {
   "cell_type": "markdown",
   "metadata": {},
   "source": [
    "## 5."
   ]
  },
  {
   "cell_type": "code",
   "execution_count": 12,
   "metadata": {},
   "outputs": [],
   "source": [
    "y['highPriced'] = y.medv.apply(lambda x : 1 if x > 35.0 else 0)"
   ]
  },
  {
   "cell_type": "code",
   "execution_count": 13,
   "metadata": {},
   "outputs": [
    {
     "data": {
      "text/html": [
       "<div>\n",
       "<style scoped>\n",
       "    .dataframe tbody tr th:only-of-type {\n",
       "        vertical-align: middle;\n",
       "    }\n",
       "\n",
       "    .dataframe tbody tr th {\n",
       "        vertical-align: top;\n",
       "    }\n",
       "\n",
       "    .dataframe thead th {\n",
       "        text-align: right;\n",
       "    }\n",
       "</style>\n",
       "<table border=\"1\" class=\"dataframe\">\n",
       "  <thead>\n",
       "    <tr style=\"text-align: right;\">\n",
       "      <th></th>\n",
       "      <th>medv</th>\n",
       "      <th>highPriced</th>\n",
       "    </tr>\n",
       "  </thead>\n",
       "  <tbody>\n",
       "    <tr>\n",
       "      <th>0</th>\n",
       "      <td>24.0</td>\n",
       "      <td>0</td>\n",
       "    </tr>\n",
       "    <tr>\n",
       "      <th>1</th>\n",
       "      <td>21.6</td>\n",
       "      <td>0</td>\n",
       "    </tr>\n",
       "    <tr>\n",
       "      <th>2</th>\n",
       "      <td>34.7</td>\n",
       "      <td>0</td>\n",
       "    </tr>\n",
       "    <tr>\n",
       "      <th>3</th>\n",
       "      <td>33.4</td>\n",
       "      <td>0</td>\n",
       "    </tr>\n",
       "    <tr>\n",
       "      <th>4</th>\n",
       "      <td>36.2</td>\n",
       "      <td>1</td>\n",
       "    </tr>\n",
       "  </tbody>\n",
       "</table>\n",
       "</div>"
      ],
      "text/plain": [
       "   medv  highPriced\n",
       "0  24.0           0\n",
       "1  21.6           0\n",
       "2  34.7           0\n",
       "3  33.4           0\n",
       "4  36.2           1"
      ]
     },
     "execution_count": 13,
     "metadata": {},
     "output_type": "execute_result"
    }
   ],
   "source": [
    "y.head()"
   ]
  },
  {
   "cell_type": "code",
   "execution_count": 14,
   "metadata": {},
   "outputs": [
    {
     "data": {
      "text/html": [
       "<div>\n",
       "<style scoped>\n",
       "    .dataframe tbody tr th:only-of-type {\n",
       "        vertical-align: middle;\n",
       "    }\n",
       "\n",
       "    .dataframe tbody tr th {\n",
       "        vertical-align: top;\n",
       "    }\n",
       "\n",
       "    .dataframe thead th {\n",
       "        text-align: right;\n",
       "    }\n",
       "</style>\n",
       "<table border=\"1\" class=\"dataframe\">\n",
       "  <thead>\n",
       "    <tr style=\"text-align: right;\">\n",
       "      <th></th>\n",
       "      <th>medv</th>\n",
       "      <th>highPriced</th>\n",
       "    </tr>\n",
       "  </thead>\n",
       "  <tbody>\n",
       "    <tr>\n",
       "      <th>count</th>\n",
       "      <td>506.000000</td>\n",
       "      <td>506.000000</td>\n",
       "    </tr>\n",
       "    <tr>\n",
       "      <th>mean</th>\n",
       "      <td>22.532806</td>\n",
       "      <td>0.094862</td>\n",
       "    </tr>\n",
       "    <tr>\n",
       "      <th>std</th>\n",
       "      <td>9.197104</td>\n",
       "      <td>0.293314</td>\n",
       "    </tr>\n",
       "    <tr>\n",
       "      <th>min</th>\n",
       "      <td>5.000000</td>\n",
       "      <td>0.000000</td>\n",
       "    </tr>\n",
       "    <tr>\n",
       "      <th>25%</th>\n",
       "      <td>17.025000</td>\n",
       "      <td>0.000000</td>\n",
       "    </tr>\n",
       "    <tr>\n",
       "      <th>50%</th>\n",
       "      <td>21.200000</td>\n",
       "      <td>0.000000</td>\n",
       "    </tr>\n",
       "    <tr>\n",
       "      <th>75%</th>\n",
       "      <td>25.000000</td>\n",
       "      <td>0.000000</td>\n",
       "    </tr>\n",
       "    <tr>\n",
       "      <th>max</th>\n",
       "      <td>50.000000</td>\n",
       "      <td>1.000000</td>\n",
       "    </tr>\n",
       "  </tbody>\n",
       "</table>\n",
       "</div>"
      ],
      "text/plain": [
       "             medv  highPriced\n",
       "count  506.000000  506.000000\n",
       "mean    22.532806    0.094862\n",
       "std      9.197104    0.293314\n",
       "min      5.000000    0.000000\n",
       "25%     17.025000    0.000000\n",
       "50%     21.200000    0.000000\n",
       "75%     25.000000    0.000000\n",
       "max     50.000000    1.000000"
      ]
     },
     "execution_count": 14,
     "metadata": {},
     "output_type": "execute_result"
    }
   ],
   "source": [
    "y.describe()"
   ]
  },
  {
   "cell_type": "code",
   "execution_count": 15,
   "metadata": {},
   "outputs": [
    {
     "data": {
      "text/plain": [
       "<matplotlib.legend.Legend at 0x272b8066a58>"
      ]
     },
     "execution_count": 15,
     "metadata": {},
     "output_type": "execute_result"
    },
    {
     "data": {
      "image/png": "[encoded data removed]",
      "text/plain": [
       "<Figure size 576x360 with 1 Axes>"
      ]
     },
     "metadata": {
      "needs_background": "light"
     },
     "output_type": "display_data"
    }
   ],
   "source": [
    "plt.figure(figsize = (8,5))\n",
    "sns.distplot(y['medv'])\n",
    "plt.axvline(35, 0, 50, label = 'highPriced', color = 'red')\n",
    "plt.legend()"
   ]
  },
  {
   "cell_type": "code",
   "execution_count": 16,
   "metadata": {},
   "outputs": [
    {
     "data": {
      "image/png": "[encoded data removed]",
      "text/plain": [
       "<Figure size 720x432 with 1 Axes>"
      ]
     },
     "metadata": {
      "needs_background": "light"
     },
     "output_type": "display_data"
    }
   ],
   "source": [
    "plt.figure(figsize = (10, 6))\n",
    "g = sns.countplot(x = 'highPriced', data = y)"
   ]
  },
  {
   "cell_type": "code",
   "execution_count": 17,
   "metadata": {},
   "outputs": [
    {
     "data": {
      "text/html": [
       "<div>\n",
       "<style scoped>\n",
       "    .dataframe tbody tr th:only-of-type {\n",
       "        vertical-align: middle;\n",
       "    }\n",
       "\n",
       "    .dataframe tbody tr th {\n",
       "        vertical-align: top;\n",
       "    }\n",
       "\n",
       "    .dataframe thead th {\n",
       "        text-align: right;\n",
       "    }\n",
       "</style>\n",
       "<table border=\"1\" class=\"dataframe\">\n",
       "  <thead>\n",
       "    <tr style=\"text-align: right;\">\n",
       "      <th></th>\n",
       "      <th>highPriced</th>\n",
       "      <th>Counts</th>\n",
       "    </tr>\n",
       "  </thead>\n",
       "  <tbody>\n",
       "    <tr>\n",
       "      <th>0</th>\n",
       "      <td>0</td>\n",
       "      <td>458</td>\n",
       "    </tr>\n",
       "    <tr>\n",
       "      <th>1</th>\n",
       "      <td>1</td>\n",
       "      <td>48</td>\n",
       "    </tr>\n",
       "  </tbody>\n",
       "</table>\n",
       "</div>"
      ],
      "text/plain": [
       "   highPriced  Counts\n",
       "0           0     458\n",
       "1           1      48"
      ]
     },
     "execution_count": 17,
     "metadata": {},
     "output_type": "execute_result"
    }
   ],
   "source": [
    "y.groupby('highPriced').size().reset_index(name = 'Counts')"
   ]
  },
  {
   "cell_type": "markdown",
   "metadata": {},
   "source": [
    "Exploring the target variable median house value, we could see that the average and median housing rate is around 20k. Creating a high priced variable where the housing rates are greater than 35k are very less and create a class imbalance. The train and test sets should be split in a way that there are enough samples in both the classes in the training set to predict them better."
   ]
  },
  {
   "cell_type": "markdown",
   "metadata": {},
   "source": [
    "## 6."
   ]
  },
  {
   "cell_type": "code",
   "execution_count": 15,
   "metadata": {},
   "outputs": [],
   "source": [
    "def information_gain(clf, x, y, split):\n",
    "    y0 = y[x < split] # Take y values where x is less than the split\n",
    "    y1 = y[x >= split] # Take y values where x is greater than or equal to split\n",
    "    N = len(y)\n",
    "    y0len = len(y0)\n",
    "    if y0len == 0 or y0len == N: # If y has only one class present return 0\n",
    "        return 0\n",
    "    # Calculate the probabilities and information gain\n",
    "    p0 = float(y0len) / N\n",
    "    p1 = 1 - p0\n",
    "    return clf(y) - p0*clf(y0) - p1*clf(y1)"
   ]
  },
  {
   "cell_type": "code",
   "execution_count": 16,
   "metadata": {},
   "outputs": [],
   "source": [
    "def gini_impurity(clf, x, y, split):\n",
    "    y0 = y[x < split] # Take y values where x is less than the split\n",
    "    y1 = y[x >= split] # Take y values where x is greater than or equal to split\n",
    "    N = len(y)\n",
    "    y0len = len(y0)\n",
    "    if y0len == 0 or y0len == N: # If y has only one class present return 0\n",
    "        return 0\n",
    "    # Calculate the probabilities and Gini Impurity\n",
    "    p0 = float(y0len) / N\n",
    "    p1 = 1 - p0\n",
    "    return p0 * clf(y0) + p1 * clf(y1)"
   ]
  },
  {
   "cell_type": "code",
   "execution_count": 17,
   "metadata": {},
   "outputs": [],
   "source": [
    "def find_split(clf, X, y, col):\n",
    "    # Sorting and then finding the split \n",
    "    x_values = X[col] # 'col' series\n",
    "    sort_idx = np.argsort(x_values) # sorting the xvalues and getting their respective indices\n",
    "    #print(sort_idx)\n",
    "    x_values = x_values.iloc[sort_idx] # Sorting the xvalues\n",
    "    y_values = y.iloc[sort_idx] # Taking y_values w.r.t x_values \n",
    "    \n",
    "    # Take the indices where there is a transition between either 0 to 1 or 1 to 0\n",
    "    boundaries = np.nonzero(y_values.values[:-1] != y_values.values[1:])[0]\n",
    "    \n",
    "    if clf == calcEntropy:\n",
    "        best_split = None\n",
    "        ig_max = 0\n",
    "\n",
    "        for i in boundaries:\n",
    "            # Calculate the mean where the transition happens\n",
    "            split = (x_values.values[i] + x_values.values[i+1]) / 2\n",
    "            # Calculating the information gain at each splitting point\n",
    "            ig = information_gain(clf, x_values, y_values, split) \n",
    "            if ig > ig_max:\n",
    "                ig_max = ig\n",
    "                best_split = split\n",
    "            #print(ig_max, best_split)\n",
    "            \n",
    "        return ig_max, best_split # Getting the maximum information gain and where the split happens\n",
    "    else:\n",
    "        best_split = None\n",
    "        gini_min = 1\n",
    "        \n",
    "        for i in boundaries:\n",
    "            # Calculate the mean where the transition happens\n",
    "            split = (x_values.values[i] + x_values.values[i+1]) / 2\n",
    "            gini = gini_impurity(clf, x_values, y_values, split) # Calculating the gini impurity\n",
    "            if gini < gini_min:\n",
    "                gini_min = gini\n",
    "                best_split = split\n",
    "            #print(gini_min, best_split)\n",
    "                \n",
    "        return gini_min, best_split # Getting the minimum gini impurity and where the split happens"
   ]
  },
  {
   "cell_type": "code",
   "execution_count": 18,
   "metadata": {},
   "outputs": [
    {
     "name": "stdout",
     "output_type": "stream",
     "text": [
      "Entropy: (0.005665367307344349, 37.25)\n",
      "Gini Impurity: (0.17022819758951685, 37.25)\n"
     ]
    }
   ],
   "source": [
    "print(\"Entropy:\", find_split(calcEntropy, X, y['highPriced'], 'AGE'))\n",
    "print(\"Gini Impurity:\", find_split(calcGini, X, y['highPriced'], 'AGE'))"
   ]
  },
  {
   "cell_type": "markdown",
   "metadata": {},
   "source": [
    "For the Age variable, the optimal split using the entropy and the Gini impurity are same. But considering the gain, Age variable might not be the best variable to take as the root node of the tree. Let us try with the CRIM variable."
   ]
  },
  {
   "cell_type": "code",
   "execution_count": 19,
   "metadata": {},
   "outputs": [
    {
     "name": "stdout",
     "output_type": "stream",
     "text": [
      "Entropy: (0.019515611584427217, 9.280695000000001)\n",
      "Gini Impurity: (0.1682623334797249, 0.02182)\n"
     ]
    }
   ],
   "source": [
    "print(\"Entropy:\", find_split(calcEntropy, X, y['highPriced'], 'CRIM'))\n",
    "print(\"Gini Impurity:\", find_split(calcGini, X, y['highPriced'], 'CRIM'))"
   ]
  },
  {
   "cell_type": "markdown",
   "metadata": {},
   "source": [
    "In the case of CRIM variable, we are getting two different split points while using Entropy and Gini Impurity. Again not a great variable to start your tree with. "
   ]
  },
  {
   "cell_type": "markdown",
   "metadata": {},
   "source": [
    "## 7."
   ]
  },
  {
   "cell_type": "code",
   "execution_count": 20,
   "metadata": {},
   "outputs": [],
   "source": [
    "d = DecisionTreeClassifier(criterion = 'entropy')"
   ]
  },
  {
   "cell_type": "code",
   "execution_count": 21,
   "metadata": {},
   "outputs": [
    {
     "data": {
      "text/plain": [
       "DecisionTreeClassifier(class_weight=None, criterion='entropy', max_depth=None,\n",
       "                       max_features=None, max_leaf_nodes=None,\n",
       "                       min_impurity_decrease=0.0, min_impurity_split=None,\n",
       "                       min_samples_leaf=1, min_samples_split=2,\n",
       "                       min_weight_fraction_leaf=0.0, presort=False,\n",
       "                       random_state=None, splitter='best')"
      ]
     },
     "execution_count": 21,
     "metadata": {},
     "output_type": "execute_result"
    }
   ],
   "source": [
    "d.fit(X[['AGE']], y[['highPriced']])"
   ]
  },
  {
   "cell_type": "code",
   "execution_count": 22,
   "metadata": {},
   "outputs": [
    {
     "name": "stdout",
     "output_type": "stream",
     "text": [
      "Optimal split with AGE variable: |--- feature_0 <= 37.25\n",
      "\n"
     ]
    }
   ],
   "source": [
    "print(\"Optimal split with AGE variable:\", export_text(d)[0:24])"
   ]
  },
  {
   "cell_type": "markdown",
   "metadata": {},
   "source": [
    "The find_split method have identified the same splitting point as the DecisionTreeClassifier() at 37.25 for the AGE variable."
   ]
  },
  {
   "cell_type": "markdown",
   "metadata": {},
   "source": [
    "## 8."
   ]
  },
  {
   "cell_type": "code",
   "execution_count": 23,
   "metadata": {},
   "outputs": [],
   "source": [
    "# Lists to store the depth, column name, and their threshold\n",
    "level = []\n",
    "columns = []\n",
    "threshold = []\n",
    "side = []\n",
    "\n",
    "def build_tree(clf, X, y, depth = 1, max_depth = None):\n",
    "    \n",
    "    if clf == calcEntropy:\n",
    "    \n",
    "        if len(y) == 1 or len(set(y)) == 1:\n",
    "            print(\"Only one class is present: No further splits\")\n",
    "        \n",
    "        else:\n",
    "    \n",
    "            cols = list(X)\n",
    "    \n",
    "            ig_max = 0\n",
    "            best_column = None\n",
    "            best_split = None\n",
    "            \n",
    "            # Identify the best candidate for the split\n",
    "            for col in cols:\n",
    "                ig, split = find_split(clf, X, y, col)\n",
    "                #print(col, ig, split)\n",
    "                if ig > ig_max:\n",
    "                    ig_max = ig\n",
    "                    best_column = col\n",
    "                    best_split = split\n",
    "    \n",
    "            print(\"Best column:\", best_column)\n",
    "            print(\"Best Split:\", best_split)\n",
    "    \n",
    "            if ig_max == 0:\n",
    "                print(\"No further splits\")\n",
    "                pred = np.round(y.mean())\n",
    "        \n",
    "            else:\n",
    "                #print(best_column, best_split)\n",
    "                \n",
    "                if depth <= max_depth:\n",
    "                    \n",
    "                    # Finds the left side nodes of the tree\n",
    "                    left_index = X[X[best_column] < best_split].index\n",
    "                    #print(\"Left:\", len(left_index))\n",
    "                    Xleft = X.loc[left_index]\n",
    "                    yleft = y.loc[left_index]\n",
    "                    print(\"Depth:\", depth)\n",
    "                    level.append(depth)\n",
    "                    columns.append(best_column)\n",
    "                    threshold.append(best_split)\n",
    "                    side.append(\"Left\")\n",
    "                    print(\"Side:\", side[-1])\n",
    "                    build_tree(clf, Xleft, yleft, 1 + depth, max_depth)\n",
    "                    \n",
    "                    # Finds the right side nodes of the tree\n",
    "                    right_index = X[X[best_column] >= best_split].index\n",
    "                    #print(\"Right:\", len(right_index))\n",
    "                    Xright = X.loc[right_index]\n",
    "                    yright = y.loc[right_index]\n",
    "                    print(\"Depth:\", depth)\n",
    "                    level.append(depth)\n",
    "                    columns.append(best_column)\n",
    "                    threshold.append(best_split)\n",
    "                    side.append(\"Right\")\n",
    "                    print(\"Side:\", side[-1])\n",
    "                    build_tree(clf, Xright, yright, 1 + depth, max_depth)\n",
    "                    \n",
    "\n",
    "                    # To identify the splits using the Gini impurity\n",
    "                    \n",
    "#     else:\n",
    "        \n",
    "#         if len(y) == 1 or len(set(y)) == 1:\n",
    "            \n",
    "#             print(\"Only one class is present: No further splits\")\n",
    "        \n",
    "#         else:\n",
    "    \n",
    "#             cols = list(X)\n",
    "    \n",
    "#             gini_min = 1\n",
    "#             best_column = None\n",
    "#             best_split = None\n",
    "    \n",
    "#             for col in cols:\n",
    "#                 gini, split = find_split(clf, X, y, col)\n",
    "#                 #print(col, gini, split)\n",
    "#                 if gini < gini_min:\n",
    "#                     gini_min = gini\n",
    "#                     best_column = col\n",
    "#                     best_split = split\n",
    "    \n",
    "#             print(\"Best column:\", best_column)\n",
    "#             print(\"Best Split:\", best_split)\n",
    "    \n",
    "#             if gini_min == 1:\n",
    "#                 print(\"No further splits\")\n",
    "        \n",
    "#             else:\n",
    "#                 #print(best_column, best_split)\n",
    "                \n",
    "#                 if depth <= max_depth:\n",
    "                \n",
    "#                     left_index = X[X[best_column] < best_split].index\n",
    "#                     print(\"Left:\", len(left_index))\n",
    "#                     Xleft = X.loc[left_index]\n",
    "#                     yleft = y.loc[left_index]\n",
    "#                     print(\"Depth:\", depth)\n",
    "#                     level.append(depth)\n",
    "#                     columns.append(best_column)\n",
    "#                     threshold.append(best_split)\n",
    "#                     side.append(\"Left\")\n",
    "#                     print(\"Side:\", side[-1])\n",
    "#                     build_tree(clf, Xleft, yleft, 1 + depth, max_depth)\n",
    "    \n",
    "#                     right_index = X[X[best_column] >= best_split].index\n",
    "#                     print(\"Right:\", len(right_index))\n",
    "#                     Xright = X.loc[right_index]\n",
    "#                     yright = y.loc[right_index]\n",
    "#                     print(\"Depth:\", depth)\n",
    "#                     level.append(depth)\n",
    "#                     columns.append(best_column)\n",
    "#                     threshold.append(best_split)\n",
    "#                     side.append(\"Right\")\n",
    "#                     print(\"Side:\", side[-1])\n",
    "#                     build_tree(clf, Xright, yright, 1 + depth, max_depth)\n",
    "                    \n",
    "                "
   ]
  },
  {
   "cell_type": "code",
   "execution_count": 24,
   "metadata": {},
   "outputs": [
    {
     "name": "stdout",
     "output_type": "stream",
     "text": [
      "Best column: RM\n",
      "Best Split: 6.941\n",
      "Depth: 1\n",
      "Side: Left\n",
      "Best column: LSTAT\n",
      "Best Split: 9.535\n",
      "Depth: 2\n",
      "Side: Left\n",
      "Best column: RAD\n",
      "Best Split: 24.0\n",
      "Depth: 3\n",
      "Side: Left\n",
      "Best column: LSTAT\n",
      "Best Split: 9.44\n",
      "Depth: 3\n",
      "Side: Right\n",
      "Best column: LSTAT\n",
      "Best Split: 5.425\n",
      "Depth: 2\n",
      "Side: Right\n",
      "Only one class is present: No further splits\n",
      "Depth: 1\n",
      "Side: Right\n",
      "Best column: RM\n",
      "Best Split: 7.436999999999999\n",
      "Depth: 2\n",
      "Side: Left\n",
      "Best column: RAD\n",
      "Best Split: 2.5\n",
      "Depth: 3\n",
      "Side: Left\n",
      "Only one class is present: No further splits\n",
      "Depth: 3\n",
      "Side: Right\n",
      "Best column: LSTAT\n",
      "Best Split: 8.844999999999999\n",
      "Depth: 2\n",
      "Side: Right\n",
      "Best column: RM\n",
      "Best Split: 8.7525\n",
      "Depth: 3\n",
      "Side: Left\n",
      "Only one class is present: No further splits\n",
      "Depth: 3\n",
      "Side: Right\n",
      "Only one class is present: No further splits\n"
     ]
    }
   ],
   "source": [
    "build_tree(calcEntropy, X[['RM', 'LSTAT', 'RAD']], y['highPriced'], max_depth = 3)"
   ]
  },
  {
   "cell_type": "code",
   "execution_count": 25,
   "metadata": {},
   "outputs": [],
   "source": [
    "splits_df = pd.DataFrame(np.column_stack((\n",
    "    level, side, columns, threshold)), columns= ['Level', 'Side', 'Variable', 'Threshold'])"
   ]
  },
  {
   "cell_type": "code",
   "execution_count": 26,
   "metadata": {},
   "outputs": [
    {
     "data": {
      "text/html": [
       "<div>\n",
       "<style scoped>\n",
       "    .dataframe tbody tr th:only-of-type {\n",
       "        vertical-align: middle;\n",
       "    }\n",
       "\n",
       "    .dataframe tbody tr th {\n",
       "        vertical-align: top;\n",
       "    }\n",
       "\n",
       "    .dataframe thead th {\n",
       "        text-align: right;\n",
       "    }\n",
       "</style>\n",
       "<table border=\"1\" class=\"dataframe\">\n",
       "  <thead>\n",
       "    <tr style=\"text-align: right;\">\n",
       "      <th></th>\n",
       "      <th>Level</th>\n",
       "      <th>Side</th>\n",
       "      <th>Variable</th>\n",
       "      <th>Threshold</th>\n",
       "    </tr>\n",
       "  </thead>\n",
       "  <tbody>\n",
       "    <tr>\n",
       "      <th>0</th>\n",
       "      <td>1</td>\n",
       "      <td>Left</td>\n",
       "      <td>RM</td>\n",
       "      <td>6.941</td>\n",
       "    </tr>\n",
       "    <tr>\n",
       "      <th>1</th>\n",
       "      <td>2</td>\n",
       "      <td>Left</td>\n",
       "      <td>LSTAT</td>\n",
       "      <td>9.535</td>\n",
       "    </tr>\n",
       "    <tr>\n",
       "      <th>2</th>\n",
       "      <td>3</td>\n",
       "      <td>Left</td>\n",
       "      <td>RAD</td>\n",
       "      <td>24.0</td>\n",
       "    </tr>\n",
       "    <tr>\n",
       "      <th>3</th>\n",
       "      <td>3</td>\n",
       "      <td>Right</td>\n",
       "      <td>RAD</td>\n",
       "      <td>24.0</td>\n",
       "    </tr>\n",
       "    <tr>\n",
       "      <th>4</th>\n",
       "      <td>2</td>\n",
       "      <td>Right</td>\n",
       "      <td>LSTAT</td>\n",
       "      <td>9.535</td>\n",
       "    </tr>\n",
       "    <tr>\n",
       "      <th>5</th>\n",
       "      <td>1</td>\n",
       "      <td>Right</td>\n",
       "      <td>RM</td>\n",
       "      <td>6.941</td>\n",
       "    </tr>\n",
       "    <tr>\n",
       "      <th>6</th>\n",
       "      <td>2</td>\n",
       "      <td>Left</td>\n",
       "      <td>RM</td>\n",
       "      <td>7.436999999999999</td>\n",
       "    </tr>\n",
       "    <tr>\n",
       "      <th>7</th>\n",
       "      <td>3</td>\n",
       "      <td>Left</td>\n",
       "      <td>RAD</td>\n",
       "      <td>2.5</td>\n",
       "    </tr>\n",
       "    <tr>\n",
       "      <th>8</th>\n",
       "      <td>3</td>\n",
       "      <td>Right</td>\n",
       "      <td>RAD</td>\n",
       "      <td>2.5</td>\n",
       "    </tr>\n",
       "    <tr>\n",
       "      <th>9</th>\n",
       "      <td>2</td>\n",
       "      <td>Right</td>\n",
       "      <td>RM</td>\n",
       "      <td>7.436999999999999</td>\n",
       "    </tr>\n",
       "    <tr>\n",
       "      <th>10</th>\n",
       "      <td>3</td>\n",
       "      <td>Left</td>\n",
       "      <td>RM</td>\n",
       "      <td>8.7525</td>\n",
       "    </tr>\n",
       "    <tr>\n",
       "      <th>11</th>\n",
       "      <td>3</td>\n",
       "      <td>Right</td>\n",
       "      <td>RM</td>\n",
       "      <td>8.7525</td>\n",
       "    </tr>\n",
       "  </tbody>\n",
       "</table>\n",
       "</div>"
      ],
      "text/plain": [
       "   Level   Side Variable          Threshold\n",
       "0      1   Left       RM              6.941\n",
       "1      2   Left    LSTAT              9.535\n",
       "2      3   Left      RAD               24.0\n",
       "3      3  Right      RAD               24.0\n",
       "4      2  Right    LSTAT              9.535\n",
       "5      1  Right       RM              6.941\n",
       "6      2   Left       RM  7.436999999999999\n",
       "7      3   Left      RAD                2.5\n",
       "8      3  Right      RAD                2.5\n",
       "9      2  Right       RM  7.436999999999999\n",
       "10     3   Left       RM             8.7525\n",
       "11     3  Right       RM             8.7525"
      ]
     },
     "execution_count": 26,
     "metadata": {},
     "output_type": "execute_result"
    }
   ],
   "source": [
    "splits_df"
   ]
  },
  {
   "cell_type": "markdown",
   "metadata": {},
   "source": [
    "The splits_df has four variables with level indicating the depth starts with 1 which is the root, side has either left or right with left being the condition is false and right being the condition is right. The threshold indicates the split point. "
   ]
  },
  {
   "cell_type": "code",
   "execution_count": 27,
   "metadata": {},
   "outputs": [
    {
     "data": {
      "text/html": [
       "<div>\n",
       "<style scoped>\n",
       "    .dataframe tbody tr th:only-of-type {\n",
       "        vertical-align: middle;\n",
       "    }\n",
       "\n",
       "    .dataframe tbody tr th {\n",
       "        vertical-align: top;\n",
       "    }\n",
       "\n",
       "    .dataframe thead th {\n",
       "        text-align: right;\n",
       "    }\n",
       "</style>\n",
       "<table border=\"1\" class=\"dataframe\">\n",
       "  <thead>\n",
       "    <tr style=\"text-align: right;\">\n",
       "      <th></th>\n",
       "      <th>Level</th>\n",
       "      <th>Side</th>\n",
       "      <th>Variable</th>\n",
       "      <th>Threshold</th>\n",
       "    </tr>\n",
       "  </thead>\n",
       "  <tbody>\n",
       "    <tr>\n",
       "      <th>0</th>\n",
       "      <td>1</td>\n",
       "      <td>Left</td>\n",
       "      <td>RM</td>\n",
       "      <td>6.941</td>\n",
       "    </tr>\n",
       "    <tr>\n",
       "      <th>5</th>\n",
       "      <td>1</td>\n",
       "      <td>Right</td>\n",
       "      <td>RM</td>\n",
       "      <td>6.941</td>\n",
       "    </tr>\n",
       "    <tr>\n",
       "      <th>1</th>\n",
       "      <td>2</td>\n",
       "      <td>Left</td>\n",
       "      <td>LSTAT</td>\n",
       "      <td>9.535</td>\n",
       "    </tr>\n",
       "    <tr>\n",
       "      <th>6</th>\n",
       "      <td>2</td>\n",
       "      <td>Left</td>\n",
       "      <td>RM</td>\n",
       "      <td>7.436999999999999</td>\n",
       "    </tr>\n",
       "    <tr>\n",
       "      <th>4</th>\n",
       "      <td>2</td>\n",
       "      <td>Right</td>\n",
       "      <td>LSTAT</td>\n",
       "      <td>9.535</td>\n",
       "    </tr>\n",
       "    <tr>\n",
       "      <th>9</th>\n",
       "      <td>2</td>\n",
       "      <td>Right</td>\n",
       "      <td>RM</td>\n",
       "      <td>7.436999999999999</td>\n",
       "    </tr>\n",
       "    <tr>\n",
       "      <th>2</th>\n",
       "      <td>3</td>\n",
       "      <td>Left</td>\n",
       "      <td>RAD</td>\n",
       "      <td>24.0</td>\n",
       "    </tr>\n",
       "    <tr>\n",
       "      <th>7</th>\n",
       "      <td>3</td>\n",
       "      <td>Left</td>\n",
       "      <td>RAD</td>\n",
       "      <td>2.5</td>\n",
       "    </tr>\n",
       "    <tr>\n",
       "      <th>10</th>\n",
       "      <td>3</td>\n",
       "      <td>Left</td>\n",
       "      <td>RM</td>\n",
       "      <td>8.7525</td>\n",
       "    </tr>\n",
       "    <tr>\n",
       "      <th>3</th>\n",
       "      <td>3</td>\n",
       "      <td>Right</td>\n",
       "      <td>RAD</td>\n",
       "      <td>24.0</td>\n",
       "    </tr>\n",
       "    <tr>\n",
       "      <th>8</th>\n",
       "      <td>3</td>\n",
       "      <td>Right</td>\n",
       "      <td>RAD</td>\n",
       "      <td>2.5</td>\n",
       "    </tr>\n",
       "    <tr>\n",
       "      <th>11</th>\n",
       "      <td>3</td>\n",
       "      <td>Right</td>\n",
       "      <td>RM</td>\n",
       "      <td>8.7525</td>\n",
       "    </tr>\n",
       "  </tbody>\n",
       "</table>\n",
       "</div>"
      ],
      "text/plain": [
       "   Level   Side Variable          Threshold\n",
       "0      1   Left       RM              6.941\n",
       "5      1  Right       RM              6.941\n",
       "1      2   Left    LSTAT              9.535\n",
       "6      2   Left       RM  7.436999999999999\n",
       "4      2  Right    LSTAT              9.535\n",
       "9      2  Right       RM  7.436999999999999\n",
       "2      3   Left      RAD               24.0\n",
       "7      3   Left      RAD                2.5\n",
       "10     3   Left       RM             8.7525\n",
       "3      3  Right      RAD               24.0\n",
       "8      3  Right      RAD                2.5\n",
       "11     3  Right       RM             8.7525"
      ]
     },
     "execution_count": 27,
     "metadata": {},
     "output_type": "execute_result"
    }
   ],
   "source": [
    "splits_df.sort_values(['Level', 'Side'])"
   ]
  },
  {
   "cell_type": "code",
   "execution_count": 28,
   "metadata": {},
   "outputs": [
    {
     "name": "stdout",
     "output_type": "stream",
     "text": [
      "Best column: RM\n",
      "Best Split: 6.941\n",
      "Depth: 1\n",
      "Side: Left\n",
      "Best column: LSTAT\n",
      "Best Split: 9.535\n",
      "Depth: 2\n",
      "Side: Left\n",
      "Best column: LSTAT\n",
      "Best Split: 9.524999999999999\n",
      "Depth: 2\n",
      "Side: Right\n",
      "Only one class is present: No further splits\n",
      "Depth: 1\n",
      "Side: Right\n",
      "Best column: RM\n",
      "Best Split: 7.436999999999999\n",
      "Depth: 2\n",
      "Side: Left\n",
      "Best column: LSTAT\n",
      "Best Split: 5.359999999999999\n",
      "Depth: 2\n",
      "Side: Right\n",
      "Best column: RM\n",
      "Best Split: 8.7525\n"
     ]
    }
   ],
   "source": [
    "build_tree(calcEntropy, X[['RM', 'LSTAT']], y['highPriced'], max_depth = 2)"
   ]
  },
  {
   "cell_type": "code",
   "execution_count": 286,
   "metadata": {},
   "outputs": [
    {
     "data": {
      "text/plain": [
       "<matplotlib.legend.Legend at 0x25b6975e860>"
      ]
     },
     "execution_count": 286,
     "metadata": {},
     "output_type": "execute_result"
    },
    {
     "data": {
      "image/png": "[encoded data removed]",
      "text/plain": [
       "<Figure size 864x576 with 1 Axes>"
      ]
     },
     "metadata": {
      "needs_background": "light"
     },
     "output_type": "display_data"
    }
   ],
   "source": [
    "#xx, yy = get_grid(X[['RM', 'LSTAT']].to_numpy())\n",
    "#target = y[['highPriced']].to_numpy()\n",
    "#plt.pcolormesh(xx, yy, target, cmap = 'autumn')\n",
    "plt.figure(figsize = (12, 8))\n",
    "plt.scatter(X[['RM']].values, X[['LSTAT']].values, c= y[['highPriced']].to_numpy(), s = 100,\n",
    "           cmap = 'autumn', edgecolors = 'black', linewidth = 1.5)\n",
    "plt.xlabel('RM')\n",
    "plt.ylabel('LSTAT')\n",
    "plt.axvline(6.941, 0, 9, label='RM[0]', color = 'green')\n",
    "plt.axvline(7.44, 0, 9, label='RM[1](Right)', color = 'green')\n",
    "#plt.axvline(8.75, 0, 9, label='RM[2]', color = 'green')\n",
    "plt.axhline(9.535, 0, 40, label='LSTAT[1](Left)', color = 'magenta')\n",
    "#plt.axhline(5.36, 0, 40, label='LSTAT[1]', color = 'magenta')\n",
    "plt.legend()"
   ]
  },
  {
   "cell_type": "markdown",
   "metadata": {},
   "source": [
    "In the above image, the red dots shows that the houses that are not high priced while the yellow dots represents the houses that are overpriced. From the initial look at the image we could see that the lot of houses that are overpriced have room counts greater than 7 at least. The Tree model identifies the ideal split at 6.941 which roughly translates to 7. After the first split, if the condition fails, the LSTAT variable splits at the point of 9.53. The lower status of the population variable doesn't necessarily improve the prediction as we could see there are a lot of low priced houses and some outliers when the LSTAT variable is less than 9.53. While when number of rooms is greater 7 but less than ~7.5 there are some mixes of high priced and low priced houses with low priced houses dominating and thus they would predict low priced houses but the leaf node is not that pure. But if the room count is greater than ~7.5, there are a lot of houses that are highPriced and the tree will predict them as high priced."
   ]
  },
  {
   "cell_type": "markdown",
   "metadata": {},
   "source": [
    "## Part 3"
   ]
  },
  {
   "cell_type": "markdown",
   "metadata": {},
   "source": [
    "### 10."
   ]
  },
  {
   "cell_type": "code",
   "execution_count": 29,
   "metadata": {},
   "outputs": [
    {
     "name": "stdout",
     "output_type": "stream",
     "text": [
      "[0, 5, 10, 15, 20, 25, 30, 35, 40, 45, 50, 55, 60, 65, 70, 75, 80, 85, 90, 95, 100, 105, 110, 115, 120, 125, 130, 135, 140, 145, 150, 155, 160, 165, 170, 175, 180, 185, 190, 195, 200, 205, 210, 215, 220, 225, 230, 235, 240, 245, 250, 255, 260, 265, 270, 275, 280, 285, 290, 295, 300, 305, 310, 315, 320, 325, 330, 335, 340, 345, 350, 355, 360, 365, 370, 375, 380, 385, 390, 395, 400, 405, 410, 415, 420, 425, 430, 435, 440, 445, 450, 455, 460, 465, 470, 475, 480, 485, 490, 495, 500, 505]\n"
     ]
    }
   ],
   "source": [
    "# Taking the multiples of five's as indices\n",
    "N = len(X)\n",
    "index_5 = []\n",
    "for i in range(0, N, 5):\n",
    "    index_5.append(i)\n",
    "    \n",
    "print(index_5)"
   ]
  },
  {
   "cell_type": "code",
   "execution_count": 30,
   "metadata": {},
   "outputs": [],
   "source": [
    "# Creating the test and train data set\n",
    "X_train, X_test, y_train, y_test = (X.drop(index_5).reset_index(), X.iloc[index_5].reset_index(),\n",
    "                                    y.drop(index_5).reset_index(), y.iloc[index_5].reset_index())"
   ]
  },
  {
   "cell_type": "code",
   "execution_count": 31,
   "metadata": {},
   "outputs": [
    {
     "data": {
      "text/plain": [
       "highPriced\n",
       "0    0.898515\n",
       "1    0.101485\n",
       "dtype: float64"
      ]
     },
     "execution_count": 31,
     "metadata": {},
     "output_type": "execute_result"
    }
   ],
   "source": [
    "y_train.groupby('highPriced').size().div(len(y_train))"
   ]
  },
  {
   "cell_type": "code",
   "execution_count": 32,
   "metadata": {},
   "outputs": [
    {
     "data": {
      "text/plain": [
       "highPriced\n",
       "0    0.931373\n",
       "1    0.068627\n",
       "dtype: float64"
      ]
     },
     "execution_count": 32,
     "metadata": {},
     "output_type": "execute_result"
    }
   ],
   "source": [
    "y_test.groupby('highPriced').size().div(len(y_test))"
   ]
  },
  {
   "cell_type": "code",
   "execution_count": 34,
   "metadata": {},
   "outputs": [
    {
     "data": {
      "text/html": [
       "<div>\n",
       "<style scoped>\n",
       "    .dataframe tbody tr th:only-of-type {\n",
       "        vertical-align: middle;\n",
       "    }\n",
       "\n",
       "    .dataframe tbody tr th {\n",
       "        vertical-align: top;\n",
       "    }\n",
       "\n",
       "    .dataframe thead th {\n",
       "        text-align: right;\n",
       "    }\n",
       "</style>\n",
       "<table border=\"1\" class=\"dataframe\">\n",
       "  <thead>\n",
       "    <tr style=\"text-align: right;\">\n",
       "      <th></th>\n",
       "      <th>index</th>\n",
       "      <th>CRIM</th>\n",
       "      <th>ZN</th>\n",
       "      <th>INDUS</th>\n",
       "      <th>CHAS</th>\n",
       "      <th>NOX</th>\n",
       "      <th>RM</th>\n",
       "      <th>AGE</th>\n",
       "      <th>DIS</th>\n",
       "      <th>RAD</th>\n",
       "      <th>TAX</th>\n",
       "      <th>PTRATIO</th>\n",
       "      <th>B</th>\n",
       "      <th>LSTAT</th>\n",
       "    </tr>\n",
       "  </thead>\n",
       "  <tbody>\n",
       "    <tr>\n",
       "      <th>0</th>\n",
       "      <td>1</td>\n",
       "      <td>0.02731</td>\n",
       "      <td>0.0</td>\n",
       "      <td>7.07</td>\n",
       "      <td>0.0</td>\n",
       "      <td>0.469</td>\n",
       "      <td>6.421</td>\n",
       "      <td>78.9</td>\n",
       "      <td>4.9671</td>\n",
       "      <td>2.0</td>\n",
       "      <td>242.0</td>\n",
       "      <td>17.8</td>\n",
       "      <td>396.90</td>\n",
       "      <td>9.14</td>\n",
       "    </tr>\n",
       "    <tr>\n",
       "      <th>1</th>\n",
       "      <td>2</td>\n",
       "      <td>0.02729</td>\n",
       "      <td>0.0</td>\n",
       "      <td>7.07</td>\n",
       "      <td>0.0</td>\n",
       "      <td>0.469</td>\n",
       "      <td>7.185</td>\n",
       "      <td>61.1</td>\n",
       "      <td>4.9671</td>\n",
       "      <td>2.0</td>\n",
       "      <td>242.0</td>\n",
       "      <td>17.8</td>\n",
       "      <td>392.83</td>\n",
       "      <td>4.03</td>\n",
       "    </tr>\n",
       "    <tr>\n",
       "      <th>2</th>\n",
       "      <td>3</td>\n",
       "      <td>0.03237</td>\n",
       "      <td>0.0</td>\n",
       "      <td>2.18</td>\n",
       "      <td>0.0</td>\n",
       "      <td>0.458</td>\n",
       "      <td>6.998</td>\n",
       "      <td>45.8</td>\n",
       "      <td>6.0622</td>\n",
       "      <td>3.0</td>\n",
       "      <td>222.0</td>\n",
       "      <td>18.7</td>\n",
       "      <td>394.63</td>\n",
       "      <td>2.94</td>\n",
       "    </tr>\n",
       "    <tr>\n",
       "      <th>3</th>\n",
       "      <td>4</td>\n",
       "      <td>0.06905</td>\n",
       "      <td>0.0</td>\n",
       "      <td>2.18</td>\n",
       "      <td>0.0</td>\n",
       "      <td>0.458</td>\n",
       "      <td>7.147</td>\n",
       "      <td>54.2</td>\n",
       "      <td>6.0622</td>\n",
       "      <td>3.0</td>\n",
       "      <td>222.0</td>\n",
       "      <td>18.7</td>\n",
       "      <td>396.90</td>\n",
       "      <td>5.33</td>\n",
       "    </tr>\n",
       "    <tr>\n",
       "      <th>4</th>\n",
       "      <td>6</td>\n",
       "      <td>0.08829</td>\n",
       "      <td>12.5</td>\n",
       "      <td>7.87</td>\n",
       "      <td>0.0</td>\n",
       "      <td>0.524</td>\n",
       "      <td>6.012</td>\n",
       "      <td>66.6</td>\n",
       "      <td>5.5605</td>\n",
       "      <td>5.0</td>\n",
       "      <td>311.0</td>\n",
       "      <td>15.2</td>\n",
       "      <td>395.60</td>\n",
       "      <td>12.43</td>\n",
       "    </tr>\n",
       "  </tbody>\n",
       "</table>\n",
       "</div>"
      ],
      "text/plain": [
       "   index     CRIM    ZN  INDUS  CHAS    NOX     RM   AGE     DIS  RAD    TAX  \\\n",
       "0      1  0.02731   0.0   7.07   0.0  0.469  6.421  78.9  4.9671  2.0  242.0   \n",
       "1      2  0.02729   0.0   7.07   0.0  0.469  7.185  61.1  4.9671  2.0  242.0   \n",
       "2      3  0.03237   0.0   2.18   0.0  0.458  6.998  45.8  6.0622  3.0  222.0   \n",
       "3      4  0.06905   0.0   2.18   0.0  0.458  7.147  54.2  6.0622  3.0  222.0   \n",
       "4      6  0.08829  12.5   7.87   0.0  0.524  6.012  66.6  5.5605  5.0  311.0   \n",
       "\n",
       "   PTRATIO       B  LSTAT  \n",
       "0     17.8  396.90   9.14  \n",
       "1     17.8  392.83   4.03  \n",
       "2     18.7  394.63   2.94  \n",
       "3     18.7  396.90   5.33  \n",
       "4     15.2  395.60  12.43  "
      ]
     },
     "execution_count": 34,
     "metadata": {},
     "output_type": "execute_result"
    }
   ],
   "source": [
    "X_train.head()"
   ]
  },
  {
   "cell_type": "markdown",
   "metadata": {},
   "source": [
    "The training data has got ten percent of high priced houses of the entire trained data and the test data has got 7 percent of the entire test data. The split between the test and train data are not exactly optimal but then we have got enough data in the training set so that the model can predict correctly in the test dataset."
   ]
  },
  {
   "cell_type": "markdown",
   "metadata": {},
   "source": [
    "### 11."
   ]
  },
  {
   "cell_type": "code",
   "execution_count": 35,
   "metadata": {},
   "outputs": [],
   "source": [
    "# Randomly generated predictions from the training data\n",
    "pred = y_train['highPriced'].sample(n = len(y_test), random_state = 42)"
   ]
  },
  {
   "cell_type": "code",
   "execution_count": 36,
   "metadata": {},
   "outputs": [
    {
     "data": {
      "text/plain": [
       "array([[83, 12],\n",
       "       [ 6,  1]], dtype=int64)"
      ]
     },
     "execution_count": 36,
     "metadata": {},
     "output_type": "execute_result"
    }
   ],
   "source": [
    "confusion_matrix(y_test['highPriced'], pred)"
   ]
  },
  {
   "cell_type": "code",
   "execution_count": 37,
   "metadata": {},
   "outputs": [
    {
     "name": "stdout",
     "output_type": "stream",
     "text": [
      "Accuracy: 0.824\n",
      "Recall: 0.143\n",
      "Precision: 0.077\n"
     ]
    }
   ],
   "source": [
    "print(\"Accuracy:\", round(accuracy_score(y_test['highPriced'], pred), 3))\n",
    "print(\"Recall:\", round(recall_score(y_test['highPriced'], pred), 3))\n",
    "print(\"Precision:\", round(precision_score(y_test['highPriced'], pred), 3))"
   ]
  },
  {
   "cell_type": "markdown",
   "metadata": {},
   "source": [
    "Though the predictions has a good accuracy score of 82% the precision and recall score are not that great. If this is a output of the model then we could say that the model cannot predict the high priced houses and the distribution of data betweeen the training and test set is not proper and thus, we have to redistribute in a proper way so that the model can see enough observations in both the classes."
   ]
  },
  {
   "cell_type": "markdown",
   "metadata": {},
   "source": [
    "### 12."
   ]
  },
  {
   "cell_type": "code",
   "execution_count": 38,
   "metadata": {},
   "outputs": [],
   "source": [
    "class DecisionTree():\n",
    "    \n",
    "    def __init__(self, depth = 1, max_depth = None):\n",
    "        self.depth = depth\n",
    "        self.max_depth = max_depth\n",
    "        \n",
    "    def build_tree(self, clf, X, y):\n",
    "    \n",
    "        if clf == calcEntropy:\n",
    "    \n",
    "            if len(y) == 1 or len(set(y)) == 1:\n",
    "                print(\"Only one class is present: No further splits\")\n",
    "                self.left = None\n",
    "                self.right = None\n",
    "                self.col = None\n",
    "                self.split = None\n",
    "                self.pred = y.iloc[0]\n",
    "                self.prob = 1\n",
    "                print(\"Pred:\", self.pred)\n",
    "        \n",
    "            else:\n",
    "    \n",
    "                cols = list(X)\n",
    "    \n",
    "                ig_max = 0\n",
    "                best_column = None\n",
    "                best_split = None\n",
    "    \n",
    "                for col in cols:\n",
    "                    ig, split = find_split(clf, X, y, col)\n",
    "                    #print(col, ig, split)\n",
    "                    if ig > ig_max:\n",
    "                        ig_max = ig\n",
    "                        best_column = col\n",
    "                        best_split = split\n",
    "                #print(\"Depth:\", self.depth)\n",
    "                print(\"Best column:\", best_column)\n",
    "                print(\"Best Split:\", best_split)\n",
    "                self.col = best_column\n",
    "                self.split = best_split\n",
    "    \n",
    "                if ig_max == 0:\n",
    "                    print(\"No further splits\")\n",
    "                    self.pred = round(y.mean())\n",
    "                    self.prob = y.mean()\n",
    "                    print(\"Pred:\", self.pred)\n",
    "        \n",
    "                else:\n",
    "                    #print(best_column, best_split)\n",
    "                    \n",
    "                    if self.depth == self.max_depth:\n",
    "                        self.left = None\n",
    "                        self.right = None\n",
    "                        self.pred = [\n",
    "                            round(y[X[best_column] < best_split].mean()),\n",
    "                            round(y[X[best_column] >= best_split].mean())\n",
    "                        ]\n",
    "                        self.prob = [\n",
    "                            y[X[best_column] < best_split].mean(),\n",
    "                            y[X[best_column] >= best_split].mean()\n",
    "                        ]\n",
    "                        print(\"Pred:\", self.pred)\n",
    "                \n",
    "                    else:\n",
    "                \n",
    "                        left_index = X[X[best_column] < best_split].index\n",
    "                        #print(\"Left:\", len(left_index))\n",
    "                        Xleft = X.loc[left_index]\n",
    "                        yleft = y.loc[left_index]\n",
    "                        print(\"Depth:\", self.depth+1)\n",
    "                        self.left = DecisionTree(1 + self.depth, self.max_depth)\n",
    "                        print(\"Left\")\n",
    "                        self.left.build_tree(clf, Xleft, yleft)\n",
    "                        \n",
    "    \n",
    "                        right_index = X[X[best_column] >= best_split].index\n",
    "                        #print(\"Right:\", len(right_index))\n",
    "                        Xright = X.loc[right_index]\n",
    "                        yright = y.loc[right_index]\n",
    "                        print(\"Depth:\", self.depth+1)\n",
    "                        self.right = DecisionTree(1 + self.depth, self.max_depth)\n",
    "                        print(\"Right\")\n",
    "                        self.right.build_tree(clf, Xright, yright)\n",
    "                        \n",
    "                        \n",
    "                    \n",
    "    # Identify the predictions for each observation                   \n",
    "    def predict_values(self, x):\n",
    "        \n",
    "        # Traverses from the root node \n",
    "        if self.col is not None and self.split is not None:\n",
    "            values = x[self.col]\n",
    "            if values < self.split:\n",
    "                if self.left:\n",
    "                    v = self.left.predict_values(x)\n",
    "                else:\n",
    "                    v = self.pred[0]\n",
    "            else:\n",
    "                if self.right:\n",
    "                    v = self.right.predict_values(x)\n",
    "                else:\n",
    "                    v = self.pred[1]\n",
    "                    \n",
    "        else:\n",
    "            # Shows that it has only one prediction\n",
    "            v = self.pred\n",
    "        \n",
    "        return v\n",
    "    \n",
    "    def predict_proba(self, x):\n",
    "        \n",
    "        if self.col is not None and self.split is not None:\n",
    "            values = x[self.col]\n",
    "            if values < self.split:\n",
    "                if self.left:\n",
    "                    v = self.left.predict_proba(x)\n",
    "                else:\n",
    "                    v = self.prob[0]\n",
    "            else:\n",
    "                if self.right:\n",
    "                    v = self.right.predict_proba(x)\n",
    "                else:\n",
    "                    v = self.prob[1]\n",
    "                    \n",
    "        else:\n",
    "            v = self.prob\n",
    "            \n",
    "        return v\n",
    "    # Predicts the output for every observation and returns an array of predictions\n",
    "    def predict(self, X):\n",
    "        N = len(X)\n",
    "        P = np.zeros(N)\n",
    "        for i in range(N):\n",
    "            P[i] = self.predict_values(X.iloc[i])\n",
    "        return P\n",
    "    \n",
    "    def predict_prob(self, X):\n",
    "        N = len(X)\n",
    "        Prob = np.zeros((N, 2))\n",
    "        for i in range(N):\n",
    "            Prob[i][0] = self.predict_proba(X.iloc[i])\n",
    "            Prob[i][1] = 1 - Prob[i][0]\n",
    "        return Prob"
   ]
  },
  {
   "cell_type": "markdown",
   "metadata": {},
   "source": [
    "The above decision tree model is written based on the course provided by LazyProgrammer on Udemy. The link to the course is: https://www.udemy.com/course/data-science-supervised-machine-learning-in-python/"
   ]
  },
  {
   "cell_type": "code",
   "execution_count": 39,
   "metadata": {},
   "outputs": [],
   "source": [
    "t = DecisionTree(max_depth = 2)"
   ]
  },
  {
   "cell_type": "code",
   "execution_count": 40,
   "metadata": {},
   "outputs": [
    {
     "name": "stdout",
     "output_type": "stream",
     "text": [
      "Best column: RM\n",
      "Best Split: 7.127000000000001\n",
      "Depth: 2\n",
      "Left\n",
      "Best column: LSTAT\n",
      "Best Split: 5.115\n",
      "Pred: [0, 0]\n",
      "Depth: 2\n",
      "Right\n",
      "Best column: RM\n",
      "Best Split: 7.436999999999999\n",
      "Pred: [0, 1]\n"
     ]
    }
   ],
   "source": [
    "t.build_tree(calcEntropy, X_train[['RM', 'LSTAT']], y_train['highPriced'])"
   ]
  },
  {
   "cell_type": "code",
   "execution_count": 44,
   "metadata": {},
   "outputs": [],
   "source": [
    "prediction = t.predict(X_test[['RM', 'LSTAT']])"
   ]
  },
  {
   "cell_type": "code",
   "execution_count": 45,
   "metadata": {},
   "outputs": [
    {
     "data": {
      "text/plain": [
       "array([[95,  0],\n",
       "       [ 3,  4]], dtype=int64)"
      ]
     },
     "execution_count": 45,
     "metadata": {},
     "output_type": "execute_result"
    }
   ],
   "source": [
    "confusion_matrix(y_test['highPriced'], prediction)"
   ]
  },
  {
   "cell_type": "code",
   "execution_count": 46,
   "metadata": {},
   "outputs": [
    {
     "name": "stdout",
     "output_type": "stream",
     "text": [
      "Accuracy: 0.971\n",
      "Recall: 0.571\n",
      "Precision: 1.0\n"
     ]
    }
   ],
   "source": [
    "print(\"Accuracy:\", round(accuracy_score(y_test['highPriced'], prediction), 3))\n",
    "print(\"Recall:\", round(recall_score(y_test['highPriced'], prediction), 3))\n",
    "print(\"Precision:\", round(precision_score(y_test['highPriced'], prediction), 3))"
   ]
  },
  {
   "cell_type": "markdown",
   "metadata": {},
   "source": [
    "This model performs obviously better than the randomly generated samples from the training data as we could see the precision and recall score has improved significantly better and so is the accuracy score. Due to the better distribution of the data, the model was able to classify between the high priced and not high priced houses and get right 97% of the time. Let us see how the model performs with sklearn classifiers."
   ]
  },
  {
   "cell_type": "markdown",
   "metadata": {},
   "source": [
    "### 13. Decision Tree Classifier - Sklearn"
   ]
  },
  {
   "cell_type": "code",
   "execution_count": 47,
   "metadata": {},
   "outputs": [],
   "source": [
    "dtree = DecisionTreeClassifier(criterion = 'entropy', max_depth = 2)\n",
    "dtree.fit(X_train[['RM', 'LSTAT']], y_train['highPriced'])\n",
    "predict_tree = dtree.predict(X_test[['RM', 'LSTAT']])"
   ]
  },
  {
   "cell_type": "code",
   "execution_count": 48,
   "metadata": {},
   "outputs": [
    {
     "data": {
      "text/plain": [
       "array([[95,  3],\n",
       "       [ 0,  4]], dtype=int64)"
      ]
     },
     "execution_count": 48,
     "metadata": {},
     "output_type": "execute_result"
    }
   ],
   "source": [
    "confusion_matrix(predict_tree, y_test['highPriced'])"
   ]
  },
  {
   "cell_type": "code",
   "execution_count": 49,
   "metadata": {},
   "outputs": [
    {
     "name": "stdout",
     "output_type": "stream",
     "text": [
      "Accuracy: 0.971\n",
      "Recall: 0.571\n",
      "Precision: 1.0\n"
     ]
    }
   ],
   "source": [
    "print(\"Accuracy:\", round(accuracy_score(y_test['highPriced'], predict_tree), 3))\n",
    "print(\"Recall:\", round(recall_score(y_test['highPriced'], predict_tree), 3))\n",
    "print(\"Precision:\", round(precision_score(y_test['highPriced'], predict_tree), 3))"
   ]
  },
  {
   "cell_type": "code",
   "execution_count": 50,
   "metadata": {},
   "outputs": [
    {
     "data": {
      "text/plain": [
       "array([0, 0, 0, 0, 0, 0, 0, 0, 0, 0, 0, 0, 0, 0, 0, 0, 0, 0, 0, 0, 0, 0,\n",
       "       0, 0, 0, 0, 0, 0, 0, 0, 0, 0, 0, 0, 0, 0, 1, 0, 0, 1, 0, 0, 0, 0,\n",
       "       0, 1, 0, 0, 0, 0, 0, 0, 0, 0, 0, 0, 1, 0, 0, 0, 0, 0, 0, 0, 0, 0,\n",
       "       0, 0, 0, 0, 0, 0, 0, 0, 0, 0, 0, 0, 0, 0, 0, 0, 0, 0, 0, 0, 0, 0,\n",
       "       0, 0, 0, 0, 0, 0, 0, 0, 0, 0, 0, 0, 0, 0], dtype=int64)"
      ]
     },
     "execution_count": 50,
     "metadata": {},
     "output_type": "execute_result"
    }
   ],
   "source": [
    "dtree.predict(X_test[['RM', 'LSTAT']])"
   ]
  },
  {
   "cell_type": "code",
   "execution_count": 51,
   "metadata": {},
   "outputs": [
    {
     "data": {
      "text/plain": [
       "array([ True,  True,  True,  True,  True,  True,  True,  True,  True,\n",
       "        True,  True,  True,  True,  True,  True,  True,  True,  True,\n",
       "        True,  True,  True,  True,  True,  True,  True,  True,  True,\n",
       "        True,  True,  True,  True,  True,  True,  True,  True,  True,\n",
       "        True,  True,  True,  True,  True,  True,  True,  True,  True,\n",
       "        True,  True,  True,  True,  True,  True,  True,  True,  True,\n",
       "        True,  True,  True,  True,  True,  True,  True,  True,  True,\n",
       "        True,  True,  True,  True,  True,  True,  True,  True,  True,\n",
       "        True,  True,  True,  True,  True,  True,  True,  True,  True,\n",
       "        True,  True,  True,  True,  True,  True,  True,  True,  True,\n",
       "        True,  True,  True,  True,  True,  True,  True,  True,  True,\n",
       "        True,  True,  True])"
      ]
     },
     "execution_count": 51,
     "metadata": {},
     "output_type": "execute_result"
    }
   ],
   "source": [
    "dtree.predict(X_test[['RM', 'LSTAT']]) == t.predict(X_test[['RM', 'LSTAT']])"
   ]
  },
  {
   "cell_type": "code",
   "execution_count": 52,
   "metadata": {},
   "outputs": [
    {
     "data": {
      "text/plain": [
       "0"
      ]
     },
     "execution_count": 52,
     "metadata": {},
     "output_type": "execute_result"
    }
   ],
   "source": [
    "(t.predict_prob(X_test[['RM', 'LSTAT']])[:, 0] != dtree.predict_proba(X_test[['RM', 'LSTAT']])[:, 1]).sum()"
   ]
  },
  {
   "cell_type": "code",
   "execution_count": 54,
   "metadata": {},
   "outputs": [
    {
     "name": "stdout",
     "output_type": "stream",
     "text": [
      "Best column: RM\n",
      "Best Split: 7.127000000000001\n",
      "Depth: 2\n",
      "Left\n",
      "Best column: LSTAT\n",
      "Best Split: 5.115\n",
      "Pred: [0, 0]\n",
      "Depth: 2\n",
      "Right\n",
      "Best column: RM\n",
      "Best Split: 7.436999999999999\n",
      "Pred: [0, 1]\n"
     ]
    }
   ],
   "source": [
    "t.build_tree(calcEntropy, X_train[['RM', 'LSTAT']], y_train['highPriced'])"
   ]
  },
  {
   "cell_type": "code",
   "execution_count": 53,
   "metadata": {},
   "outputs": [
    {
     "data": {
      "text/plain": [
       "'|--- feature_0 <= 7.13\\n|   |--- feature_1 <= 5.12\\n|   |   |--- class: 0\\n|   |--- feature_1 >  5.12\\n|   |   |--- class: 0\\n|--- feature_0 >  7.13\\n|   |--- feature_0 <= 7.44\\n|   |   |--- class: 0\\n|   |--- feature_0 >  7.44\\n|   |   |--- class: 1\\n'"
      ]
     },
     "execution_count": 53,
     "metadata": {},
     "output_type": "execute_result"
    }
   ],
   "source": [
    "export_text(dtree)"
   ]
  },
  {
   "cell_type": "markdown",
   "metadata": {},
   "source": [
    "We could see that the Decision Tree classifier has the same level of predictions on comparison with the classifier we built and we could see that the probabilities and the predictions are as same as the model we built."
   ]
  },
  {
   "cell_type": "markdown",
   "metadata": {},
   "source": [
    "The decision tree classifier of the sklearn library was able to predict all the not high priced houses perfectly while it was not able to predict the high priced houses. Though it has high precision, it has a very low recall. With more samples on the high priced houses, the model might be able to predict them properly with high precision."
   ]
  },
  {
   "cell_type": "markdown",
   "metadata": {},
   "source": [
    "### 14. Bagging Classifier"
   ]
  },
  {
   "cell_type": "code",
   "execution_count": 55,
   "metadata": {},
   "outputs": [],
   "source": [
    "bagging = BaggingClassifier()\n",
    "bagging.fit(X_train[['RM', 'LSTAT']], y_train['highPriced'])\n",
    "predict_bag = bagging.predict(X_test[['RM', 'LSTAT']])"
   ]
  },
  {
   "cell_type": "code",
   "execution_count": 56,
   "metadata": {},
   "outputs": [
    {
     "data": {
      "text/plain": [
       "array([[92,  2],\n",
       "       [ 3,  5]], dtype=int64)"
      ]
     },
     "execution_count": 56,
     "metadata": {},
     "output_type": "execute_result"
    }
   ],
   "source": [
    "confusion_matrix(predict_bag, y_test['highPriced'])"
   ]
  },
  {
   "cell_type": "code",
   "execution_count": 57,
   "metadata": {},
   "outputs": [
    {
     "name": "stdout",
     "output_type": "stream",
     "text": [
      "Accuracy: 0.951\n",
      "Recall: 0.714\n",
      "Precision: 0.625\n"
     ]
    }
   ],
   "source": [
    "print(\"Accuracy:\", round(accuracy_score(y_test['highPriced'], predict_bag), 3))\n",
    "print(\"Recall:\", round(recall_score(y_test['highPriced'], predict_bag), 3))\n",
    "print(\"Precision:\", round(precision_score(y_test['highPriced'], predict_bag), 3))"
   ]
  },
  {
   "cell_type": "markdown",
   "metadata": {},
   "source": [
    "The bagging classifier tries to increase the weight of the high priced houses to predict them properly but in the process it predicted not high priced houses wrongly. The bagging classifier tries to increase the recall but in the process decreased the precision."
   ]
  },
  {
   "cell_type": "markdown",
   "metadata": {},
   "source": [
    "### 15. Random Forest Classifier"
   ]
  },
  {
   "cell_type": "code",
   "execution_count": 75,
   "metadata": {},
   "outputs": [
    {
     "name": "stderr",
     "output_type": "stream",
     "text": [
      "C:\\Users\\Gana\\Anaconda3\\lib\\site-packages\\sklearn\\ensemble\\forest.py:245: FutureWarning: The default value of n_estimators will change from 10 in version 0.20 to 100 in 0.22.\n",
      "  \"10 in version 0.20 to 100 in 0.22.\", FutureWarning)\n"
     ]
    }
   ],
   "source": [
    "rand_forest = RandomForestClassifier(criterion = 'entropy', random_state = 42)\n",
    "rand_forest.fit(X_train[['RM', 'LSTAT']], y_train['highPriced'])\n",
    "predict_rand_forest = rand_forest.predict(X_test[['RM', 'LSTAT']])"
   ]
  },
  {
   "cell_type": "code",
   "execution_count": 76,
   "metadata": {},
   "outputs": [
    {
     "data": {
      "text/plain": [
       "array([[95,  2],\n",
       "       [ 0,  5]], dtype=int64)"
      ]
     },
     "execution_count": 76,
     "metadata": {},
     "output_type": "execute_result"
    }
   ],
   "source": [
    "confusion_matrix(predict_rand_forest, y_test['highPriced'])"
   ]
  },
  {
   "cell_type": "code",
   "execution_count": 77,
   "metadata": {},
   "outputs": [
    {
     "name": "stdout",
     "output_type": "stream",
     "text": [
      "Accuracy: 0.98\n",
      "Recall: 0.714\n",
      "Precision: 1.0\n"
     ]
    }
   ],
   "source": [
    "print(\"Accuracy:\", round(accuracy_score(y_test['highPriced'], predict_rand_forest), 3))\n",
    "print(\"Recall:\", round(recall_score(y_test['highPriced'], predict_rand_forest), 3))\n",
    "print(\"Precision:\", round(precision_score(y_test['highPriced'], predict_rand_forest), 3))"
   ]
  },
  {
   "cell_type": "markdown",
   "metadata": {},
   "source": [
    "The Random Forest classifier, an extension of the bagging trees model, actually does a pretty good job at classifying the high priced and low priced houses with an accuracy score of 98% and a precision score of perfect 100% and recall score of ~71%. The model actually handles the class imbalance really better and gives the best performance among all the models that have been considered. "
   ]
  },
  {
   "cell_type": "code",
   "execution_count": null,
   "metadata": {},
   "outputs": [],
   "source": []
  }
 ],
 "metadata": {
  "kernelspec": {
   "display_name": "Python 3",
   "language": "python",
   "name": "python3"
  },
  "language_info": {
   "codemirror_mode": {
    "name": "ipython",
    "version": 3
   },
   "file_extension": ".py",
   "mimetype": "text/x-python",
   "name": "python",
   "nbconvert_exporter": "python",
   "pygments_lexer": "ipython3",
   "version": "3.7.3"
  }
 },
 "nbformat": 4,
 "nbformat_minor": 2
}
